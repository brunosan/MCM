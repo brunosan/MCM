{
 "metadata": {
  "name": "NCR Trail Marathon"
 },
 "nbformat": 3,
 "nbformat_minor": 0,
 "worksheets": [
  {
   "cells": [
    {
     "cell_type": "code",
     "collapsed": false,
     "input": [
      "#Import all runner info from the csv prepared with Google Refine\n",
      "import csv\n",
      "runners=[]\n",
      "\n",
      "filename='NCR-trail-marathon.csv'\n",
      "f = open(filename, 'rt')\n",
      "try:\n",
      "    reader = csv.DictReader(f)\n",
      "    for row in reader:\n",
      "        runners.append(row)\n",
      "finally:\n",
      "    f.close()"
     ],
     "language": "python",
     "metadata": {},
     "outputs": [],
     "prompt_number": 93
    },
    {
     "cell_type": "code",
     "collapsed": false,
     "input": [
      "#Remove items where not all data is available\n",
      "runners=[r for r in runners if (r[\"Chip Time\"]!=None or r[\"HTime\"]!=None)]"
     ],
     "language": "python",
     "metadata": {},
     "outputs": [],
     "prompt_number": 94
    },
    {
     "cell_type": "code",
     "collapsed": false,
     "input": [
      "import time\n",
      "#Fix Times into seconds\n",
      "def getSec(time):\n",
      "    l=time.split(':')\n",
      "    if type(time)==str and len(l)==3:\n",
      "            return int(l[0]) * 3600 + int(l[1]) * 60 + float(l[2])\n",
      "    \n",
      "for timeitem in [\"Chip Time\",\"Gun Time\",\"FTime\",\"HTime\"]:\n",
      "    for runner in runners:\n",
      "        runner[timeitem]=getSec(runner[timeitem])\n",
      "print runners[0][\"Gun Time\"]        \n",
      "\n",
      "for runner in runners:\n",
      "    runner[\"Age\"]=int(runner[\"Age\"])\n",
      "    \n",
      "print runners[0][\"Age\"]"
     ],
     "language": "python",
     "metadata": {},
     "outputs": [
      {
       "output_type": "stream",
       "stream": "stdout",
       "text": [
        "10239.7\n",
        "37\n"
       ]
      }
     ],
     "prompt_number": 95
    },
    {
     "cell_type": "code",
     "collapsed": false,
     "input": [
      "from collections import Counter\n",
      "\n",
      "for runner in runners:\n",
      "    runner[\"Age\"]=int(runner[\"Age\"])"
     ],
     "language": "python",
     "metadata": {},
     "outputs": [],
     "prompt_number": 96
    },
    {
     "cell_type": "code",
     "collapsed": false,
     "input": [
      "import numpy as np\n",
      "import matplotlib.pyplot as plt\n",
      "#Histogram of Ages\n",
      "Ages=np.array(map(float,[r['Age'] for r in runners if 'Age' in r]))\n",
      "Ages_m=np.array(map(float,[r['Age'] for r in runners if r['Gender'].strip()=='M']))\n",
      "Ages_f=np.array(map(float,[r['Age'] for r in runners if r['Gender'].strip()=='F']))\n",
      "\n",
      "plt.hist((Ages_f,Ages_m),np.arange(1,20.)*5,histtype='bar',label=('Female','Male'),color=('red','blue'))\n",
      "plt.legend()\n",
      "plt.xticks(np.arange(1,20)*5)\n",
      "plt.xlabel('Age')\n",
      "plt.ylabel('Runners')\n",
      "plt.title('Age histogram by Gender')\n",
      "plt.show()\n"
     ],
     "language": "python",
     "metadata": {},
     "outputs": [],
     "prompt_number": 109
    },
    {
     "cell_type": "code",
     "collapsed": false,
     "input": [
      "#Histogram of Time\n",
      "Time=np.array(map(float,[r['Chip Time'] for r in runners if type(r['Chip Time'])==float]))/60/60\n",
      "Time_m=np.array(map(float,[r['Chip Time'] for r in runners if (type(r['Chip Time'])==float and r['Gender'].strip()==\"M\")]))/60/60\n",
      "Time_f=np.array(map(float,[r['Chip Time'] for r in runners if (type(r['Chip Time'])==float and r['Gender'].strip()==\"F\")]))/60/60\n",
      "\n",
      "plt.hist((Time_f,Time_m),np.arange(2*5,7.5*5)/5.,histtype='bar',label=('Female','Male'),color=('red','blue'))\n",
      "plt.legend()\n",
      "plt.xticks(np.arange(2*5,7.5*5)/5.,rotation=45)\n",
      "plt.xlabel('Hours')\n",
      "plt.ylabel('Runners')\n",
      "plt.title('Time histogram by Gender')\n",
      "plt.show()"
     ],
     "language": "python",
     "metadata": {},
     "outputs": [],
     "prompt_number": 57
    },
    {
     "cell_type": "code",
     "collapsed": false,
     "input": [
      "\n",
      "#scatter\n",
      "\n",
      "plt.scatter(Ages_f,Time_f,marker='x',color='red',label='Female')\n",
      "plt.scatter(Ages_m,Time_m,marker='x',color='blue',label='Male')\n",
      "plt.scatter(Ages_f,Time_f,marker='x',color='red')\n",
      "plt.xlabel('Age')\n",
      "plt.ylabel('Hours')\n",
      "plt.title('Scatterplot Hours by Age')\n",
      "plt.legend()\n",
      "plt.show()\n"
     ],
     "language": "python",
     "metadata": {},
     "outputs": [],
     "prompt_number": 110
    },
    {
     "cell_type": "code",
     "collapsed": false,
     "input": [
      "#CONTINUE HERE\n",
      "\n",
      "\n",
      "#Histogram of Half Time\n",
      "HTime_m=np.array(map(float,[r['HTime'] for r in runners if ('HTime' in r and r['HTime']!=None and r['Gender'].strip()=='M')]))/60/60\n",
      "HTime_f=np.array(map(float,[r['HTime'] for r in runners if ('HTime' in r and r['HTime']!=None and r['Gender'].strip()=='F')]))/60/60\n",
      "\n",
      "Time_H_m=np.array(map(float,[r['Chip Time'] for r in runners if ('HTime' in r and r['HTime']!=None and r['Gender'].strip()=='M')]))/60/60\n",
      "Time_H_f=np.array(map(float,[r['Chip Time'] for r in runners if ('HTime'  in r and r['HTime']!=None and r['Gender'].strip()=='F')]))/60/60\n",
      "Ages_H_f=np.array(map(float,[r['Age'] for r in runners if ('HTime' in r and r['HTime']!=None and r['Gender'].strip()=='F') ]))\n",
      "Ages_H_m=np.array(map(float,[r['Age'] for r in runners if ('HTime' in r and r['HTime']!=None and r['Gender'].strip()=='M') ]))\n",
      "\n",
      "#Scatter\n",
      "plt.scatter(Time_H_m-(HTime_m*2),Ages_H_m, color='blue',label='Male')\n",
      "plt.scatter(Time_H_f-(HTime_f*2),Ages_H_f, color='red', label='Female')\n",
      "plt.xlabel('Excess hours from 2*Half_time')\n",
      "plt.ylabel('Age')\n",
      "plt.title('Scatterplot Excess Time by Age')\n",
      "plt.legend()\n",
      "plt.show()\n",
      "\n",
      "\n",
      "\n"
     ],
     "language": "python",
     "metadata": {},
     "outputs": [],
     "prompt_number": 112
    },
    {
     "cell_type": "code",
     "collapsed": false,
     "input": [
      "NCR={\"Time_H_m\":Time_H_m,\"HTime_m\":HTime_m,\"Ages_H_m\":Ages_H_m,\n",
      "    \"Time_H_f\":Time_H_f,\"HTime_f\":HTime_f,\"Ages_H_f\":Ages_H_f,\n",
      "    \"Ages_m\":Ages_m,\"Time_m\":Time_m,\n",
      "    \"Ages_f\":Ages_f,\"Time_f\":Time_f}\n",
      "\n",
      "#SAVE to file\n",
      "import pickle \n",
      "pickle.dump( NCR, open( \"NCR-set.pck\", \"wb\" ) )\n",
      "#pickle.load( open( \"save.p\", \"rb\" ) )"
     ],
     "language": "python",
     "metadata": {},
     "outputs": [],
     "prompt_number": 122
    },
    {
     "cell_type": "code",
     "collapsed": false,
     "input": [],
     "language": "python",
     "metadata": {},
     "outputs": []
    }
   ],
   "metadata": {}
  }
 ]
}