{
 "metadata": {
  "name": "Compare"
 },
 "nbformat": 3,
 "nbformat_minor": 0,
 "worksheets": [
  {
   "cells": [
    {
     "cell_type": "code",
     "collapsed": false,
     "input": [
      "import pickle \n",
      "NCR=pickle.load( open( \"NCR/NCR-set.pck\", \"rb\" ) )\n",
      "MCM=pickle.load( open( \"MCM/MCM-set.pck\", \"rb\" ) )\n"
     ],
     "language": "python",
     "metadata": {},
     "outputs": [],
     "prompt_number": 6
    },
    {
     "cell_type": "code",
     "collapsed": false,
     "input": [
      "plt.hist?"
     ],
     "language": "python",
     "metadata": {},
     "outputs": [],
     "prompt_number": 9
    },
    {
     "cell_type": "code",
     "collapsed": false,
     "input": [
      "import numpy as np\n",
      "import matplotlib.pyplot as plt\n",
      "\n",
      "plt.hist((MCM[\"Ages_f\"],MCM[\"Ages_m\"]),np.arange(1,20.)*5,histtype='bar',\n",
      "        label=('Female','Male'),color=('red','blue'),normed=True)\n",
      "plt.hist((NCR[\"Ages_f\"],NCR[\"Ages_m\"]),np.arange(1,20.)*5,histtype='bar',\n",
      "        label=('Female','Male'),color=('red','blue'),normed=True,  fill=False)\n",
      "plt.legend()\n",
      "plt.xticks(np.arange(1,20)*5)\n",
      "plt.xlabel('Age')\n",
      "plt.ylabel('Runners')\n",
      "plt.title('Age histogram by Gender')\n",
      "plt.show()\n"
     ],
     "language": "python",
     "metadata": {},
     "outputs": [],
     "prompt_number": 23
    },
    {
     "cell_type": "code",
     "collapsed": false,
     "input": [
      "\n",
      "plt.hist((MCM[\"Time_f\"],MCM[\"Time_m\"]),np.arange(2*5,7.5*5)/5.,histtype='bar',\n",
      "        label=('MCM Female','MCM Male'),color=('red','blue'),normed=True)\n",
      "plt.hist((NCR[\"Time_f\"],NCR[\"Time_m\"]),np.arange(2*5,7.5*5)/5.,histtype='bar',\n",
      "        label=('NCR Female','NCR Male'),color=('Pink','LightCyan'),normed=True,alpha=0.7)\n",
      "\n",
      "plt.legend()\n",
      "plt.xticks(np.arange(2*5,7.5*5)/5.,rotation=45)\n",
      "plt.xlabel('Hours')\n",
      "plt.ylabel('Runners')\n",
      "plt.title('Time histogram by Gender')\n",
      "plt.show()"
     ],
     "language": "python",
     "metadata": {},
     "outputs": [],
     "prompt_number": 48
    },
    {
     "cell_type": "code",
     "collapsed": false,
     "input": [
      "#scatter\n",
      "\n",
      "plt.scatter(MCM[\"Ages_f\"],MCM[\"Time_f\"],marker='o',color='Pink',label='MCM Female')\n",
      "plt.scatter(MCM[\"Ages_m\"],MCM[\"Time_m\"],marker='o',color='LightCyan',label='MCM Male')\n",
      "\n",
      "plt.scatter(NCR[\"Ages_f\"],NCR[\"Time_f\"],marker='x',color='red',label='NCR Female',alpha=0.7)\n",
      "plt.scatter(NCR[\"Ages_m\"],NCR[\"Time_m\"],marker='x',color='blue',label='NCR Male',alpha=0.7)\n",
      "\n",
      "plt.xlabel('Age')\n",
      "plt.ylabel('Hours')\n",
      "plt.title('Scatterplot Hours by Age')\n",
      "plt.legend()\n",
      "plt.show()\n"
     ],
     "language": "python",
     "metadata": {},
     "outputs": [],
     "prompt_number": 46
    },
    {
     "cell_type": "code",
     "collapsed": false,
     "input": [
      "#Scatter\n",
      "plt.scatter(MCM[\"Time_H_m\"]-(MCM[\"HTime_m\"]*2),MCM[\"Ages_H_m\"], color='LightCyan',label='MCM Male',alpha=1)\n",
      "plt.scatter(MCM[\"Time_H_f\"]-(MCM[\"HTime_f\"]*2),MCM[\"Ages_H_f\"], color='Pink', label='MCM Female',alpha=1)\n",
      "\n",
      "plt.scatter(NCR[\"Time_H_m\"]-(NCR[\"HTime_m\"]*2),NCR[\"Ages_H_m\"], color='blue',label='NCR Male')\n",
      "plt.scatter(NCR[\"Time_H_f\"]-(NCR[\"HTime_f\"]*2),NCR[\"Ages_H_f\"], color='red', label='NCR Female')\n",
      "\n",
      "plt.xlabel('Excess hours from 2*Half_time')\n",
      "plt.ylabel('Age')\n",
      "plt.title('Scatterplot Excess Time by Age')\n",
      "plt.legend()\n",
      "plt.show()"
     ],
     "language": "python",
     "metadata": {},
     "outputs": [],
     "prompt_number": 40
    },
    {
     "cell_type": "code",
     "collapsed": false,
     "input": [],
     "language": "python",
     "metadata": {},
     "outputs": [],
     "prompt_number": 122
    },
    {
     "cell_type": "code",
     "collapsed": false,
     "input": [],
     "language": "python",
     "metadata": {},
     "outputs": []
    }
   ],
   "metadata": {}
  }
 ]
}