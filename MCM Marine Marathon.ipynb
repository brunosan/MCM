{
 "metadata": {
  "name": "MCM Marine Marathon"
 },
 "nbformat": 3,
 "nbformat_minor": 0,
 "worksheets": [
  {
   "cells": [
    {
     "cell_type": "code",
     "collapsed": false,
     "input": [
      "#Import all runner info from the csv prepared with Google Refine\n",
      "import csv\n",
      "runner=[]\n",
      "f = open('MCM.csv', 'rt')\n",
      "try:\n",
      "    reader = csv.DictReader(f)\n",
      "    for row in reader:\n",
      "        runner.append(row)\n",
      "finally:\n",
      "    f.close()"
     ],
     "language": "python",
     "metadata": {},
     "outputs": [],
     "prompt_number": 2
    },
    {
     "cell_type": "code",
     "collapsed": false,
     "input": [
      "#Get a list of cities and Ages\n",
      "#Count uniques\n",
      "from collections import Counter\n",
      "\n",
      "Places=[r['Location'] for r in runner if 'Location' in r]\n",
      "Places_counts = Counter(Places)\n",
      "len(Places_counts)\n",
      "Places_counts.most_common(10)\n",
      "\n",
      "\n",
      "#Make a dictionary with Places, their location, and number of runners\n",
      "Places_dic={}\n",
      "for r in runner:\n",
      "    for P in Places_counts:\n",
      "\t\n",
      "\tif r['Location']==P:  #runner is from that place\n",
      "\t\tif P in Places_dic:\n",
      "\t\t  #not the first time, add info to this location\n",
      "\t\t  Places_dic[P]['runners']+=1\n",
      "\t\t  Places_dic[P]['Time'].append(int(r['ChipTimeSeconds']))\n",
      "\t\t  Places_dic[P]['Ages'].append(int(r['Age']))\n",
      "\t\t  Places_dic[P]['Gender'].append(r['Sex'])\n",
      "\t\t  if Places_dic[P]['lat']=='':\n",
      "\t\t\tPlaces_dic[P]['lat']=r['lat']\n",
      "\t\t\tprint 'gotcha'\n",
      "\t\t  if Places_dic[P]['lng']=='':\n",
      "\t\t\tPlaces_dic[P]['lng']=r['lat']\n",
      "\t\t\tprint 'gotcha'\n",
      "\t\telse:\n",
      "\t\t  #first time, add dictionary\n",
      "\t\t  Places_dic[P]={}\n",
      "\t\t  Places_dic[P]['runners']=1\n",
      "\t\t  Places_dic[P]['Time']=[int(r['ChipTimeSeconds'])]\n",
      "\t\t  Places_dic[P]['Ages']=[int(r['Age'])]\n",
      "\t\t  Places_dic[P]['Gender']=[r['Sex']]\n",
      "\t\t  Places_dic[P]['lat']=r['lat']\n",
      "\t\t  Places_dic[P]['lng']=r['lng']\n",
      "\t\t  print 'new place:',P\n",
      "\n",
      "#add pertentiles to Places\n",
      "from scipy import stats\n",
      "for P in Places_dic:\n",
      "\tages=np.asarray(Places_dic[P]['Ages'])\n",
      "\ttimes=np.asarray(Places_dic[P]['Time'])\n",
      "\tPlaces_dic[P]['Age_p']=[stats.scoreatpercentile(ages,10),stats.scoreatpercentile(ages,50),stats.scoreatpercentile(ages,90)]\n",
      "\tPlaces_dic[P]['Times_p']=[stats.scoreatpercentile(times,10),stats.scoreatpercentile(times,50),stats.scoreatpercentile(times,90)]\n",
      "\tPlaces_dic[P]['Gender']=[Places_dic['WASHINGTON,DC']['Gender'].count('M'),Places_dic['WASHINGTON,DC']['Gender'].count('F')]\t\n",
      "\tPlaces_dic[P]['fastest']=np.min(times)\n",
      "\tPlaces_dic[P]['median']=np.median(times)\n",
      "\n",
      "\n",
      "#Save aggregated data to csv\n",
      "writer = csv.writer(open(\"MCM-a.csv\", 'w'), delimiter=',',quoting=csv.QUOTE_ALL)\n",
      "header=['Location']\n",
      "for key in Places_dic[\"WASHINGTON,DC\"]:\n",
      "\theader.append(key)\n",
      "writer.writerow(header)\n",
      "\n",
      "for P in Places_dic:\n",
      "\trow=[P]\n",
      "\tfor key in Places_dic[P]:\n",
      "\t\trow.append(Places_dic[P][key])\n",
      "\twriter.writerow(row)\n"
     ],
     "language": "python",
     "metadata": {},
     "outputs": []
    },
    {
     "cell_type": "code",
     "collapsed": false,
     "input": [
      "Ages=[r['Age'] for r in runner if 'Age' in r]\n",
      "Age_counts = Counter(Ages)\n",
      "len(Age_counts)\n",
      "Age_counts.most_common(10)\n",
      "\n",
      "\n",
      "import numpy as np\n",
      "import matplotlib.pyplot as plt\n",
      "#Histogram of Ages\n",
      "Ages=np.array(map(float,[r['Age'] for r in runner if 'Age' in r]))\n",
      "Ages_m=np.array(map(float,[r['Age'] for r in runner if r['Sex']=='M']))\n",
      "Ages_f=np.array(map(float,[r['Age'] for r in runner if r['Sex']=='F']))\n",
      "\n",
      "plt.hist((Ages_f,Ages_m),np.arange(1,20.)*5,histtype='bar',label=('Female','Male'),color=('red','blue'))\n",
      "plt.legend()\n",
      "plt.xticks(np.arange(1,20)*5)\n",
      "plt.xlabel('Age')\n",
      "plt.ylabel('Runners')\n",
      "plt.title('Age histogram by Gender')\n",
      "plt.show()\n"
     ],
     "language": "python",
     "metadata": {},
     "outputs": [],
     "prompt_number": 3
    },
    {
     "cell_type": "code",
     "collapsed": false,
     "input": [
      "\n",
      "#Histogram of Time\n",
      "Time=np.array(map(float,[r['ChipTimeSeconds'] for r in runner if 'ChipTimeSeconds' in r]))/60/60\n",
      "Time_m=np.array(map(float,[r['ChipTimeSeconds'] for r in runner if r['Sex']=='M']))/60/60\n",
      "Time_f=np.array(map(float,[r['ChipTimeSeconds'] for r in runner if r['Sex']=='F']))/60/60\n",
      "\n",
      "plt.hist((Time_f,Time_m),np.arange(2*5,7.5*5)/5.,histtype='bar',label=('Female','Male'),color=('red','blue'))\n",
      "plt.legend()\n",
      "plt.xticks(np.arange(2*5,7.5*5)/5.,rotation=45)\n",
      "plt.xlabel('Hours')\n",
      "plt.ylabel('Runners')\n",
      "plt.title('Time histogram by Gender')\n",
      "plt.show()\n",
      "\n",
      "#scatter\n",
      "\n",
      "plt.scatter(Ages_f,Time_f,marker='.',color='red',label='Female')\n",
      "plt.scatter(Ages_m,Time_m,marker='.',color='blue',label='Male')\n",
      "plt.scatter(Ages_f,Time_f,marker='.',color='red')\n",
      "plt.xlabel('Age')\n",
      "plt.ylabel('Hours')\n",
      "plt.title('Scatterplot Hours by Age')\n",
      "plt.legend()\n",
      "plt.show()\n",
      "\n",
      "#Scatter with subsample of pairs\n",
      "import random\n",
      "subl=random.sample(np.arange(1,len(Ages)),1000)\n",
      "subl_m=random.sample(np.arange(1,len(Ages_m)),7000)\n",
      "subl_f=random.sample(np.arange(1,len(Ages_f)),7000)\n",
      "sub_Time_m=list( Time_m[i] for i in subl_m)\n",
      "sub_Time_f=list( Time_f[i] for i in subl_f )\n",
      "sub_Ages_m=list( Ages_m[i] for i in subl_m )\n",
      "sub_Ages_f=list( Ages_f[i] for i in subl_f )\n",
      "\n",
      "plt.scatter(sub_Ages_f,sub_Time_f,marker='.',color='red')\n",
      "plt.scatter(sub_Ages_m,sub_Time_m,marker='.',color='blue')\n",
      "plt.scatter(sub_Ages_f,sub_Time_f,marker='.',color='red')\n",
      "plt.xlabel('Age')\n",
      "plt.ylabel('Hours')\n",
      "plt.title('Scatterplot Hours by Age')\n",
      "plt.show()\n",
      "\n",
      "#Get Half marathon time in seconds:\n",
      "for run in runner:\n",
      "  if run['Half']:\n",
      "\ttime=run['Half'].split(':')\n",
      "\trun['HalfTime']=(float(time[0])*60*60)+(float(time[1])*60)+(float(time[2]))\n",
      "\n",
      "\n",
      "#Histogram of Half Time\n",
      "HTime_m=np.array(map(float,[r['HalfTime'] for r in runner if ('HalfTime' in r and r['Sex']=='M')]))/60/60\n",
      "HTime_f=np.array(map(float,[r['HalfTime'] for r in runner if ('HalfTime' in r and r['Sex']=='F') ]))/60/60\n",
      "HTime=np.array(map(float,[r['HalfTime'] for r in runner if 'HalfTime' in r]))/60/60\n",
      "\n",
      "Time_H=np.array(map(float,[r['ChipTimeSeconds'] for r in runner if 'HalfTime' in r]))/60/60\n",
      "Ages_H=np.array(map(float,[r['Age'] for r in runner if 'HalfTime' in r]))\n",
      "Time_H_m=np.array(map(float,[r['ChipTimeSeconds'] for r in runner if ('HalfTime' in r and r['Sex']=='M')]))/60/60\n",
      "Time_H_f=np.array(map(float,[r['ChipTimeSeconds'] for r in runner if ('HalfTime'  in r and r['Sex']=='F')]))/60/60\n",
      "Ages_H_f=np.array(map(float,[r['Age'] for r in runner if ('HalfTime' in r and r['Sex']=='F') ]))\n",
      "Ages_H_m=np.array(map(float,[r['Age'] for r in runner if ('HalfTime' in r and r['Sex']=='M') ]))\n",
      "\n",
      "#Scatter\n",
      "plt.scatter(Time_H_m-(HTime_m*2),Ages_H_m, color='blue',label='Male')\n",
      "plt.scatter(Time_H_f-(HTime_f*2),Ages_H_f, color='red', label='Female')\n",
      "plt.xlabel('Excess hours from 2*Half_time')\n",
      "plt.ylabel('Age')\n",
      "plt.title('Scatterplot Excess Time by Age')\n",
      "plt.legend()\n",
      "plt.show()\n",
      "\n",
      "\n",
      "\n",
      "#Function to get seconds from time like 1:30:30\n",
      "def count_sec(lista):\n",
      "\treturn np.sum(np.array([np.int(a) for a in lista.split(':')])*[60*60,60,1])\n",
      "#Order by ClockTime-ChipTime (similar to order before start)\t\n",
      "for r in runner:\n",
      "\tr['Start_order']=count_sec(r['ChipTime'])-count_sec(r['ClockTime'])\n",
      "\tr['End_order']=count_sec(r['ChipTime'])\n",
      "\n",
      "Start=sorted(runner, key=lambda k: k['Start_order'])\n",
      "End=  sorted(runner, key=lambda k: k['End_order'])\n",
      "\n",
      "#Change in the order\n",
      "from operator import itemgetter\n",
      "change=[]\n",
      "for r in runner:\n",
      "\tindex_s=map(itemgetter('Bib'),Start).index(r['Bib'])\n",
      "\tindex_e=map(itemgetter('Bib'),End).index(r['Bib'])\n",
      "\tr['Change']=index_s-index_e\n",
      "\n",
      "changes=np.array(map(float,[r['Change'] for r in runner if 'Change' in r]))\n",
      "Time_H=np.array(map(float,[r['ChipTimeSeconds'] for r in runner if 'ChipTimeSeconds' in r]))/60/60\n",
      "plt.scatter(changes,Time_H)\n",
      "plt.show()"
     ],
     "language": "python",
     "metadata": {},
     "outputs": [
      {
       "output_type": "stream",
       "stream": "stdout",
       "text": [
        "new place: COLORADO SPRINGS,CO\n",
        "new place: ELLICOTT CITY,MD\n",
        "new place: WASHINGTON,DC\n",
        "new place: ALEXANDRA,VA\n",
        "new place: FALLS CHURCH,VA\n",
        "new place: VIRGINIA BEACH,VA\n",
        "new place: DURHAM,NC\n",
        "new place: ANNAPOLIS,MD\n",
        "new place: ERIE,PA\n",
        "new place: \n",
        "new place: ALEXANDRIA,VA\n",
        "new place: FAIRFAX,VA\n",
        "new place: SUGAR LAND,TX\n",
        "new place: MONUMENT,CO\n",
        "new place:"
       ]
      },
      {
       "output_type": "stream",
       "stream": "stdout",
       "text": [
        " COLUMBIA,MD\n",
        "new place: SAN CLEMENTE,CA\n",
        "new place: NEW ORLEANS,LA\n",
        "new place: FLAGSTAFF,AZ\n",
        "new place: EXTON,PA\n",
        "new place: CAMP PENDLETON,CA\n",
        "new place: CENTENNIAL,CO\n",
        "gotcha\n",
        "gotcha\n",
        "new place: "
       ]
      },
      {
       "output_type": "stream",
       "stream": "stdout",
       "text": [
        "VIENNA,VA\n",
        "new place: MINNEOLA,FL\n",
        "gotcha\n",
        "gotcha\n",
        "new place: ROCHESTER HILLS,MI\n",
        "new place: KENSINGTON,MD\n",
        "new place: MONTEREY,CA\n",
        "new place: SHEPERDSTOWN,WV\n",
        "new place: SEATTLE,WA\n",
        "new place: BERKELEY,CA\n",
        "new place: CARLSBAD,CA\n",
        "new place: NEW YORK,NY\n",
        "new place:"
       ]
      },
      {
       "output_type": "stream",
       "stream": "stdout",
       "text": [
        " USAF ACADEMY,CO\n",
        "new place: ALBUQUERQUE,NM\n",
        "new place: ARLINGTON,VA\n",
        "new place: RICHMOND,VA\n",
        "new place: QUANTICO,VA\n",
        "gotcha\n",
        "gotcha\n",
        "gotcha\n",
        "gotcha\n",
        "new place: WAXHAW,NC\n",
        "gotcha\n",
        "gotcha\n",
        "gotcha"
       ]
      },
      {
       "output_type": "stream",
       "stream": "stdout",
       "text": [
        "\n",
        "gotcha\n",
        "new place: SILVER SPRING,MD\n",
        "new place:"
       ]
      },
      {
       "output_type": "stream",
       "stream": "stdout",
       "text": [
        " SOUTH RIDING,VA\n",
        "new place: LORTON,VA\n",
        "new place: CHARLOTTESVILLE,VA\n",
        "new place:"
       ]
      },
      {
       "output_type": "stream",
       "stream": "stdout",
       "text": [
        " BALTIMORE,MD\n",
        "new place: OSSINING,NY\n",
        "new place: APO,AE\n",
        "new place: LOUISVILLE,KY\n",
        "new place: CHEVY CHASE,MD\n",
        "new place: RANDOLPH,ME\n",
        "new place: NIAGARA FALLS,NY\n",
        "new place: DOVER,DE\n",
        "new place:"
       ]
      },
      {
       "output_type": "stream",
       "stream": "stdout",
       "text": [
        " JERSEY SHORE,PA\n",
        "new place: ABERDEEN,SD\n",
        "new place: DAYTON,OH\n",
        "new place: MYRTLE BEACH,SC\n",
        "new place: BOWIE,MD\n",
        "new place: FRONT ROYAL,VA\n",
        "new place: HARRISBURG,PA\n",
        "new place: THE WOODLANDS,TX\n",
        "new place: ROCKVILLE,MD\n",
        "gotcha\n",
        "gotcha\n",
        "new place: CINCINNATI,OH\n",
        "new place: MCMURRAY,PA\n",
        "new place: CROFTON,MD\n",
        "new place: OCEANSIDE,CA\n",
        "new place: OAKTON,VA\n",
        "new place: AUBURN,AL\n",
        "new place:"
       ]
      },
      {
       "output_type": "stream",
       "stream": "stdout",
       "text": [
        " GAINESVILLE,VA\n",
        "new place: BOWLING GREEN,KY\n",
        "new place: NEW HAVEN,CT\n",
        "new place: WEST ROXBURY,MA\n",
        "new place: HELOTES,TX\n",
        "new place: MCLEAN,VA\n",
        "new place: RALEIGH,NC\n",
        "new place: MECHANICSVILLE,MD\n",
        "new place: VERNON,CT\n",
        "new place: LOCUST GROVE,VA\n",
        "gotcha\n",
        "gotcha\n",
        "gotcha\n",
        "gotcha\n",
        "new place: WOODBRIDGE,VA\n",
        "new place:"
       ]
      },
      {
       "output_type": "stream",
       "stream": "stdout",
       "text": [
        " PALMER,AK\n",
        "new place: EAST STROUDSBURG,PA\n",
        "new place: NORWALK,CT\n",
        "new place: BRISTOW,VA\n",
        "new place: RESTON,VA\n",
        "new place: BRISTOL,RI\n",
        "new place: WINCHESTER,VA\n",
        "new place: GAITHERSBURG,MD\n",
        "new place: CLEVELAND HEIGHTS,OH\n",
        "new place: CHANTILLY,VA\n",
        "new place: LAKE STEVENS,WA\n",
        "new place: CHESAPEAKE BEACH,MD\n",
        "new place: PITTSBURGH,PA\n",
        "new place: BERNARDSVILLE,NJ\n",
        "new place: BRANDON,FL\n",
        "new place:"
       ]
      },
      {
       "output_type": "stream",
       "stream": "stdout",
       "text": [
        " BOLLING AFB,DC\n",
        "new place: GREENVILLE,NC\n",
        "new place: GENEVA,IL\n",
        "new place: UNIVERSITY PARK,MD\n",
        "new place: BROOKLINE,MA\n",
        "new place: WESLEY CHAPEL,FL\n",
        "new place: FREDERICKSBURG,VA\n",
        "new place: SAN DIEGO,CA\n",
        "new place: SUCCASUNNA,NJ\n",
        "new place: VANCOUVER,WA\n",
        "new place:"
       ]
      },
      {
       "output_type": "stream",
       "stream": "stdout",
       "text": [
        " FORT HUACHUCA,AZ\n",
        "new place: ATLANTA,GA\n",
        "new place: LONG BEACH,CA\n",
        "new place: CORNING,NY\n",
        "new place: LOS ALTOS,CA\n",
        "new place: SPRINGFIELD,VA\n",
        "new place: ASHBURN,VA\n",
        "new place: QUINCY,MA\n",
        "new place: BETHLEHEM,PA\n",
        "new place: EAST AURORA,NY\n",
        "new place: DELTONA,FL\n",
        "new place:"
       ]
      },
      {
       "output_type": "stream",
       "stream": "stdout",
       "text": [
        " HAVELOCK,NC\n",
        "new place: WATERTOWN,NY\n",
        "new place: LAWRENCEVILLE,NJ\n",
        "new place: NEWTON,MA\n",
        "new place: PENSACOLA,FL\n",
        "new place: PRINCETON,MA\n",
        "new place: WEST POINT,NY\n",
        "new place: ESTACADA,OR\n",
        "new place: LAND O LAKES,FL\n",
        "new place: GREENVILLE,SC\n",
        "gotcha\n",
        "gotcha\n",
        "new place: ROCHESTER,MN\n",
        "new place: SANDYSTON,NJ\n",
        "new place: MECHANICSBURG,PA\n",
        "new place: HENRICO,VA\n",
        "new place:"
       ]
      },
      {
       "output_type": "stream",
       "stream": "stdout",
       "text": [
        " MADISON,MS\n",
        "new place: DALLAS,TX\n",
        "new place: ST PAUL,MN\n",
        "new place: WHEELING,WV\n",
        "new place: MEDFORD,MA\n",
        "new place: NORTH BETHESDA,MD\n",
        "new place: TRUMBULL,CT\n",
        "new place: PLAINFIELD,IL\n",
        "new place: OLNEY,MD\n",
        "new place: HOBOKEN,NJ\n",
        "new place:"
       ]
      },
      {
       "output_type": "stream",
       "stream": "stdout",
       "text": [
        " SAN ANTONIO,TX\n",
        "new place: SOUTH BOSTON,MA\n",
        "new place: MARTINSBURG,WV\n",
        "new place: ANNANDALE,VA\n",
        "new place: LANGHORNE,PA\n",
        "new place: DELRAN,NJ\n",
        "new place: PHOENIX,AZ\n",
        "new place: COLLEGE PARK,MD\n",
        "new place: HOUSTON,TX\n",
        "new place: BELLE VERNON,PA\n",
        "new place: YORKTOWN,VA\n",
        "gotcha\n",
        "gotcha\n",
        "gotcha"
       ]
      },
      {
       "output_type": "stream",
       "stream": "stdout",
       "text": [
        "\n",
        "gotcha\n",
        "gotcha\n",
        "gotcha\n",
        "new place: MANASSAS,VA\n",
        "new place: WEST CHESTER,PA\n",
        "new place: ELMENDORF AIR FORC,AK\n",
        "new place: OAK HILL,VA\n",
        "new place:"
       ]
      },
      {
       "output_type": "stream",
       "stream": "stdout",
       "text": [
        " MILLERSVILLE,MD\n",
        "new place: SUNNYVALE,CA\n",
        "new place: MOUNT PLEASANT,SC\n",
        "new place: DELMAR,NY\n",
        "new place: ARDMORE,PA\n",
        "new place: WILMINGTON,DE\n",
        "new place: EMERALD ISLE,NC\n",
        "new place: OWINGS,MD\n",
        "new place:"
       ]
      },
      {
       "output_type": "stream",
       "stream": "stdout",
       "text": [
        " GRAFTON,MA\n",
        "new place: STAFFORD,VA\n",
        "gotcha\n",
        "gotcha\n",
        "gotcha\n",
        "gotcha\n",
        "new place: INDIANAPOLIS,IN\n",
        "new place: RIDGELAND,MS\n",
        "gotcha\n",
        "gotcha\n",
        "new place:"
       ]
      },
      {
       "output_type": "stream",
       "stream": "stdout",
       "text": [
        " PHILADELPHIA,PA\n",
        "new place: PRINCETON,NJ\n",
        "new place: EAST BRUNSWICK,NJ\n",
        "new place: ANCHORAGE,AK\n",
        "gotcha\n",
        "gotcha\n",
        "new place: PORTSMOUTH,RI\n",
        "gotcha\n",
        "gotcha\n",
        "new place: PARKTON,MD\n",
        "new place: CHAMBERSBURG,PA\n",
        "new place: CARNEGIE,PA\n",
        "new place:"
       ]
      },
      {
       "output_type": "stream",
       "stream": "stdout",
       "text": [
        " GREAT NECK,NY\n",
        "new place: NORTHVILLE,MI\n",
        "new place: PEACHTREE CITY,GA\n",
        "new place: JACKSONVILLE,NC\n",
        "new place: MORRISTOWN,NJ\n",
        "new place: NEWPORT BEACH,CA\n",
        "new place: WESTFORD,VT\n",
        "new place: MINNEAPOLIS,MN\n",
        "new place:"
       ]
      },
      {
       "output_type": "stream",
       "stream": "stdout",
       "text": [
        " CORNELIUS,NC\n",
        "new place: BURLINGTON,KY\n",
        "new place: OCEANSDIE,CA\n",
        "gotcha\n",
        "gotcha\n",
        "new place: LEXINGTON,SC\n",
        "new place: PAPILLION,NE\n",
        "new place: TRURO,MA\n",
        "new place: POTOMAC,MD\n",
        "new place: CUMMING,GA\n",
        "new place:"
       ]
      },
      {
       "output_type": "stream",
       "stream": "stdout",
       "text": [
        " RUSSELL,PA\n",
        "new place: WILLOUGHBY,OH\n",
        "gotcha\n",
        "gotcha\n",
        "new place: LITITZ,PA\n",
        "new place: SEVERN,MD\n",
        "new place: SOMERVILLE,MA\n",
        "gotcha\n",
        "gotcha\n",
        "new place: CROTON,NY\n",
        "new place:"
       ]
      },
      {
       "output_type": "stream",
       "stream": "stdout",
       "text": [
        " PRAIRIE VILLAGE,KS\n",
        "new place: WHISPERING PINES,NC\n",
        "new place: DOWNINGTOWN,PA\n",
        "gotcha\n",
        "gotcha\n",
        "new place: CLEVELAND,OH\n",
        "new place: CENTREVILLE,VA\n",
        "gotcha\n",
        "gotcha\n",
        "new place:"
       ]
      },
      {
       "output_type": "stream",
       "stream": "stdout",
       "text": [
        " NORTH POTOMAC,MD\n",
        "new place: LINCOLN,RI\n",
        "new place: REDMOND,WA\n",
        "gotcha\n",
        "gotcha\n",
        "new place: BROOKFIELD,WI\n",
        "new place: GLEN ELLYN,IL\n",
        "new place: "
       ]
      },
      {
       "output_type": "stream",
       "stream": "stdout",
       "text": [
        "VALDOSTA,GA\n",
        "new place: BATON ROUGE,LA\n",
        "new place: CHARLOTTE,NC\n",
        "new place: EMMAUS,PA\n",
        "new place: HOLLAND,MI\n",
        "new place: BETHESDA,MD\n",
        "gotcha\n",
        "gotcha\n",
        "new place: NATICK,MA\n",
        "new place: LAUREL,MD\n",
        "new place: HYATTSVILLE,MD\n",
        "new place:"
       ]
      },
      {
       "output_type": "stream",
       "stream": "stdout",
       "text": [
        " GAINESVILLE,FL\n",
        "new place: PLYMOUTH,MA\n",
        "new place: APT 109,DC\n",
        "new place: NEWARK,NJ\n",
        "new place: SAINT SIMONS ISLAN,GA\n",
        "new place: WEAVERVILLE,NC\n",
        "gotcha\n",
        "gotcha\n",
        "new place: SAINT JOHNS,FL\n",
        "new place: WASHOUGAL,WA\n",
        "new place: TABOR CITY,NC\n",
        "new place:"
       ]
      },
      {
       "output_type": "stream",
       "stream": "stdout",
       "text": [
        " JACKSONVILLE,FL\n",
        "gotcha\n",
        "gotcha\n",
        "new place: LIGONIER,PA\n",
        "new place: HERNDON,VA\n",
        "new place: NORCROSS,GA\n",
        "new place: CANTON,GA\n",
        "new place: HOLLIS,NH\n",
        "gotcha\n",
        "gotcha\n",
        "gotcha\n",
        "gotcha\n",
        "gotcha"
       ]
      },
      {
       "output_type": "stream",
       "stream": "stdout",
       "text": [
        "\n",
        "gotcha\n",
        "new place: MONTGOMERY,AL\n",
        "gotcha\n",
        "gotcha\n",
        "new place: BERKELEY HEIGHTS,NJ\n",
        "new place: FORT COLLINS,CO\n",
        "gotcha\n",
        "gotcha\n",
        "new place: MELROSE,MA\n",
        "new place: CINCINNAATI,OH\n",
        "new place: SALT LAKE CITY,UT\n",
        "new place: GRAHAM,WA\n",
        "new place: GRAYSLAKE,IL\n",
        "new place:"
       ]
      },
      {
       "output_type": "stream",
       "stream": "stdout",
       "text": [
        " DAVIDSONVILLE,MD\n",
        "new place: ANNVILLE,PA\n",
        "new place: WAKE FOREST,NC\n",
        "new place: CHICAGO,IL\n",
        "new place: TAKOMA PARK,MD\n",
        "new place: BUCKHANNON,WV\n",
        "new place: FANNETTSBURG,PA\n",
        "gotcha\n",
        "gotcha\n",
        "gotcha\n",
        "gotcha\n",
        "gotcha\n",
        "gotcha\n",
        "new place: BRANDENBURG,KY\n",
        "gotcha\n",
        "gotcha\n",
        "new place:"
       ]
      },
      {
       "output_type": "stream",
       "stream": "stdout",
       "text": [
        " JOHNSON CITY,TN\n",
        "new place: VERNON,NJ\n",
        "new place: ALESANDRIA,VA\n",
        "new place: FLEMINGTON,NJ\n",
        "new place: CALIFON,NJ\n",
        "new place: MONTPELIER,VT\n",
        "new place: STOW,OH\n",
        "gotcha\n",
        "gotcha\n",
        "new place: BRIGHTON,CO\n",
        "new place: DARIEN,CT\n",
        "new place:"
       ]
      },
      {
       "output_type": "stream",
       "stream": "stdout",
       "text": [
        " PELLA,IA\n",
        "new place: CENTER VALLEY,PA\n",
        "new place: WINSTON-SALEM,NC\n",
        "new place: SOUTHBURY,CT\n",
        "new place: WILLISTON,VT\n",
        "new place: TACOMA,WA\n",
        "gotcha\n",
        "gotcha\n",
        "gotcha\n",
        "gotcha\n",
        "gotcha\n",
        "gotcha\n",
        "new place: RIVERSIDE,CA\n",
        "new place: DES PERES,MO\n",
        "new place: SCHERTZ,TX\n",
        "gotcha"
       ]
      },
      {
       "output_type": "stream",
       "stream": "stdout",
       "text": [
        "\n",
        "gotcha\n",
        "gotcha\n",
        "gotcha\n",
        "gotcha\n",
        "gotcha\n",
        "new place: MARLTON,NJ\n",
        "new place: LEESBURG,VA\n",
        "gotcha\n",
        "gotcha\n",
        "new place: SEASIDE,CA\n",
        "new place: GERMANTOWN,MD\n",
        "new place: RONKONKOMA,NY\n",
        "new place: PASADENA,MD\n",
        "new place: PORTLAND,OR\n",
        "new place: HAUPPAUGE,NY\n",
        "new place: ST. LOUIS,MO\n",
        "gotcha"
       ]
      },
      {
       "output_type": "stream",
       "stream": "stdout",
       "text": [
        "\n",
        "gotcha\n",
        "new place: NORFOLK,VA\n",
        "new place: DILLSBURG,PA\n",
        "new place: CHURCHVILLE,MD\n",
        "new place: BOSTON,MA\n",
        "new place: STERLING,VA\n",
        "new place: SLATE HILL,NY\n",
        "new place: LANHAM,MD\n",
        "new place: "
       ]
      },
      {
       "output_type": "stream",
       "stream": "stdout",
       "text": [
        "BOCA RATON,FL\n",
        "new place: WEST SIMSBURY,CT\n",
        "new place: NORTHFIELD,MN\n",
        "new place: DAVIE,FL\n",
        "new place: PEARL CITY,HI\n",
        "new place: PORT TOBACCO,MD\n",
        "new place: CHESAPEAKE,VA\n",
        "new place: VALLEY GROVE,WV\n",
        "new place: WINNETKA,IL\n",
        "new place: GEORGETOWN,TX\n",
        "new place:"
       ]
      },
      {
       "output_type": "stream",
       "stream": "stdout",
       "text": [
        " CAMBRIDGE,MA\n",
        "new place: BROOKEVILLE,MD\n",
        "new place: HAMMOND,LA\n",
        "new place: BEL AIR,MD\n",
        "gotcha\n",
        "gotcha\n",
        "new place: AURORA,OH\n",
        "new place: BURKE,VA\n",
        "new place: OKEMOS,MI\n",
        "new place: MANWAH,NJ\n",
        "new place: BROOKLYN,NY\n",
        "gotcha"
       ]
      },
      {
       "output_type": "stream",
       "stream": "stdout",
       "text": [
        "\n",
        "gotcha\n",
        "new place: TAMPA,FL\n",
        "new place: N MASSAPEQUA,NY\n",
        "new place: WILDWOOD,MO\n",
        "new place: CICERO,NY\n",
        "gotcha\n",
        "gotcha\n",
        "new place: MUSCLE SHOALS,AL\n",
        "new place: WILMINGTON,NC\n",
        "new place:"
       ]
      },
      {
       "output_type": "stream",
       "stream": "stdout",
       "text": [
        " WESTFIELD,NJ\n",
        "new place: KENT,OH\n",
        "gotcha\n",
        "gotcha\n",
        "new place: GOFFSTOWN,NH\n",
        "new place: HAVERHILL,MA\n",
        "new place: TUCSON,AZ\n",
        "new place: MATTHEWS,NC\n",
        "gotcha"
       ]
      },
      {
       "output_type": "stream",
       "stream": "stdout",
       "text": [
        "\n",
        "gotcha\n",
        "new place: NASHVILLE,TN\n",
        "new place: CALIFORNIA,MD\n",
        "gotcha\n",
        "gotcha\n",
        "gotcha\n",
        "gotcha\n",
        "gotcha\n",
        "gotcha\n",
        "new place: COVENTRY,RI\n",
        "new place:"
       ]
      },
      {
       "output_type": "stream",
       "stream": "stdout",
       "text": [
        " DERWOOD,MD\n",
        "new place: NEW BERN,NC\n",
        "new place: METAIRIE,LA\n",
        "new place: LEAVENWORTH,KS\n",
        "new place: FORT SILL,OK\n",
        "gotcha\n",
        "gotcha\n",
        "new place: HAMPTON,NH\n",
        "new place: HILLSBORO,OR\n",
        "new place: SHAKER HEIGHTS,OH\n",
        "gotcha\n",
        "gotcha\n",
        "new place: HINSDALE,IL\n",
        "new place: GREER,SC\n",
        "gotcha"
       ]
      },
      {
       "output_type": "stream",
       "stream": "stdout",
       "text": [
        "\n",
        "gotcha\n",
        "gotcha\n",
        "gotcha\n",
        "new place: WAPPINGERS FALLS,NY\n",
        "new place: OMAHA,NE\n",
        "new place: PURCELLVILLE,VA\n",
        "new place: NY,NY\n",
        "new place: ROANOKE,VA\n",
        "gotcha\n",
        "gotcha\n",
        "new place:"
       ]
      },
      {
       "output_type": "stream",
       "stream": "stdout",
       "text": [
        " FORT CAMPBELL,KY\n",
        "gotcha\n",
        "gotcha\n",
        "new place: EASTHAMPTON,MA\n",
        "new place: ORLANDO,FL\n",
        "gotcha\n",
        "gotcha\n",
        "new place: ALBANY,NY\n",
        "new place: OVIEDO,FL\n",
        "new place: MILTON,VT\n",
        "gotcha\n",
        "gotcha\n",
        "new place: SNEADS FERRY,NC\n",
        "new place: TEMPE,AZ\n",
        "new place:"
       ]
      },
      {
       "output_type": "stream",
       "stream": "stdout",
       "text": [
        " EVERGREEN,CO\n",
        "new place: ORCHARD PARK,NY\n",
        "new place: NORTH ANDOVER,MA\n",
        "new place: ELKTON,MD\n",
        "new place: BROOKIYN,NY\n",
        "new place: ABINGDON,MD\n",
        "new place: SARTELL,MN\n",
        "new place: BIRMINGHAM,AL\n",
        "new place: KNOXVILLE,TN\n",
        "new place: SEA CLIFF,NY\n",
        "new place:"
       ]
      },
      {
       "output_type": "stream",
       "stream": "stdout",
       "text": [
        " WILLIAMSBURG,VA\n",
        "new place: RENO,NV\n",
        "new place: SIERRA VISTA,AZ\n",
        "new place: DES PLAINES,IL\n",
        "new place: SHEPPARD AFB,TX\n",
        "gotcha\n",
        "gotcha\n",
        "new place: NEW CUMBERLAND,PA\n",
        "gotcha\n",
        "gotcha\n",
        "new place: GLEN ROCK,PA\n",
        "new place: YORK,PA\n",
        "gotcha\n",
        "gotcha\n",
        "new place:"
       ]
      },
      {
       "output_type": "stream",
       "stream": "stdout",
       "text": [
        " BEVERLY,MA\n",
        "new place: BAY VILLAGE,OH\n",
        "new place: RIDGEFIELD,CT\n",
        "new place: LEBANON,PA\n",
        "new place: WESTERVILLE,OH\n",
        "new place: COLUMBIA,SC\n",
        "new place: HAYMARKET,VA\n",
        "new place: BEAUFORT,SC\n",
        "gotcha"
       ]
      },
      {
       "output_type": "stream",
       "stream": "stdout",
       "text": [
        "\n",
        "gotcha\n",
        "new place: SAN MARCOS,CA\n",
        "gotcha\n",
        "gotcha\n",
        "new place: LYNCHBURG,VA\n",
        "new place: ADVANCE,NC\n",
        "new place: MIDLOTHIAN,VA\n",
        "new place: MOORESVILLE,NC\n",
        "new place: BRNACHVILLE,NJ\n",
        "new place:"
       ]
      },
      {
       "output_type": "stream",
       "stream": "stdout",
       "text": [
        " MOUNT ROYAL,NJ\n",
        "new place: COLUMBUS,OH\n",
        "gotcha\n",
        "gotcha\n",
        "new place: MARCY,NY\n",
        "new place: WAKEFIELD,MA\n",
        "new place: GULF BREEZE,FL\n",
        "new place: LEONARDTOWN,MD\n",
        "new place: HATBORO,PA\n",
        "new place:"
       ]
      },
      {
       "output_type": "stream",
       "stream": "stdout",
       "text": [
        " CHESTER SPRINGS,PA\n",
        "new place: LITTLETON,CO\n",
        "new place: JERSEY CITY,NJ\n",
        "new place: MADISON,NJ\n",
        "new place: OCALA,FL\n",
        "new place: BEDFORD,MA\n",
        "gotcha\n",
        "gotcha\n",
        "new place:"
       ]
      },
      {
       "output_type": "stream",
       "stream": "stdout",
       "text": [
        " NEWPORT NEWS,VA\n",
        "new place: MOOSIC,PA\n",
        "new place: BUDD LAKE,NJ\n",
        "new place: BOOTHBAY,ME\n",
        "new place: PARKERSBURG,WV\n",
        "new place: ASHEVILLE,NC\n",
        "new place: QUARRYVILLE,PA\n",
        "new place: DORCHESTER,MA\n",
        "new place: CORAL GABLES,FL\n",
        "new place: NEW ROCHELLE,NY\n",
        "new place: FULTON,MD\n",
        "new place: SAN JOSE,CA\n",
        "new place: WASHINGTON CROSSIN,PA\n",
        "new place: NEWBURYPORT,MA\n",
        "new place:"
       ]
      },
      {
       "output_type": "stream",
       "stream": "stdout",
       "text": [
        " FLOURTOWN,PA\n",
        "new place: SAINT PETERSBURG,FL\n",
        "new place: MARIETTA,GA\n",
        "new place: WESTMINSTER,MD\n",
        "new place: DUNKIRK,MD\n",
        "new place: BOCA RATn++N,FL\n",
        "new place: GREENWICH,CT\n",
        "new place: TOLLAND,CT\n",
        "new place: HIGH POINT,NC\n",
        "gotcha\n",
        "gotcha\n",
        "new place:"
       ]
      },
      {
       "output_type": "stream",
       "stream": "stdout",
       "text": [
        " LEVITTOWN,PA\n",
        "new place: MUSKEGO,WI\n",
        "new place: GREENVILLE,RI\n",
        "new place: ARLINGTON,MA\n",
        "new place: CAPE CORAL,FL\n",
        "gotcha\n",
        "gotcha\n",
        "new place: HANOVER,PA\n",
        "new place: OKLAHOMA CITY,OK\n",
        "new place: SANTA FE SPRINGS,CA\n",
        "new place: YORK,ME\n",
        "gotcha"
       ]
      },
      {
       "output_type": "stream",
       "stream": "stdout",
       "text": [
        "\n",
        "gotcha\n",
        "new place: ODENTON,MD\n",
        "new place: IRVINE,CA\n",
        "new place: COLONIAL HEIGHTS,VA\n",
        "new place: GASTONIA,NC\n",
        "gotcha\n",
        "gotcha\n",
        "new place: NEY YORK,NY\n",
        "gotcha"
       ]
      },
      {
       "output_type": "stream",
       "stream": "stdout",
       "text": [
        "\n",
        "gotcha\n",
        "new place: KINGWOOD,TX\n",
        "new place: PENNINGTON,NJ\n",
        "gotcha\n",
        "gotcha\n",
        "new place: KINGS MOUNTAIN,NC\n",
        "new place: KINGSTON,PA\n",
        "gotcha\n",
        "gotcha\n",
        "new place:"
       ]
      },
      {
       "output_type": "stream",
       "stream": "stdout",
       "text": [
        " FAIRFAX STATION,VA\n",
        "new place: CLARKSBURG,MD\n",
        "new place: TULSA,OK\n",
        "new place: MECHANICSVILLE,VA\n",
        "new place: LEXINGTON,MA\n",
        "gotcha\n",
        "gotcha\n",
        "new place: AUSTIN,TX\n",
        "new place: WINDSOR MILL,MD\n",
        "gotcha"
       ]
      },
      {
       "output_type": "stream",
       "stream": "stdout",
       "text": [
        "\n",
        "gotcha\n",
        "new place:"
       ]
      },
      {
       "output_type": "stream",
       "stream": "stdout",
       "text": [
        " BUCKINGHAM,PA\n",
        "new place: PROSPECT,KY\n",
        "new place: LAKE JACKSON,TX\n",
        "new place: CHESTER,MD\n",
        "new place: MISSOURI CITY,TX\n",
        "gotcha\n",
        "gotcha\n",
        "gotcha"
       ]
      },
      {
       "output_type": "stream",
       "stream": "stdout",
       "text": [
        "\n",
        "gotcha\n",
        "new place: LAS CRUCES,NM\n",
        "new place: RED LION,PA\n",
        "new place: RIVERDALE,UT\n",
        "new place: ARLINGTON HTS,IL\n",
        "new place: TOMS RIVER,NJ\n",
        "gotcha\n",
        "gotcha\n",
        "new place:"
       ]
      },
      {
       "output_type": "stream",
       "stream": "stdout",
       "text": [
        " FPO,AP\n",
        "new place: GLEN CARBON,IL\n",
        "new place: GLASTONBURY,CT\n",
        "gotcha\n",
        "gotcha\n",
        "new place: ATHENS,GA\n",
        "new place: SAN FRANCISCO,CA\n",
        "gotcha\n",
        "gotcha\n",
        "new place: PITTSFORD,NY\n",
        "new place:"
       ]
      },
      {
       "output_type": "stream",
       "stream": "stdout",
       "text": [
        " CAMP LEJEUNE,NC\n",
        "gotcha\n",
        "gotcha\n",
        "new place: ENCINITAS,CA\n",
        "new place:"
       ]
      },
      {
       "output_type": "stream",
       "stream": "stdout",
       "text": [
        " STOCKTON,CA\n",
        "gotcha\n",
        "gotcha\n",
        "new place: MARLBOROUGH,MA\n",
        "new place: WYOMING,PA\n",
        "new place: SAINT AUGUSTINE,FL\n",
        "new place: ORLAND PARK,IL\n",
        "new place: DUMFRIES,VA\n",
        "new place:"
       ]
      },
      {
       "output_type": "stream",
       "stream": "stdout",
       "text": [
        " EVANS,GA\n",
        "new place: DERBY,KS\n",
        "new place: LEWISTON,ME\n",
        "new place: ARLINGTON HEIGHTS,IL\n",
        "new place: FLOWER MOUND,TX\n",
        "new place: VERONA,NJ\n",
        "new place: TOWSON,MD\n",
        "gotcha\n",
        "gotcha\n",
        "gotcha"
       ]
      },
      {
       "output_type": "stream",
       "stream": "stdout",
       "text": [
        "\n",
        "gotcha\n",
        "new place: NASHUA,NH\n",
        "gotcha\n",
        "gotcha\n",
        "new place: CULPEPPER,VA\n",
        "new place: MIDDLETOWN,DE\n",
        "new place: MERRIMACK,NH\n",
        "new place:"
       ]
      },
      {
       "output_type": "stream",
       "stream": "stdout",
       "text": [
        " MIDLAND,TX\n",
        "new place: ST LEONARD,MD\n",
        "new place: HUDSON,FL\n",
        "new place: WOODSTOCK,MD\n",
        "new place: LIBERTY TOWNSHIP,OH\n",
        "new place: NEW PORT RICHEY,FL\n",
        "gotcha\n",
        "gotcha\n",
        "new place: LEXINGTON,KY\n",
        "new place:"
       ]
      },
      {
       "output_type": "stream",
       "stream": "stdout",
       "text": [
        " HARVARD,MA\n",
        "new place: ALTOONA,PA\n",
        "new place: BRUNSWICK,ME\n",
        "new place: BRIARCLIFF MANOR,NY\n",
        "gotcha\n",
        "gotcha\n",
        "new place: NEW BEDFORD,MA\n",
        "new place: BEAR,DE\n",
        "new place: SPRING LAKE,NC\n",
        "new place: GREENACRES,WA\n",
        "new place: EMERSON,NJ\n",
        "new place:"
       ]
      },
      {
       "output_type": "stream",
       "stream": "stdout",
       "text": [
        " HOLLAND,PA\n",
        "new place: BLUE ASH,OH\n",
        "gotcha\n",
        "gotcha\n",
        "new place: LORAIN,OH\n",
        "new place: DANIA,FL\n",
        "new place: STANHOPE,NJ\n",
        "new place: SHELBYVILLE,IN\n",
        "new place: MANCHESTER,NH\n",
        "new place: STATEN ISLAND,NY\n",
        "new place:"
       ]
      },
      {
       "output_type": "stream",
       "stream": "stdout",
       "text": [
        " MOBILE,AL\n",
        "gotcha\n",
        "gotcha\n",
        "new place: WESTLAND,MI\n",
        "new place: HUBERT,NC\n",
        "new place: LINCOLNSHIRE,IL\n",
        "new place: ESSEX JCT,VT\n",
        "new place:"
       ]
      },
      {
       "output_type": "stream",
       "stream": "stdout",
       "text": [
        " DARNESTOWN,MD\n",
        "gotcha\n",
        "gotcha\n",
        "new place: COMSTOCK PARK,MI\n",
        "new place: NORTH BRUNSWICK,NJ\n",
        "new place: LAFAYETTE,IN\n",
        "new place: CRANBERRY TWP,PA\n",
        "new place: NEW ALBANY,IN\n",
        "new place:"
       ]
      },
      {
       "output_type": "stream",
       "stream": "stdout",
       "text": [
        " FREDERICK,MD\n",
        "new place: CONSHOHOCKEN,PA\n",
        "new place: FAYETTEVILLE,AR\n",
        "new place: FORT BELVOIR,VA\n",
        "new place: BEALETON,VA\n",
        "new place: HOWELL,NJ\n",
        "gotcha"
       ]
      },
      {
       "output_type": "stream",
       "stream": "stdout",
       "text": [
        "\n",
        "gotcha\n",
        "new place: SUMMIT,NJ\n",
        "new place: PORT WASHINGTON,NY\n",
        "new place: ETTERS,PA\n",
        "new place: WARRENTON,VA\n",
        "new place: BOULDER,CO\n",
        "gotcha\n",
        "gotcha\n",
        "new place: DELAWARE,OH\n",
        "new place: CHARLESTON,WV\n",
        "gotcha\n",
        "gotcha\n",
        "new place: LUMBERTON,NJ\n",
        "new place:"
       ]
      },
      {
       "output_type": "stream",
       "stream": "stdout",
       "text": [
        " SEVERNA PARK,MD\n",
        "new place: LOS ALAMOS,NM\n",
        "new place: TALLAHASSEE,FL\n",
        "new place: WEST HOLLYWOOD,CA\n",
        "new place: ELVERSON,PA\n",
        "new place: SYRACUSE,UT\n",
        "new place: EDINA,MN\n",
        "new place:"
       ]
      },
      {
       "output_type": "stream",
       "stream": "stdout",
       "text": [
        " MELBOURNE,KY\n",
        "new place: FRANKLIN,VA\n",
        "new place: IOWA CITY,IA\n",
        "new place: BURNSVILLE,MN\n",
        "new place: WASHINGTON,WV\n",
        "new place:"
       ]
      },
      {
       "output_type": "stream",
       "stream": "stdout",
       "text": [
        " ROCKVILLE CENTRE,NY\n",
        "new place: SPOTSYLVANIA,VA\n",
        "new place: CLIFTON,VA\n",
        "new place: ALTAMONTE SPRINGS,FL\n",
        "gotcha\n",
        "gotcha\n",
        "new place: AUGUSTA,GA\n",
        "gotcha\n",
        "gotcha\n",
        "new place:"
       ]
      },
      {
       "output_type": "stream",
       "stream": "stdout",
       "text": [
        " DUNEDIN,FL\n",
        "gotcha\n",
        "gotcha\n",
        "new place: PORTLAND,ME\n",
        "new place: CARLISLE,PA\n",
        "new place: BLOOMINGTON,IL\n",
        "new place: ABINGDON,VA\n",
        "new place: COLLEGEVILLE,PA\n",
        "new place: DALLAS,PA\n",
        "new place:"
       ]
      },
      {
       "output_type": "stream",
       "stream": "stdout",
       "text": [
        " HOCKESSIN,DE\n",
        "new place: COOKSVILLE,MD\n",
        "new place: STAR CITY,WV\n",
        "new place: NESHANIC STATION,NJ\n",
        "new place: FAIRVIEW,PA\n",
        "new place: SURF CITY,NC\n",
        "new place: SPRING HILL,FL\n",
        "new place: MOOREFIELD,WV\n",
        "new place: WELLESLEY,MA\n",
        "new place:"
       ]
      },
      {
       "output_type": "stream",
       "stream": "stdout",
       "text": [
        " MIDDLETOWN,RI\n",
        "new place: KITTERY,ME\n",
        "new place: SANTA BARBARA,CA\n",
        "new place: MEDIA,PA\n",
        "new place:"
       ]
      },
      {
       "output_type": "stream",
       "stream": "stdout",
       "text": [
        " TACOMA,MD\n",
        "new place: ROME,NY\n",
        "new place: SYLVANIA,OH\n",
        "new place: BERWYN HEIGHTS,MD\n",
        "gotcha\n",
        "gotcha\n",
        "new place:"
       ]
      },
      {
       "output_type": "stream",
       "stream": "stdout",
       "text": [
        " CATONSVILLE,MD\n",
        "new place: USAFA,CO\n",
        "new place: LAKE BLUFF,IL\n",
        "new place: STAUNTON,VA\n",
        "new place:"
       ]
      },
      {
       "output_type": "stream",
       "stream": "stdout",
       "text": [
        " HARKER HEIGHTS,TX\n",
        "gotcha\n",
        "gotcha\n",
        "new place: HINGHAM,MA\n",
        "gotcha\n",
        "gotcha\n",
        "new place: SOUTH DENNIS,MA\n",
        "new place: MILTON,MA\n",
        "new place: GRAND RAPIDS,MI\n",
        "new place: WELLINGTON,CO\n",
        "new place:"
       ]
      },
      {
       "output_type": "stream",
       "stream": "stdout",
       "text": [
        " SWANSBORO,NC\n",
        "new place: RYDAL,PA\n",
        "new place: HUNTERSVILLE,NC\n",
        "new place: ORMOND BEACH,FL\n",
        "new place: GUNNISON,CO\n",
        "new place: LA GRANGE,IL\n",
        "new place: URBANDALE,IA\n",
        "gotcha\n",
        "gotcha\n",
        "gotcha\n",
        "gotcha\n",
        "new place: STIRLING,NJ\n",
        "new place: BROCKPORT,NY\n",
        "new place:"
       ]
      },
      {
       "output_type": "stream",
       "stream": "stdout",
       "text": [
        " DAMASCUS,MD\n",
        "new place: SANTO DOMINGO,FL\n",
        "new place: GREENSBORO,PA\n",
        "new place: BLANDFORD,MA\n",
        "gotcha\n",
        "gotcha\n",
        "new place: KUTZTOWN,PA\n",
        "new place: KENNESAW,GA\n",
        "gotcha\n",
        "gotcha\n",
        "new place: GIBSONIA,PA\n",
        "gotcha"
       ]
      },
      {
       "output_type": "stream",
       "stream": "stdout",
       "text": [
        "\n",
        "gotcha\n",
        "new place: FAYETTEVILLE,NC\n",
        "new place: HILLIARD,OH\n",
        "new place: SAN RAFAEL,CA\n",
        "new place: RENTON,WA\n",
        "new place: MORRISVILLE,NC\n",
        "new place: DOVER,NH\n",
        "new place: REDONDO BEACH,CA\n",
        "new place: TRENTON,NJ\n",
        "new place: CARRBORO,NC\n",
        "new place:"
       ]
      },
      {
       "output_type": "stream",
       "stream": "stdout",
       "text": [
        " CHAPMANVILLE,WV\n",
        "new place: SPRINGFIELD,IL\n",
        "new place: WAUPACA,WI\n",
        "new place: FORT MYER,VA\n",
        "new place: MACUNGIE,PA\n",
        "new place: HAMPSTEAD,NC\n",
        "gotcha\n",
        "gotcha\n",
        "new place: GREENSBURG,PA\n",
        "new place: NORTH CHARLESTON,SC\n",
        "new place: DAVIDSON,NC\n",
        "new place: CASTLE ROCK,CO\n",
        "gotcha\n",
        "gotcha\n",
        "new place: LARCHMONT,NY\n",
        "new place:"
       ]
      },
      {
       "output_type": "stream",
       "stream": "stdout",
       "text": [
        " PICKERINGTON,OH\n",
        "new place: NAPERVILLE,IL\n",
        "gotcha\n",
        "gotcha\n",
        "new place: SALEM,OH\n",
        "gotcha\n",
        "gotcha\n",
        "new place: BASKING RIDGE,NJ\n",
        "new place: JOHNSTOWN,PA\n",
        "new place: WOODBRIDGE,NJ\n",
        "new place: GREENBELT,MD\n",
        "new place:"
       ]
      },
      {
       "output_type": "stream",
       "stream": "stdout",
       "text": [
        " PELHAM,NY\n",
        "gotcha\n",
        "gotcha\n",
        "new place: PARKVILLE,MD\n",
        "new place: FARMINGTON HILLS,MI\n",
        "gotcha\n",
        "gotcha\n",
        "new place: LAFAYETTE,TN\n",
        "new place: NYACK,NY\n",
        "new place: HOPKINTON,NH\n",
        "new place: CHARLES TOWN,MA\n",
        "gotcha\n",
        "gotcha\n",
        "new place: HOPEWELL,NJ\n",
        "new place:"
       ]
      },
      {
       "output_type": "stream",
       "stream": "stdout",
       "text": [
        " FALLS CHURCH,GA\n",
        "new place: BEACHWOOD,OH\n",
        "new place: OLD BRIDGE,NJ\n",
        "new place: WICHITA,KS\n",
        "new place: FORT LEE,VA\n",
        "new place: ROUND LAKE,IL\n",
        "gotcha\n",
        "gotcha\n",
        "new place: ABERDEEN,NC\n",
        "gotcha\n",
        "gotcha\n",
        "new place: CHELMSFORD,MA\n",
        "new place: MILWAUKIE,OR\n",
        "new place: MABLETON,GA\n",
        "gotcha\n",
        "gotcha\n",
        "new place: WILBRAHAM,MA\n",
        "new place:"
       ]
      },
      {
       "output_type": "stream",
       "stream": "stdout",
       "text": [
        " EAGAN,MN\n",
        "new place: LITHIA,FL\n",
        "new place: GREENSBORO,NC\n",
        "new place: STATE COLLEGE,PA\n",
        "new place:"
       ]
      },
      {
       "output_type": "stream",
       "stream": "stdout",
       "text": [
        " ELIZABETH CITY,NC\n",
        "new place: LINCOLN,NE\n",
        "new place: EL PASO,TX\n",
        "new place: DUNCAN,SC\n",
        "new place: WHITE HALL,PA\n",
        "new place: BOUNTIFUL,UT\n",
        "gotcha\n",
        "gotcha\n",
        "new place: NORTHPORT,NY\n",
        "new place: CENTERVILLE,VA\n",
        "new place: MONITOR DR,VA\n",
        "new place:"
       ]
      },
      {
       "output_type": "stream",
       "stream": "stdout",
       "text": [
        " LITTLE SILVER,NJ\n",
        "gotcha\n",
        "gotcha\n",
        "new place: FRANKLIN,NH\n",
        "new place: GREAT MILLS,MD\n",
        "new place: SIMI VALLEY,CA\n",
        "new place: CLINTON CORNERS,NY\n",
        "new place: CLARKSVILLE,MD\n",
        "new place: CROZET,VA\n",
        "new place: FLETCHER,NC\n",
        "new place: LANCASTER,PA\n",
        "new place:"
       ]
      },
      {
       "output_type": "stream",
       "stream": "stdout",
       "text": [
        " PENNSVILLE,NJ\n",
        "gotcha\n",
        "gotcha\n",
        "gotcha\n",
        "gotcha\n",
        "new place: IRON STATION,NC\n",
        "new place: COLD SPRING,NY\n",
        "gotcha\n",
        "gotcha\n",
        "new place: GREENWOOD VILLAGE,CO\n",
        "gotcha\n",
        "gotcha\n",
        "new place: BENTONVILLE,AR\n",
        "new place:"
       ]
      },
      {
       "output_type": "stream",
       "stream": "stdout",
       "text": [
        " KINNELON,NJ\n",
        "gotcha\n",
        "gotcha\n",
        "gotcha\n",
        "gotcha\n",
        "new place: KENT,WA\n",
        "new place: RANSON,WV\n",
        "new place: MILTON,WA\n",
        "new place: WOODSTOCK,GA\n",
        "new place: LAWRENCE,KS\n",
        "gotcha\n",
        "gotcha\n",
        "new place:"
       ]
      },
      {
       "output_type": "stream",
       "stream": "stdout",
       "text": [
        " EPHRATA,PA\n",
        "new place: EASTON,NY\n",
        "new place: MAPLE VALLEY,WA\n",
        "new place: JAMAICA PLAIN,MA\n",
        "new place: BROX,NY\n",
        "new place:"
       ]
      },
      {
       "output_type": "stream",
       "stream": "stdout",
       "text": [
        " SOMERSET,MA\n",
        "new place: MONTCLAIR,VA\n",
        "new place: CHAPEL HILL,NC\n",
        "new place: NEW PROVIDENCE,NJ\n",
        "new place: HIGHLAND VILLAGE,TX\n",
        "new place: FORT MILL,SC\n",
        "new place: GARDEN CITY,MI\n",
        "gotcha\n",
        "gotcha\n",
        "gotcha\n",
        "gotcha\n",
        "gotcha"
       ]
      },
      {
       "output_type": "stream",
       "stream": "stdout",
       "text": [
        "\n",
        "gotcha\n",
        "new place: MADISON,WI\n",
        "new place: SPARKS,MD\n",
        "new place: ABSECON,NJ\n",
        "new place: EDISON,NJ\n",
        "new place: MEADVILLE,PA\n",
        "gotcha\n",
        "gotcha\n",
        "gotcha\n",
        "gotcha\n",
        "new place: MIDWAY PARK,NC\n",
        "new place:"
       ]
      },
      {
       "output_type": "stream",
       "stream": "stdout",
       "text": [
        " CHESWICK,PA\n",
        "new place: FOSTER CITY,CA\n",
        "new place: GORE,VA\n",
        "gotcha\n",
        "gotcha\n",
        "gotcha\n",
        "gotcha\n",
        "new place: SAN LEANDRO,CA\n",
        "gotcha"
       ]
      },
      {
       "output_type": "stream",
       "stream": "stdout",
       "text": [
        "\n",
        "gotcha\n",
        "new place: BONITA SPRINGS,FL\n",
        "new place: UPPER MARLBORO,MD\n",
        "new place: ORADELL,NJ\n",
        "new place: WASHINGTON,VA\n",
        "new place: OVERLAND PARK,KS\n",
        "new place: SOLON,OH\n",
        "new place: CLEAR SPRING,MD\n",
        "gotcha\n",
        "gotcha\n",
        "new place: ESCONDIDO,CA\n",
        "new place:"
       ]
      },
      {
       "output_type": "stream",
       "stream": "stdout",
       "text": [
        " ANN ARBOR,MI\n",
        "new place: BOONVILLE,NC\n",
        "new place: WESTON,MA\n",
        "new place: NEWARK,DE\n",
        "new place: MERION STATION,PA\n",
        "gotcha\n",
        "gotcha\n",
        "new place: DESTIN,FL\n",
        "new place:"
       ]
      },
      {
       "output_type": "stream",
       "stream": "stdout",
       "text": [
        " ESTON,MD\n",
        "gotcha\n",
        "gotcha\n",
        "new place: SYKESVILLE,MD\n",
        "new place: SOUTH SETAUKET,NY\n",
        "new place: CAPE MAY,NJ\n",
        "new place:"
       ]
      },
      {
       "output_type": "stream",
       "stream": "stdout",
       "text": [
        " LONG BRANCH,NJ\n",
        "gotcha\n",
        "gotcha\n",
        "gotcha\n",
        "gotcha\n",
        "new place: LEOMINSTER,MA\n",
        "new place: NEWTOWN,PA\n",
        "gotcha\n",
        "gotcha\n",
        "new place: GALSTONBURY,CT\n",
        "gotcha\n",
        "gotcha\n",
        "new place:"
       ]
      },
      {
       "output_type": "stream",
       "stream": "stdout",
       "text": [
        " OREGON,WI\n",
        "new place: JAMISON,PA\n",
        "new place: LIVINGSTON,NJ\n",
        "new place: MONTGOMERY VILLAGE,MD\n",
        "new place: DPO,AA\n",
        "new place: APEX,NC\n",
        "new place: FAIRFIELD,CT\n",
        "gotcha\n",
        "gotcha\n",
        "new place:"
       ]
      },
      {
       "output_type": "stream",
       "stream": "stdout",
       "text": [
        " MONROE,NC\n",
        "new place: BRENTWOOD,TN\n",
        "gotcha\n",
        "gotcha\n",
        "new place: COATESVILLE,PA\n",
        "new place: HARTSDALE,NY\n",
        "new place:"
       ]
      },
      {
       "output_type": "stream",
       "stream": "stdout",
       "text": [
        " LAKE ORION,MI\n",
        "new place: PALMYRA,PA\n",
        "new place: LINCOLN UNIVERSITY,PA\n",
        "new place: SMITHFIELD,VA\n",
        "new place:"
       ]
      },
      {
       "output_type": "stream",
       "stream": "stdout",
       "text": [
        " STONY BROOK,NY\n",
        "new place: TRIANGLE,VA\n",
        "new place: GRANITEVILLE,SC\n",
        "new place: SKANEATELES,NY\n",
        "gotcha\n",
        "gotcha\n",
        "new place: MEDFORD LAKES,NJ\n",
        "new place: MONONA,WI\n",
        "new place: TROY,NY\n",
        "new place:"
       ]
      },
      {
       "output_type": "stream",
       "stream": "stdout",
       "text": [
        " ROUND ROCK,TX\n",
        "gotcha\n",
        "gotcha\n",
        "gotcha\n",
        "gotcha\n",
        "new place: ATKINSON,NH\n",
        "new place: SILVERDALE,PA\n",
        "new place: CORTLAND,NY\n",
        "new place: GLEN BURNIE,MD\n",
        "new place: FALLS CURCH,VA\n",
        "new place: ANDERSON,IN\n",
        "gotcha\n",
        "gotcha\n",
        "new place:"
       ]
      },
      {
       "output_type": "stream",
       "stream": "stdout",
       "text": [
        " CASTLETON,NY\n",
        "new place: FRISCO,TX\n",
        "new place: CLEMMONS,NC\n",
        "new place: PENFIELD,NY\n",
        "new place: ALBEMARLE,NC\n",
        "new place: ELIZABETHTOWN,PA\n",
        "new place:"
       ]
      },
      {
       "output_type": "stream",
       "stream": "stdout",
       "text": [
        " CAMERON,NC\n",
        "gotcha\n",
        "gotcha\n",
        "new place:"
       ]
      },
      {
       "output_type": "stream",
       "stream": "stdout",
       "text": [
        " GENESEO,NY\n",
        "new place: ROCHESTER,MI\n",
        "new place: GRAY,TN\n",
        "gotcha\n",
        "gotcha\n",
        "new place: POWELL,WY\n",
        "new place: FEEDING HILLS,MA\n",
        "gotcha\n",
        "gotcha\n",
        "gotcha\n",
        "gotcha\n",
        "new place: SOUTH MILWAUKEE,WI\n",
        "new place: SANTA MONICA,CA\n",
        "new place: BALDWINSVILLE,NY\n",
        "gotcha\n",
        "gotcha\n",
        "new place:"
       ]
      },
      {
       "output_type": "stream",
       "stream": "stdout",
       "text": [
        " SUMMERVILLE,SC\n",
        "new place: LENEXA,KS\n",
        "new place: MERIDEN,CT\n",
        "new place: BELLE MEAD,NJ\n",
        "new place: LANSDALE,PA\n",
        "gotcha"
       ]
      },
      {
       "output_type": "stream",
       "stream": "stdout",
       "text": [
        "\n",
        "gotcha\n",
        "new place: CAMDEN,DE\n",
        "new place: BLACKSBURG,VA\n",
        "gotcha\n",
        "gotcha\n",
        "new place: RIDGEFIELD,NJ\n",
        "new place: MILTON,WI\n",
        "new place: EAST NORTHPORT,NY\n",
        "new place:"
       ]
      },
      {
       "output_type": "stream",
       "stream": "stdout",
       "text": [
        " CLIFTON PARK,NY\n",
        "new place: NEW BOSTON,NH\n",
        "new place: MADISON,CT\n",
        "new place: MOUNT VERNON,WA\n",
        "new place: WATERTOWN,MA\n",
        "new place:"
       ]
      },
      {
       "output_type": "stream",
       "stream": "stdout",
       "text": [
        " SEWICKLEY,PA\n",
        "new place: GILFORD,NH\n",
        "new place: FISHERS,IN\n",
        "new place: BON AQUA,TN\n",
        "new place: LAPEER,MI\n",
        "new place: RIFLE,CO\n",
        "new place: BLUFFTON,SC\n",
        "new place: PLANO,TX\n",
        "new place:"
       ]
      },
      {
       "output_type": "stream",
       "stream": "stdout",
       "text": [
        " POMPANO BEACH,FL\n",
        "new place: DPO,AE\n",
        "new place: WEXFORD,PA\n",
        "new place: SIOUX FALLS,SD\n",
        "new place: EDGWATER,MD\n",
        "new place:"
       ]
      },
      {
       "output_type": "stream",
       "stream": "stdout",
       "text": [
        " TWENTYNINE PALMS,CA\n",
        "new place: AVONDALE,PA\n",
        "new place: WAKEFIELD,RI\n",
        "new place: OAK PARK,IL\n",
        "gotcha\n",
        "gotcha\n",
        "new place: KINGSTON,MA\n",
        "new place:"
       ]
      },
      {
       "output_type": "stream",
       "stream": "stdout",
       "text": [
        " EVANSTON,IL\n",
        "new place: APO,AP\n",
        "new place: MORRISON,CO\n",
        "gotcha\n",
        "gotcha\n",
        "new place: JIM THORPE,PA\n",
        "new place:"
       ]
      },
      {
       "output_type": "stream",
       "stream": "stdout",
       "text": [
        " SEMINOLE,FL\n",
        "new place: READING,PA\n",
        "gotcha\n",
        "gotcha\n",
        "new place: IJAMSVILLE,MD\n",
        "new place: WESTON,CT\n",
        "new place:"
       ]
      },
      {
       "output_type": "stream",
       "stream": "stdout",
       "text": [
        " NEEDHAM,MA\n",
        "new place: SAINT LOUIS,MO\n",
        "new place: BERWYN,PA\n",
        "gotcha\n",
        "gotcha\n",
        "gotcha\n",
        "gotcha\n",
        "gotcha\n",
        "gotcha\n",
        "new place: LONGMEADOW,MA\n",
        "new place: HUMMELSTOWN,PA\n",
        "new place: CRELLIN,MD\n",
        "new place:"
       ]
      },
      {
       "output_type": "stream",
       "stream": "stdout",
       "text": [
        " REXFORD,NY\n",
        "new place: BRADENTON,FL\n",
        "new place: CONCORD,NH\n",
        "new place: SPRING,TX\n",
        "new place: SALISBURY,MD\n",
        "new place:"
       ]
      },
      {
       "output_type": "stream",
       "stream": "stdout",
       "text": [
        " HYDES,MD\n",
        "gotcha\n",
        "gotcha\n",
        "new place: AUBURNDALE,MA\n",
        "new place: LAUREL,MS\n",
        "new place: COLOMA,MI\n",
        "new place: IRWIN,PA\n",
        "new place: PAWLING,NY\n",
        "new place:"
       ]
      },
      {
       "output_type": "stream",
       "stream": "stdout",
       "text": [
        " EASTON,PA\n",
        "new place: KEY WEST,FL\n",
        "gotcha\n",
        "gotcha\n",
        "new place: SUFFOLK,VA\n",
        "new place: EDGERTON,WI\n",
        "new place: SANTA CRUZ,CA\n",
        "new place:"
       ]
      },
      {
       "output_type": "stream",
       "stream": "stdout",
       "text": [
        " PEPPERELL,MA\n",
        "gotcha\n",
        "gotcha\n",
        "gotcha\n",
        "gotcha\n",
        "new place: TEMECULA,CA\n",
        "new place: PAWTUCKET,RI\n",
        "gotcha\n",
        "gotcha\n",
        "new place:"
       ]
      },
      {
       "output_type": "stream",
       "stream": "stdout",
       "text": [
        " WOBURN,MA\n",
        "gotcha\n",
        "gotcha\n",
        "new place: HADDON HEIGHTS,NJ\n",
        "new place: BEAVERCREEK,OH\n",
        "new place: NEWPORT,RI\n",
        "new place: LUTHERVILLE TIMONI,MD\n",
        "new place: HOLLIDAYSBURG,PA\n",
        "new place: SAUK CITY,WI\n",
        "new place: STOUGHTON,WI\n",
        "new place:"
       ]
      },
      {
       "output_type": "stream",
       "stream": "stdout",
       "text": [
        " VISTA,CA\n",
        "new place: LANDISBURG,PA\n",
        "new place: LAKE GROVE,NY\n",
        "new place: POINT PLEASANT BEA,NJ\n",
        "new place:"
       ]
      },
      {
       "output_type": "stream",
       "stream": "stdout",
       "text": [
        " CHARLESTON,SC\n",
        "gotcha\n",
        "gotcha\n",
        "gotcha\n",
        "gotcha\n",
        "new place: EL SEGUNDOCA,CA\n",
        "new place: MIDDLETOWN,MD\n",
        "new place:"
       ]
      },
      {
       "output_type": "stream",
       "stream": "stdout",
       "text": [
        " WELCOME,MD\n",
        "new place: ALLEGANY,NY\n",
        "new place: MONTVILLE,NJ\n",
        "new place: CLARENDON,VT\n",
        "new place: BETHEL PARK,PA\n",
        "gotcha\n",
        "gotcha\n",
        "gotcha"
       ]
      },
      {
       "output_type": "stream",
       "stream": "stdout",
       "text": [
        "\n",
        "gotcha\n",
        "new place: BLUE BELL,PA\n",
        "new place: EAST MORICHES,NY\n",
        "new place:"
       ]
      },
      {
       "output_type": "stream",
       "stream": "stdout",
       "text": [
        " RUMSON,NJ\n",
        "new place: SUFFIELD,CT\n",
        "gotcha\n",
        "gotcha\n",
        "new place: THE COLONY,TX\n",
        "new place: LORDSBURG,NM\n",
        "new place: WINDSOR,CT\n",
        "new place: PLYMOUTH,MN\n",
        "new place: CUMBERLAND,MD\n",
        "new place: AKRON,OH\n",
        "new place: MURFREESBORO,TN\n",
        "new place:"
       ]
      },
      {
       "output_type": "stream",
       "stream": "stdout",
       "text": [
        " HOLLYWOOD,MD\n",
        "gotcha\n",
        "gotcha\n",
        "new place: REDWOOD CITY,CA\n",
        "new place: PHOENIX,MD\n",
        "new place:"
       ]
      },
      {
       "output_type": "stream",
       "stream": "stdout",
       "text": [
        " CRANSTON,RI\n",
        "new place: CARY,NC\n",
        "new place: FLORENCE,SC\n",
        "new place: OLD GREENWICH,CT\n",
        "new place: SAINT CLAIR,MI\n",
        "new place:"
       ]
      },
      {
       "output_type": "stream",
       "stream": "stdout",
       "text": [
        " PRESTO,PA\n",
        "new place: LAKE HOPATCONG,NJ\n",
        "new place: WEST NYACK,NY\n",
        "new place: JACKSONVILLE BEACH,FL\n",
        "new place: SANDWICH,MA\n",
        "gotcha"
       ]
      },
      {
       "output_type": "stream",
       "stream": "stdout",
       "text": [
        "\n",
        "gotcha\n",
        "new place: FPO,AE\n",
        "new place: KANEOHE BAY,HI\n",
        "new place: KISSIMMEE,FL\n",
        "new place: BOISE,ID\n",
        "new place: OPELIKA,AL\n",
        "new place: HILLSBORO,OH\n",
        "gotcha"
       ]
      },
      {
       "output_type": "stream",
       "stream": "stdout",
       "text": [
        "\n",
        "gotcha\n",
        "gotcha\n",
        "gotcha\n",
        "new place: FAYETTEVILLE,NY\n",
        "new place:"
       ]
      },
      {
       "output_type": "stream",
       "stream": "stdout",
       "text": [
        " FT LAUDERDALE,FL\n",
        "new place: TONAWANDA,NY\n",
        "gotcha\n",
        "gotcha\n",
        "new place: SPRINGFIELD,NJ\n",
        "new place: STERLING HEIGHTS,MI\n",
        "new place: HUNTINGTON,NY\n",
        "new place:"
       ]
      },
      {
       "output_type": "stream",
       "stream": "stdout",
       "text": [
        " MUNDELEIN,ID\n",
        "new place:"
       ]
      },
      {
       "output_type": "stream",
       "stream": "stdout",
       "text": [
        " ENGLEWOOD,CO\n",
        "new place:"
       ]
      },
      {
       "output_type": "stream",
       "stream": "stdout",
       "text": [
        " HOLLY SPRINGS,NC\n",
        "new place: KINGMAN,AZ\n",
        "new place: ROSWELL,GA\n",
        "new place: VERNON HILLS,IL\n",
        "gotcha"
       ]
      },
      {
       "output_type": "stream",
       "stream": "stdout",
       "text": [
        "\n",
        "gotcha\n",
        "new place: CHICAGO,CO\n",
        "new place: ISLIP,NY\n",
        "new place: EDDINGTON,ME\n",
        "new place: HUDSONVILLE,MI\n",
        "gotcha\n",
        "gotcha\n",
        "new place: SCARSDALE,NY\n",
        "new place:"
       ]
      },
      {
       "output_type": "stream",
       "stream": "stdout",
       "text": [
        " CAMAS,WA\n",
        "new place: RIVA,MD\n",
        "new place: CONESTOGA,PA\n",
        "new place: MANCHESTER,CT\n",
        "new place: SHERMAN OAKS,CA\n",
        "new place:"
       ]
      },
      {
       "output_type": "stream",
       "stream": "stdout",
       "text": [
        " HANOVER,MD\n",
        "new place: JANESVILLE,WI\n",
        "gotcha\n",
        "gotcha\n",
        "gotcha\n",
        "gotcha\n",
        "new place: ADAMSVILLE,PA\n",
        "new place: WEST ORANGE,NJ\n",
        "gotcha\n",
        "gotcha\n",
        "new place: ELDERSBURG,MD\n",
        "new place:"
       ]
      },
      {
       "output_type": "stream",
       "stream": "stdout",
       "text": [
        " METUCHEN,NJ\n",
        "new place: ROCKFORD,IL\n",
        "new place: KING GEORGE,VA\n",
        "new place: WILLISTON PARK,NY\n",
        "gotcha\n",
        "gotcha\n",
        "new place: MANSFIELD,MA\n",
        "gotcha\n",
        "gotcha\n",
        "new place: DEDHAM,MA\n",
        "new place: SWARTHMORE,PA\n",
        "gotcha"
       ]
      },
      {
       "output_type": "stream",
       "stream": "stdout",
       "text": [
        "\n",
        "gotcha\n",
        "new place: SHIPPENSBURG,PA\n",
        "gotcha\n",
        "gotcha\n",
        "new place: RIDGWAY,PA\n",
        "gotcha\n",
        "gotcha\n",
        "new place: CABIN JOHN,MD\n",
        "new place: CHRISTOIANSBURG,VA\n",
        "new place:"
       ]
      },
      {
       "output_type": "stream",
       "stream": "stdout",
       "text": [
        " PORT ORCHARD,WA\n",
        "new place: ISSAQUAH,WA\n",
        "new place: DELL RAPIDS,SD\n",
        "new place: CHATHAM,NJ\n",
        "new place: HICKORY,NC\n",
        "new place: DANBURY,CT\n",
        "new place: SALEM,MA\n",
        "new place: GALLATIN,TN\n",
        "new place:"
       ]
      },
      {
       "output_type": "stream",
       "stream": "stdout",
       "text": [
        " SANDPOINT,ID\n",
        "new place: OAKS,PA\n",
        "new place: LINDEN,MI\n",
        "new place: PINEVILLE,NC\n",
        "new place: BUNNLEVEL,NC\n",
        "new place: ESSEX JUNCTION,VT\n",
        "new place: CUYAHOGA FALLS,OH\n",
        "new place: ARNOLD,MD\n",
        "gotcha"
       ]
      },
      {
       "output_type": "stream",
       "stream": "stdout",
       "text": [
        "\n",
        "gotcha\n",
        "gotcha\n",
        "gotcha\n",
        "new place: SAN MATEO,CA\n",
        "new place: KIRKWOOD,PA\n",
        "new place: CHAGRIN FALLS,OH\n",
        "new place:"
       ]
      },
      {
       "output_type": "stream",
       "stream": "stdout",
       "text": [
        " VENTURA,CA\n",
        "new place: DELRAY,WV\n",
        "new place: DOWNERS GROVE,IL\n",
        "new place: LONGMONT,CO\n",
        "gotcha\n",
        "gotcha\n",
        "new place: NORTHBROOK,IL\n",
        "new place: MAKAWAO,HI\n",
        "gotcha\n",
        "gotcha\n",
        "new place: KITTY HAWK,NC\n",
        "new place:"
       ]
      },
      {
       "output_type": "stream",
       "stream": "stdout",
       "text": [
        " LAKE OSWEGO,OR\n",
        "gotcha\n",
        "gotcha\n",
        "new place: NEW CITY,NY\n",
        "new place: ROSEDALE,MD\n",
        "new place: CLIFTON,NJ\n",
        "gotcha\n",
        "gotcha\n",
        "new place: GREENSBURG,IN\n",
        "gotcha\n",
        "gotcha\n",
        "new place:"
       ]
      },
      {
       "output_type": "stream",
       "stream": "stdout",
       "text": [
        " CIBOLO,TX\n",
        "new place: SHELBY TOWNSHIP,MI\n",
        "new place: WESTERLY,RI\n",
        "gotcha\n",
        "gotcha\n",
        "new place:"
       ]
      },
      {
       "output_type": "stream",
       "stream": "stdout",
       "text": [
        " BUTLER,NJ\n",
        "new place: GLADWYNE,PA\n",
        "new place:"
       ]
      },
      {
       "output_type": "stream",
       "stream": "stdout",
       "text": [
        " ALDIE,VA\n",
        "new place: GLENSHAW,PA\n",
        "new place: DILLON,CO\n",
        "new place: MARSHALL,VA\n",
        "new place: LOUISVILLE,CO\n",
        "gotcha"
       ]
      },
      {
       "output_type": "stream",
       "stream": "stdout",
       "text": [
        "\n",
        "gotcha\n",
        "new place: EGG HARBOR TOWNSHI,NJ\n",
        "new place: BROAD RUN,VA\n",
        "new place: SEARINGTOWN,NY\n",
        "new place: ROCHESTER,NY\n",
        "gotcha\n",
        "gotcha\n",
        "new place: ST. JAMES,NY\n",
        "gotcha\n",
        "gotcha\n",
        "new place: CANTON,OH\n",
        "new place: JOPLIN,MO\n",
        "new place: WEST BLOOMFIELD,MI\n",
        "new place:"
       ]
      },
      {
       "output_type": "stream",
       "stream": "stdout",
       "text": [
        " DELANO,MN\n",
        "new place: WEYMOUTH,MA\n",
        "new place: STONE RIDGE,VA\n",
        "gotcha\n",
        "gotcha\n",
        "new place: MEMPHIS,TN\n",
        "new place:"
       ]
      },
      {
       "output_type": "stream",
       "stream": "stdout",
       "text": [
        " HERNON,VA\n",
        "new place: OXFORD,MI\n",
        "new place: HARRISONBURG,VA\n",
        "new place: YUCCA VALLEY,CA\n",
        "new place: HOLLYWOOD,FL\n",
        "new place: VOORHEES,NJ\n",
        "new place:"
       ]
      },
      {
       "output_type": "stream",
       "stream": "stdout",
       "text": [
        " HAMILTON,OH\n",
        "gotcha\n",
        "gotcha\n",
        "new place: LEXINGTON PARK,MD\n",
        "new place:"
       ]
      },
      {
       "output_type": "stream",
       "stream": "stdout",
       "text": [
        " EASTON,MD\n",
        "new place: PANAMA CITY,FL\n",
        "new place: WEST CHESTER,OH\n",
        "new place: SOUTHERN PINES,NC\n",
        "new place:"
       ]
      },
      {
       "output_type": "stream",
       "stream": "stdout",
       "text": [
        " WARWICK,NY\n",
        "new place: MALVERN,PA\n",
        "new place: BINGHAMTON,NY\n",
        "new place: BOONTON,NJ\n",
        "new place:"
       ]
      },
      {
       "output_type": "stream",
       "stream": "stdout",
       "text": [
        " POTOMAC FALLS,VA\n",
        "new place: SPARROWBUSH,NY\n",
        "new place: GREENWOOD,MS\n",
        "new place: MACCLENNY,FL\n",
        "new place: WHITEWATER,WI\n",
        "new place: BILOXI,MS\n",
        "new place:"
       ]
      },
      {
       "output_type": "stream",
       "stream": "stdout",
       "text": [
        " WHITE BEAR TOWNSHI,MN\n",
        "gotcha\n",
        "gotcha\n",
        "gotcha\n",
        "gotcha\n",
        "gotcha\n",
        "gotcha\n",
        "new place:"
       ]
      },
      {
       "output_type": "stream",
       "stream": "stdout",
       "text": [
        " CHELSEA,MA\n",
        "new place: STEGER,IL\n",
        "new place: INCLINE VILLAGE,NV\n",
        "gotcha\n",
        "gotcha\n",
        "new place: WESTLAKE,OH\n",
        "gotcha\n",
        "gotcha\n",
        "new place: CORDOVA,TN\n",
        "new place:"
       ]
      },
      {
       "output_type": "stream",
       "stream": "stdout",
       "text": [
        " ALLISON PARK,PA\n",
        "gotcha\n",
        "gotcha\n",
        "new place: COLLINGSWOOD,NJ\n",
        "new place: SANDY SPRING,MD\n",
        "new place: BEAUFORT SC,SC\n",
        "new place: GARDINER,ME\n",
        "new place:"
       ]
      },
      {
       "output_type": "stream",
       "stream": "stdout",
       "text": [
        " CHEVERLY,MD\n",
        "new place: HERSHEY,PA\n",
        "gotcha\n",
        "gotcha\n",
        "new place: SHELBY,NC\n",
        "new place: DOYLESTOWN,PA\n",
        "new place: SOUTHAMPTON,NY\n",
        "new place:"
       ]
      },
      {
       "output_type": "stream",
       "stream": "stdout",
       "text": [
        " KERNERSVILLE,NC\n",
        "new place: WRIGHTSVILLE,PA\n",
        "new place: SAUK RAPIDS,MN\n",
        "new place: VERO BEACH,FL\n",
        "new place: LONG ISLAND CITY,NY\n",
        "gotcha\n",
        "gotcha\n",
        "new place:"
       ]
      },
      {
       "output_type": "stream",
       "stream": "stdout",
       "text": [
        " ARMADA,MI\n",
        "new place: SALTILLO,MS\n",
        "new place: PORTSMOUTH,VA\n",
        "new place: NEW WINDSOR,NY\n",
        "new place: REISTERSTOWN,MD\n",
        "gotcha\n",
        "gotcha\n",
        "new place: DUBLIN,CA\n",
        "gotcha\n",
        "gotcha\n",
        "new place: YORKTOWN HEIGHTS,NY\n",
        "new place:"
       ]
      },
      {
       "output_type": "stream",
       "stream": "stdout",
       "text": [
        " SIMPSONVILLE,SC\n",
        "new place: DUNSTABLE,MA\n",
        "new place: BROOKLYN,OH\n",
        "new place: NIANTIC,CT\n",
        "new place: WARE,MA\n",
        "new place: NICEVILLE,FL\n",
        "new place:"
       ]
      },
      {
       "output_type": "stream",
       "stream": "stdout",
       "text": [
        " GREENCASTLE,PA\n",
        "gotcha\n",
        "gotcha\n",
        "gotcha\n",
        "gotcha\n",
        "new place: GOLDEN,CO\n",
        "new place: ST. JOHNS,FL\n",
        "new place:"
       ]
      },
      {
       "output_type": "stream",
       "stream": "stdout",
       "text": [
        " RIVERHEAD,NY\n",
        "new place: APOLLO BEACH,FL\n",
        "new place: MOREHEAD CITY,NC\n",
        "new place: WARMINSTER,PA\n",
        "new place: POOLESVILLE,MD\n",
        "new place: SANFORD,NC\n",
        "new place: FAIRFAX,VT\n",
        "gotcha"
       ]
      },
      {
       "output_type": "stream",
       "stream": "stdout",
       "text": [
        "\n",
        "gotcha\n",
        "new place: WALDORF,MD\n",
        "new place: PEMBROKE PINES,FL\n",
        "new place: VENETIA,PA\n",
        "new place: MALVERN,OH\n",
        "new place: MILWAUKEE,WI\n",
        "new place: PEMBROKE,MA\n",
        "new place: PLEASANTON,CA\n",
        "gotcha\n",
        "gotcha\n",
        "new place:"
       ]
      },
      {
       "output_type": "stream",
       "stream": "stdout",
       "text": [
        " NEW LENOX,IL\n",
        "gotcha\n",
        "gotcha\n",
        "new place: WOODLAND PARK,CO\n",
        "gotcha\n",
        "gotcha\n",
        "new place: GREAT FALLS,VA\n",
        "gotcha\n",
        "gotcha\n",
        "gotcha\n",
        "gotcha\n",
        "new place:"
       ]
      },
      {
       "output_type": "stream",
       "stream": "stdout",
       "text": [
        " BREMERTON,WA\n",
        "new place: MIAMI,FL\n",
        "new place: CORPUS CHRISTI,TX\n",
        "new place: FAR HILLS,NJ\n",
        "gotcha\n",
        "gotcha\n",
        "gotcha\n",
        "gotcha\n",
        "new place: BELMONT,MA\n",
        "gotcha\n",
        "gotcha\n",
        "new place: WOODBURY,NJ\n",
        "new place: NEW YORK CITY,NY\n",
        "gotcha\n",
        "gotcha\n",
        "new place:"
       ]
      },
      {
       "output_type": "stream",
       "stream": "stdout",
       "text": [
        " ELKRIDGE,MD\n",
        "gotcha\n",
        "gotcha\n",
        "new place: VESTAL,NY\n",
        "new place: MARINA DEL REY,CA\n",
        "new place: LEWIS CENTER,OH\n",
        "new place: NEW MARKET,MD\n",
        "new place: CARMEL,IN\n",
        "new place: PARSIPPANY,NJ\n",
        "gotcha\n",
        "gotcha\n",
        "new place:"
       ]
      },
      {
       "output_type": "stream",
       "stream": "stdout",
       "text": [
        " HAWTHORN WOODS,IL\n",
        "new place: DERBY,CT\n",
        "new place: LAKE IN THE HILLS,IL\n",
        "new place: MILLIS,MA\n",
        "gotcha\n",
        "gotcha\n",
        "new place: WALTHAM,MA\n",
        "gotcha\n",
        "gotcha\n",
        "new place: GLEN ALLEN,VA\n",
        "new place: ACCOKEEK,MD\n",
        "new place:"
       ]
      },
      {
       "output_type": "stream",
       "stream": "stdout",
       "text": [
        " HOOVER,AL\n",
        "new place: ROXBURY,CT\n",
        "new place: SCARBOROUGH,ME\n",
        "new place: MISSOULA,MT\n",
        "new place: WILMOT,NH\n",
        "new place: POMPTON PLAINS,NJ\n",
        "new place: BOKEELIA,FL\n",
        "new place: SEVEN FIELDS,PA\n",
        "new place: PORT MATILDA,PA\n",
        "new place: COVINGTON,KY\n",
        "new place:"
       ]
      },
      {
       "output_type": "stream",
       "stream": "stdout",
       "text": [
        " FORT LEE,NJ\n",
        "gotcha\n",
        "gotcha\n",
        "gotcha\n",
        "gotcha\n",
        "new place: WHITE RIVER JUNCTI,VT\n",
        "new place: LANCASTER,CA\n",
        "new place: CHEROKEE,NC\n",
        "new place: MAMARONECK,NY\n",
        "new place:"
       ]
      },
      {
       "output_type": "stream",
       "stream": "stdout",
       "text": [
        " TIMONIUM,MD\n",
        "new place: ARLINGTON,TX\n",
        "new place: CAMP HILL,PA\n",
        "new place: CORONA,CA\n",
        "gotcha\n",
        "gotcha\n",
        "new place: HALETHORPE,MD\n",
        "new place: BOTHELL,WA\n",
        "new place:"
       ]
      },
      {
       "output_type": "stream",
       "stream": "stdout",
       "text": [
        " WASHINGTON DC,DC\n",
        "new place: MOUNT AIRY,MD\n",
        "new place: WYNDMOOR,PA\n",
        "new place: NEW STANTON,PA\n",
        "new place:"
       ]
      },
      {
       "output_type": "stream",
       "stream": "stdout",
       "text": [
        " OSWEGO,NY\n",
        "new place: OWENS CROSS ROADS,AL\n",
        "new place: RUTLAND,VT\n",
        "gotcha\n",
        "gotcha\n",
        "new place: BREA,CA\n",
        "new place: BELLEVUE,WA\n",
        "new place: PHILLIPSBURG,NJ\n",
        "new place: ROCKY RIVER,OH\n",
        "gotcha"
       ]
      },
      {
       "output_type": "stream",
       "stream": "stdout",
       "text": [
        "\n",
        "gotcha\n",
        "new place: BLAINE,MN\n",
        "new place: GOSHEN,IN\n",
        "gotcha\n",
        "gotcha\n",
        "gotcha"
       ]
      },
      {
       "output_type": "stream",
       "stream": "stdout",
       "text": [
        "\n",
        "gotcha\n",
        "gotcha\n",
        "gotcha\n",
        "new place: CASSADAGA,NY\n",
        "new place: PROVIDENCE,RI\n",
        "new place:"
       ]
      },
      {
       "output_type": "stream",
       "stream": "stdout",
       "text": [
        " FORT LAUDERDALE,FL\n",
        "gotcha\n",
        "gotcha\n",
        "new place: ROCKMART,GA\n",
        "new place: VOORHEESVILLE,NY\n",
        "new place: SCOTCH PLAINS,NJ\n",
        "gotcha\n",
        "gotcha\n",
        "new place:"
       ]
      },
      {
       "output_type": "stream",
       "stream": "stdout",
       "text": [
        " CONNELLSVILLE,PA\n",
        "new place: OLD WESTBURY,NY\n",
        "new place: CLARKSVILLE,TN\n",
        "new place: LOS ANGELES,CA\n",
        "gotcha\n",
        "gotcha\n",
        "new place: STEWARTSVILLE,NJ\n",
        "gotcha\n",
        "gotcha\n",
        "new place: THURMONT,MD\n",
        "new place: COHASSET,MA\n",
        "new place: FORT WASHINGTON,MD\n",
        "new place:"
       ]
      },
      {
       "output_type": "stream",
       "stream": "stdout",
       "text": [
        " KANEOHE,HI\n",
        "gotcha\n",
        "gotcha\n",
        "gotcha\n",
        "gotcha\n",
        "new place: DELRAY BEACH,FL\n",
        "new place: JERMYN,PA\n",
        "new place: KILLEEN,TX\n",
        "gotcha\n",
        "gotcha\n",
        "new place: PONTE VEDRA BEACH,FL\n",
        "new place:"
       ]
      },
      {
       "output_type": "stream",
       "stream": "stdout",
       "text": [
        " HAMPTON,VA\n",
        "new place: SCHERERVILLE,IN\n",
        "gotcha\n",
        "gotcha\n",
        "new place: WINTER GARDEN,FL\n",
        "new place: WARRENVILLE,IL\n",
        "gotcha\n",
        "gotcha\n",
        "new place: BOONES MILL,VA\n",
        "new place: LUBBOCK,TX\n",
        "new place: CHICOPEE,MA\n",
        "new place: WEDDINGTON,NC\n",
        "new place: HAM LAKE,MN\n",
        "new place:"
       ]
      },
      {
       "output_type": "stream",
       "stream": "stdout",
       "text": [
        " GRANDVILLE,MI\n",
        "new place: YUMA,AZ\n",
        "new place: WOODBURY,PA\n",
        "new place: DULUTH,GA\n",
        "gotcha\n",
        "gotcha\n",
        "new place: WILSON,NC\n",
        "new place: FAIRBORN,OH\n",
        "new place: FORT VALLEY,VA\n",
        "new place:"
       ]
      },
      {
       "output_type": "stream",
       "stream": "stdout",
       "text": [
        " BRAMBLETON,VA\n",
        "new place: MEDFORD,NJ\n",
        "new place: WILLIAMSPORT,OH\n",
        "new place: ROSELLE PARK,NJ\n",
        "new place: GLEN MILLS,PA\n",
        "new place:"
       ]
      },
      {
       "output_type": "stream",
       "stream": "stdout",
       "text": [
        " HILLSDALE,NJ\n",
        "new place: LAHASKA,PA\n",
        "new place: WILTON,IA\n",
        "new place: ARLGINTON,VA\n",
        "new place: LONG VALLEY,NJ\n",
        "gotcha\n",
        "gotcha\n",
        "new place: PHILLIPSPORT,NY\n",
        "new place:"
       ]
      },
      {
       "output_type": "stream",
       "stream": "stdout",
       "text": [
        " LAKELAND,FL\n",
        "new place: ZIONSVILLE,IN\n",
        "new place: LEBANON,NJ\n",
        "new place: SHOREWOOD,WI\n",
        "new place: KANSAS CITY,MO\n",
        "new place: WILKESBORO,NC\n",
        "gotcha"
       ]
      },
      {
       "output_type": "stream",
       "stream": "stdout",
       "text": [
        "\n",
        "gotcha\n",
        "new place: APALACHIN,NY\n",
        "new place: NISKAYUNA,NY\n",
        "new place: POMFRET,MD\n",
        "gotcha\n",
        "gotcha\n",
        "gotcha\n",
        "gotcha\n",
        "new place: SPOTSWOOD,NJ\n",
        "new place: CARY,ND\n",
        "new place: SANTA CLARA,CA\n",
        "new place: MUNITH,MI\n",
        "new place:"
       ]
      },
      {
       "output_type": "stream",
       "stream": "stdout",
       "text": [
        " DUBLIN,OH\n",
        "new place: MCGUIRE AFB,NJ\n",
        "gotcha\n",
        "gotcha\n",
        "gotcha\n",
        "gotcha\n",
        "new place: LEONARDO,NJ\n",
        "new place: SHERRILL,NY\n",
        "new place: JOPPA,MD\n",
        "gotcha"
       ]
      },
      {
       "output_type": "stream",
       "stream": "stdout",
       "text": [
        "\n",
        "gotcha\n",
        "new place: KIRKWOOD,MO\n",
        "gotcha\n",
        "gotcha\n",
        "gotcha\n",
        "gotcha\n",
        "new place:"
       ]
      },
      {
       "output_type": "stream",
       "stream": "stdout",
       "text": [
        " WESTON,FL\n",
        "new place: MONROE,NY\n",
        "gotcha\n",
        "gotcha\n",
        "new place: NORTH STONINGTON,CT\n",
        "new place: KENNETT SQUARE,PA\n",
        "new place: PFAFFTOWN,NC\n",
        "new place:"
       ]
      },
      {
       "output_type": "stream",
       "stream": "stdout",
       "text": [
        " PALM HARBOR,FL\n",
        "new place: MONROE,MI\n",
        "gotcha\n",
        "gotcha\n",
        "new place: BRONX,NY\n",
        "new place: MAPLE GLEN,PA\n",
        "new place: CUMBERLAND,RI\n",
        "gotcha\n",
        "gotcha\n",
        "gotcha\n",
        "gotcha\n",
        "new place:"
       ]
      },
      {
       "output_type": "stream",
       "stream": "stdout",
       "text": [
        " ANGIER,NC\n",
        "new place: FARMINGTON,MI\n",
        "gotcha\n",
        "gotcha\n",
        "new place: SEABROOK,NH\n",
        "new place: INTERNATIONAL FALL,MN\n",
        "new place: BURR RIDGE,IL\n",
        "new place: PEWAUKEE,WI\n",
        "new place: POWDER SPRINGS,GA\n",
        "new place:"
       ]
      },
      {
       "output_type": "stream",
       "stream": "stdout",
       "text": [
        " BEAVERDAM,VA\n",
        "new place: TOLEDO,OH\n",
        "gotcha\n",
        "gotcha\n",
        "new place: WASHINGTON C.H.,OH\n",
        "gotcha\n",
        "gotcha\n",
        "new place: PARISH,NY\n",
        "gotcha\n",
        "gotcha\n",
        "gotcha\n",
        "gotcha\n",
        "gotcha"
       ]
      },
      {
       "output_type": "stream",
       "stream": "stdout",
       "text": [
        "\n",
        "gotcha\n",
        "new place: MOUNTAIN GROVE,MO\n",
        "gotcha\n",
        "gotcha\n",
        "gotcha\n",
        "gotcha\n",
        "new place:"
       ]
      },
      {
       "output_type": "stream",
       "stream": "stdout",
       "text": [
        " BERWYN,IL\n",
        "gotcha\n",
        "gotcha\n",
        "new place: HARWOOD,MD\n",
        "gotcha\n",
        "gotcha\n",
        "gotcha\n",
        "gotcha\n",
        "new place: LIBERTYVILLE,IL\n",
        "new place: SARALAND,AL\n",
        "gotcha\n",
        "gotcha\n",
        "new place:"
       ]
      },
      {
       "output_type": "stream",
       "stream": "stdout",
       "text": [
        " EAST BRIDGEWATER,MA\n",
        "gotcha\n",
        "gotcha\n",
        "new place: PENN VALLEY,PA\n",
        "new place: WHITE PLAINS,NY\n",
        "gotcha\n",
        "gotcha\n",
        "gotcha\n",
        "gotcha\n",
        "new place: BRIDGEPORT,CT\n",
        "new place: GLENN DALE,MD\n",
        "new place: CLAYTON,MO\n",
        "new place: OWINGS MILLS,MD\n",
        "new place:"
       ]
      },
      {
       "output_type": "stream",
       "stream": "stdout",
       "text": [
        " ELK GROVE,CA\n",
        "new place: HAPPY VALLEY,OR\n",
        "new place: BRIELLE,NJ\n",
        "new place: BRUNSWICK,OH\n",
        "new place: SOUTH ORANGE,NJ\n",
        "new place: MACOMB TWP.,MI\n",
        "new place: FAIR LAWN,NJ\n",
        "gotcha\n",
        "gotcha\n",
        "new place:"
       ]
      },
      {
       "output_type": "stream",
       "stream": "stdout",
       "text": [
        " GOLDSBORO,NC\n",
        "new place: CORNWALL,NY\n",
        "new place: ROBINSON,TX\n",
        "new place: HUNTSVILLE,AL\n",
        "gotcha\n",
        "gotcha\n",
        "gotcha\n",
        "gotcha\n",
        "new place: MASSAPEQUA PARK,NY\n",
        "gotcha\n",
        "gotcha\n",
        "new place:"
       ]
      },
      {
       "output_type": "stream",
       "stream": "stdout",
       "text": [
        " SUNBURY,OH\n",
        "gotcha\n",
        "gotcha\n",
        "new place: CHULA VISTA,CA\n",
        "new place: LISBON,CT\n",
        "new place: PORTOLA VALLEY,CA\n",
        "gotcha\n",
        "gotcha\n",
        "new place: UNIVERSITY CITY,MO\n",
        "new place: TEMPLETON,PA\n",
        "new place:"
       ]
      },
      {
       "output_type": "stream",
       "stream": "stdout",
       "text": [
        " PEORIA,IL\n",
        "gotcha\n",
        "gotcha\n",
        "gotcha\n",
        "gotcha\n",
        "gotcha\n",
        "gotcha\n",
        "new place: SCHWENKSVILLE,PA\n",
        "new place: CHARLES CITY,VA\n",
        "new place: MASON,OH\n",
        "new place: SHOREVIEW,MN\n",
        "new place: LYNN,MA\n",
        "new place: FULSHEART,TX\n",
        "new place: WAGONTOWN,PA\n",
        "new place:"
       ]
      },
      {
       "output_type": "stream",
       "stream": "stdout",
       "text": [
        " EAST MEADOW,NY\n",
        "new place: PLACENTIA,CA\n",
        "new place: KAILUA,HI\n",
        "new place: MARSHFIELD,MA\n",
        "gotcha\n",
        "gotcha\n",
        "new place: ARCHDALE,NC\n",
        "new place:"
       ]
      },
      {
       "output_type": "stream",
       "stream": "stdout",
       "text": [
        " FOREST HILLS,NY\n",
        "new place: ILION,NY\n",
        "gotcha\n",
        "gotcha\n",
        "new place: SCITUATE,MA\n",
        "new place: SARANAC LAKE,NY\n",
        "new place: JACKSON,MS\n",
        "new place: ELIZAUBETHTOWN,PA\n",
        "gotcha"
       ]
      },
      {
       "output_type": "stream",
       "stream": "stdout",
       "text": [
        "\n",
        "gotcha\n",
        "gotcha\n",
        "gotcha\n",
        "new place: COLUMBUS,GA\n",
        "new place:"
       ]
      },
      {
       "output_type": "stream",
       "stream": "stdout",
       "text": [
        " MILTON,GA\n",
        "new place: SMYRNA,GA\n",
        "new place: SHREWSBURY,NJ\n",
        "new place:"
       ]
      },
      {
       "output_type": "stream",
       "stream": "stdout",
       "text": [
        " LATHAM,NY\n",
        "new place: SAMMAMISH,WA\n",
        "new place: CINNAMINSON,NJ\n",
        "new place: BROOKLY,NY\n",
        "new place: LAGUNA BEACH,CA\n",
        "new place: ENGLEWOO,CO\n",
        "new place: WYNNEWOOD,PA\n",
        "new place: SPRINGFIEDL,VA\n",
        "new place:"
       ]
      },
      {
       "output_type": "stream",
       "stream": "stdout",
       "text": [
        " HAMDEN,CT\n",
        "new place: HADDONFIELD,NJ\n",
        "gotcha\n",
        "gotcha\n",
        "gotcha\n",
        "gotcha\n",
        "gotcha\n",
        "gotcha\n",
        "gotcha\n",
        "gotcha\n",
        "new place:"
       ]
      },
      {
       "output_type": "stream",
       "stream": "stdout",
       "text": [
        " ELKHORN,NE\n",
        "new place: ALLENTOWN,PA\n",
        "new place: WESTLAKE VILLAGE,CA\n",
        "new place: MAHATTEN BEACH,CA\n",
        "gotcha"
       ]
      },
      {
       "output_type": "stream",
       "stream": "stdout",
       "text": [
        "\n",
        "gotcha\n",
        "new place: HIGHLAND PARK,IL\n",
        "new place: LA PLACE,LA\n",
        "new place: DAISY,OK\n",
        "gotcha\n",
        "gotcha\n",
        "new place: MT. SINAI,NY\n",
        "new place: NORWAK,CT\n",
        "gotcha"
       ]
      },
      {
       "output_type": "stream",
       "stream": "stdout",
       "text": [
        "\n",
        "gotcha\n",
        "new place: CAMDEN,ME\n",
        "new place: MOUNT WASHINGTON,KY\n",
        "new place: OLD SAYBROOK,CT\n",
        "new place: MECHNICSVILLE,VA\n",
        "gotcha\n",
        "gotcha\n",
        "new place: SCHENECTADY,NY\n",
        "new place: LEDGEWOOD,NJ\n",
        "new place: EATONTOWN,NJ\n",
        "gotcha"
       ]
      },
      {
       "output_type": "stream",
       "stream": "stdout",
       "text": [
        "\n",
        "gotcha\n",
        "gotcha\n",
        "gotcha\n",
        "gotcha\n",
        "gotcha\n",
        "new place: ORION,MI\n",
        "new place: WINCHESTER,CA\n",
        "gotcha\n",
        "gotcha\n",
        "new place:"
       ]
      },
      {
       "output_type": "stream",
       "stream": "stdout",
       "text": [
        " COROLLA,NC\n",
        "new place: COLUMBIA,MO\n",
        "new place: HYDE PARK,MA\n",
        "new place: QUEENS,NY\n",
        "new place: CAPE ELIZABETH,ME\n",
        "new place: BRUNSWICK,MD\n",
        "gotcha"
       ]
      },
      {
       "output_type": "stream",
       "stream": "stdout",
       "text": [
        "\n",
        "gotcha\n",
        "gotcha\n",
        "gotcha\n",
        "new place: LEESPORT,PA\n",
        "new place: ELLICOTT CITY,MH\n",
        "new place: SWAMPSCOTT,MA\n",
        "gotcha\n",
        "gotcha\n",
        "new place: CHALFONT,PA\n",
        "new place: SALINE,MI\n",
        "new place:"
       ]
      },
      {
       "output_type": "stream",
       "stream": "stdout",
       "text": [
        " WINDHAM,NH\n",
        "gotcha\n",
        "gotcha\n",
        "new place: POTSDAM,NY\n",
        "new place: CHESTERFIELD,MO\n",
        "gotcha\n",
        "gotcha\n",
        "gotcha"
       ]
      },
      {
       "output_type": "stream",
       "stream": "stdout",
       "text": [
        "\n",
        "gotcha\n",
        "new place: NORTHFIELD,VT\n",
        "gotcha\n",
        "gotcha\n",
        "gotcha\n",
        "gotcha\n",
        "gotcha\n",
        "gotcha\n",
        "gotcha\n",
        "gotcha\n",
        "gotcha\n",
        "gotcha\n",
        "new place: NORTH ROYALTON,OH\n",
        "new place: DUNWOODY,GA\n",
        "new place: NORTH CLARENDON,VT\n",
        "gotcha\n",
        "gotcha\n",
        "gotcha\n",
        "gotcha\n",
        "new place: BRASELTON,GA\n",
        "new place:"
       ]
      },
      {
       "output_type": "stream",
       "stream": "stdout",
       "text": [
        " OOSTBURG,WI\n",
        "new place: HALEDON,NJ\n",
        "gotcha\n",
        "gotcha\n",
        "new place: BENEDICT,MD\n",
        "new place: TAPPAHANNOCK,VA\n",
        "new place:"
       ]
      },
      {
       "output_type": "stream",
       "stream": "stdout",
       "text": [
        " WHITINSVILLE,MA\n",
        "new place: AUBURN HILLS,MI\n",
        "new place: FT BELVOIR,VA\n",
        "new place: MARYVILLE,TN\n",
        "new place: COLONIA,NJ\n",
        "gotcha\n",
        "gotcha\n",
        "new place:"
       ]
      },
      {
       "output_type": "stream",
       "stream": "stdout",
       "text": [
        " MALDEN,MA\n",
        "gotcha\n",
        "gotcha\n",
        "gotcha\n",
        "gotcha\n",
        "new place: NEW MILFORD,CT\n",
        "gotcha\n",
        "gotcha\n",
        "gotcha\n",
        "gotcha\n",
        "new place: ALTUS,OK\n",
        "new place:"
       ]
      },
      {
       "output_type": "stream",
       "stream": "stdout",
       "text": [
        " WEST LAFAYETTE,IN\n",
        "new place: BELEWS CREEK,NC\n",
        "new place: HEMPSTEAD,NY\n",
        "gotcha\n",
        "gotcha\n",
        "gotcha\n",
        "gotcha\n",
        "gotcha\n",
        "gotcha\n",
        "new place: LAMBERTVILLE,MI\n",
        "new place: BIRMINGHAM,MI\n",
        "new place:"
       ]
      },
      {
       "output_type": "stream",
       "stream": "stdout",
       "text": [
        " CLACKAMAS,OR\n",
        "new place: DENVER,CO\n",
        "new place: SPRINGFIELD,MA\n",
        "gotcha\n",
        "gotcha\n",
        "gotcha"
       ]
      },
      {
       "output_type": "stream",
       "stream": "stdout",
       "text": [
        "\n",
        "gotcha\n",
        "new place: TEANECK,NJ\n",
        "gotcha\n",
        "gotcha\n",
        "gotcha\n",
        "gotcha\n",
        "new place: MILFORD,MI\n",
        "gotcha"
       ]
      },
      {
       "output_type": "stream",
       "stream": "stdout",
       "text": [
        "\n",
        "gotcha\n",
        "new place: CONCORD,NC\n",
        "new place: GERMANTOWN,TN\n",
        "new place: COLUMBUS,IN\n",
        "new place:"
       ]
      },
      {
       "output_type": "stream",
       "stream": "stdout",
       "text": [
        " NAPLES,FL\n",
        "gotcha\n",
        "gotcha\n",
        "new place: ALACHUA,FL\n",
        "new place: JOLIET,IL\n",
        "new place: APPLE VALLEY,MN\n",
        "gotcha\n",
        "gotcha\n",
        "new place: ROUND HILL,VA\n",
        "new place: BOSTONS,MA\n",
        "gotcha\n",
        "gotcha\n",
        "new place: WILTON,CT\n",
        "new place:"
       ]
      },
      {
       "output_type": "stream",
       "stream": "stdout",
       "text": [
        " BETHPAGE,NY\n",
        "new place: HUNTINGTOWN,MD\n",
        "new place: ROSCOE,IL\n",
        "gotcha\n",
        "gotcha\n",
        "gotcha\n",
        "gotcha\n",
        "new place: WAYNE,NJ\n",
        "new place:"
       ]
      },
      {
       "output_type": "stream",
       "stream": "stdout",
       "text": [
        " MT. PROSPECT,IL\n",
        "gotcha\n",
        "gotcha\n",
        "gotcha\n",
        "gotcha\n",
        "new place: WOODLANDS,TX\n",
        "new place: WOODBRIDGE,CT\n",
        "new place: PARKLAND,FL\n",
        "new place: SPRING LAKE HEIGHT,NJ\n",
        "new place:"
       ]
      },
      {
       "output_type": "stream",
       "stream": "stdout",
       "text": [
        " ALHAMBRA,CA\n",
        "new place: LONGVIEW,TX\n",
        "new place: SANDY SPRINGS,GA\n",
        "new place: NEWARK,OH\n",
        "new place: DUPONT,WA\n",
        "new place: COLCHESTER,VT\n",
        "gotcha\n",
        "gotcha\n",
        "new place: WHITEFISH BAY,WI\n",
        "new place:"
       ]
      },
      {
       "output_type": "stream",
       "stream": "stdout",
       "text": [
        " NEW HOPE,MN\n",
        "new place: NORWICH,CT\n",
        "gotcha\n",
        "gotcha\n",
        "new place: PORTSMOUTH,NH\n",
        "gotcha\n",
        "gotcha\n",
        "new place: MIDDLETOWN,NY\n",
        "new place: MARBLEHEAD,MA\n",
        "new place:"
       ]
      },
      {
       "output_type": "stream",
       "stream": "stdout",
       "text": [
        " POTTSTOWN,PA\n",
        "new place: WATERVLIET,NY\n",
        "gotcha\n",
        "gotcha\n",
        "gotcha\n",
        "gotcha\n",
        "gotcha\n",
        "gotcha\n",
        "gotcha\n",
        "gotcha\n",
        "new place:"
       ]
      },
      {
       "output_type": "stream",
       "stream": "stdout",
       "text": [
        " WILTON,CO\n",
        "gotcha\n",
        "gotcha\n",
        "gotcha\n",
        "gotcha\n",
        "new place: DEFRAFF,OH\n",
        "new place: CALHOUN,GA\n",
        "new place: WASHINGTON,CT\n",
        "new place:"
       ]
      },
      {
       "output_type": "stream",
       "stream": "stdout",
       "text": [
        " OSCEOLA,IN\n",
        "new place: LONGWOOD,FL\n",
        "new place: MOUNDS,OK\n",
        "gotcha\n",
        "gotcha\n",
        "new place: PALOS HILLS,IL\n",
        "new place: FORT BENNING,GA\n",
        "new place: MADISON,AL\n",
        "new place: DANIEL ISLAND,SC\n",
        "gotcha\n",
        "gotcha\n",
        "new place:"
       ]
      },
      {
       "output_type": "stream",
       "stream": "stdout",
       "text": [
        " CHRISTIANSBURG,VA\n",
        "new place: DEER PARK,WI\n",
        "new place: SICKLERVILLE,NJ\n",
        "new place: SHOREHAM,NY\n",
        "new place: BOOTHBAY HARBOR,ME\n",
        "new place: WHEAT RIDGE,CO\n",
        "new place: TINLEY PARK,IL\n",
        "new place: EDMOND,OK\n",
        "gotcha"
       ]
      },
      {
       "output_type": "stream",
       "stream": "stdout",
       "text": [
        "\n",
        "gotcha\n",
        "new place: TARPON SPRINGS,FL\n",
        "new place: HAGERSTOWN,MD\n",
        "gotcha\n",
        "gotcha\n",
        "new place: LANSING,MI\n",
        "new place: FORT WORTH,TX\n",
        "gotcha\n",
        "gotcha\n",
        "new place: MARRERO,LA\n",
        "new place: BLAUVELT,NY\n",
        "new place: PAROLE,MD\n",
        "gotcha\n",
        "gotcha\n",
        "new place:"
       ]
      },
      {
       "output_type": "stream",
       "stream": "stdout",
       "text": [
        " CHANHASSEN,MN\n",
        "new place: ALLEN,TX\n",
        "gotcha\n",
        "gotcha\n",
        "gotcha\n",
        "gotcha\n",
        "new place: THORNWOOD,NY\n",
        "gotcha"
       ]
      },
      {
       "output_type": "stream",
       "stream": "stdout",
       "text": [
        "\n",
        "gotcha\n",
        "new place: BOONSBORO,MD\n",
        "new place: CARROLLTON,VA\n",
        "new place:"
       ]
      },
      {
       "output_type": "stream",
       "stream": "stdout",
       "text": [
        " FRANKLIN,MI\n",
        "new place: EAST WINDSOR,NJ\n",
        "new place: GRANVILLE,OH\n",
        "new place: DAVENPORT,IA\n",
        "new place: APOPKA,FL\n",
        "gotcha"
       ]
      },
      {
       "output_type": "stream",
       "stream": "stdout",
       "text": [
        "\n",
        "gotcha\n",
        "gotcha\n",
        "gotcha\n",
        "new place: WEST SENECA,NY\n",
        "new place: FRANKLIN,NJ\n",
        "new place: MULLICA HILL,NJ\n",
        "gotcha\n",
        "gotcha\n",
        "gotcha\n",
        "gotcha\n",
        "gotcha"
       ]
      },
      {
       "output_type": "stream",
       "stream": "stdout",
       "text": [
        "\n",
        "gotcha\n",
        "new place: NEW VERNON,NJ\n",
        "new place: SPANISH FORT,AL\n",
        "new place: GLEN HEAD,NY\n",
        "new place: NOVI,MI\n",
        "new place: LACANADA,CA\n",
        "new place: ALGONQUIN,IL\n",
        "new place:"
       ]
      },
      {
       "output_type": "stream",
       "stream": "stdout",
       "text": [
        " PEARLAND,TX\n",
        "gotcha\n",
        "gotcha\n",
        "gotcha\n",
        "gotcha\n",
        "gotcha\n",
        "gotcha\n",
        "gotcha\n",
        "gotcha\n",
        "gotcha\n",
        "gotcha\n",
        "gotcha\n",
        "gotcha\n",
        "gotcha\n",
        "gotcha\n",
        "gotcha"
       ]
      },
      {
       "output_type": "stream",
       "stream": "stdout",
       "text": [
        "\n",
        "gotcha\n",
        "gotcha\n",
        "gotcha\n",
        "new place: FT. MEADE,MD\n",
        "new place: GULFPORT,MS\n",
        "new place: WESTWOOD,MA\n",
        "new place: DIX HILLS,NY\n",
        "new place: MARLBORO,NJ\n",
        "new place:"
       ]
      },
      {
       "output_type": "stream",
       "stream": "stdout",
       "text": [
        " CHARLES TOWN,WV\n",
        "new place: OAKLAND,CA\n",
        "gotcha\n",
        "gotcha\n",
        "gotcha"
       ]
      },
      {
       "output_type": "stream",
       "stream": "stdout",
       "text": [
        "\n",
        "gotcha\n",
        "gotcha\n",
        "gotcha\n",
        "new place: NARVON,PA\n",
        "gotcha\n",
        "gotcha\n",
        "new place: DAVIS,CA\n",
        "gotcha\n",
        "gotcha\n",
        "new place:"
       ]
      },
      {
       "output_type": "stream",
       "stream": "stdout",
       "text": [
        " THIBODAUX,LA\n",
        "new place: ALABASTER,AL\n",
        "new place: MERCERSBURG,PA\n",
        "new place: ST FRANCIS,WI\n",
        "new place: PALM BEACH GARDENS,FL\n",
        "gotcha\n",
        "gotcha\n",
        "new place:"
       ]
      },
      {
       "output_type": "stream",
       "stream": "stdout",
       "text": [
        " SAINT JOSEPH,MI\n",
        "new place: SOUTH TOMS RIVER,NJ\n",
        "new place: WEST CHICAGO,IL\n",
        "gotcha\n",
        "gotcha\n",
        "new place:"
       ]
      },
      {
       "output_type": "stream",
       "stream": "stdout",
       "text": [
        " MOON TOWNSHIP,PA\n",
        "new place: OAKWOOD HILLS,IL\n",
        "new place: NORTH MYRTLE BEACH,SC\n",
        "gotcha\n",
        "gotcha\n",
        "new place: NORTH KINGSTOWN,RI\n",
        "gotcha\n",
        "gotcha\n",
        "new place:"
       ]
      },
      {
       "output_type": "stream",
       "stream": "stdout",
       "text": [
        " VALRICO,FL\n",
        "new place: HILL AFB,UT\n",
        "new place: TOWACO,NJ\n",
        "new place: RICHMOND,TX\n",
        "new place: URBANA,MD\n",
        "new place: RIVERVIEW,FL\n",
        "new place:"
       ]
      },
      {
       "output_type": "stream",
       "stream": "stdout",
       "text": [
        " GLEN ROCK,NJ\n",
        "new place: CAMBRIDGE,OH\n",
        "gotcha\n",
        "gotcha\n",
        "gotcha\n",
        "gotcha\n",
        "new place: COVINGTON,VA\n",
        "new place: JACKSON,TN\n",
        "gotcha\n",
        "gotcha\n",
        "new place: YORK,MD\n",
        "new place:"
       ]
      },
      {
       "output_type": "stream",
       "stream": "stdout",
       "text": [
        " CORAOPOLIS,PA\n",
        "new place: CLERMONT,FL\n",
        "new place: CRESSKILL,NJ\n",
        "gotcha\n",
        "gotcha\n",
        "new place: APEX NC 27539,NC\n",
        "new place: SHIREMANSTOWN,PA\n",
        "gotcha"
       ]
      },
      {
       "output_type": "stream",
       "stream": "stdout",
       "text": [
        "\n",
        "gotcha\n",
        "gotcha\n",
        "gotcha\n",
        "new place: WILMETTE,IL\n",
        "gotcha\n",
        "gotcha\n",
        "new place: BIRCHRUNVILLE,PA\n",
        "new place: SPENCERPORT,NY\n",
        "new place: CORRYTON,TN\n",
        "gotcha\n",
        "gotcha\n",
        "new place: ALAMEDA,CA\n",
        "gotcha"
       ]
      },
      {
       "output_type": "stream",
       "stream": "stdout",
       "text": [
        "\n",
        "gotcha\n",
        "new place: PARIS,KY\n",
        "new place: SIMSBURY,CT\n",
        "new place: DALTON,GA\n",
        "new place: ARNOLD,TX\n",
        "gotcha\n",
        "gotcha\n",
        "new place: BATES CITY,MO\n",
        "new place: EAST SYRACUSE,NY\n",
        "gotcha\n",
        "gotcha\n",
        "gotcha"
       ]
      },
      {
       "output_type": "stream",
       "stream": "stdout",
       "text": [
        "\n",
        "gotcha\n",
        "new place: HOMEWOOD,AL\n",
        "gotcha\n",
        "gotcha\n",
        "new place: WATKINSVILLE,GA\n",
        "new place: WESTPORT,CT\n",
        "new place: PALMYRA,IN\n",
        "new place:"
       ]
      },
      {
       "output_type": "stream",
       "stream": "stdout",
       "text": [
        " ACTON,MA\n",
        "new place: ALEXANDRIA VA,VA\n",
        "new place: MADEIRA BEACH,FL\n",
        "new place: SCOTT AFB,IL\n",
        "new place:"
       ]
      },
      {
       "output_type": "stream",
       "stream": "stdout",
       "text": [
        " DECATUR,GA\n",
        "new place: CENTERVILLE,OH\n",
        "new place: SACRAMENTO,CA\n",
        "new place: SAN RAMON,CA\n",
        "new place: MANCHESTER,MD\n",
        "new place: NEW ALBANY,OH\n",
        "new place: NEWNAN,GA\n",
        "gotcha\n",
        "gotcha\n",
        "new place:"
       ]
      },
      {
       "output_type": "stream",
       "stream": "stdout",
       "text": [
        " PITTSFIELD,MA\n",
        "new place: SUWANEE,GA\n",
        "new place: LUNENBURG,MA\n",
        "new place: SOMERVILLE,NJ\n",
        "new place: NEW LONDON,CT\n",
        "new place:"
       ]
      },
      {
       "output_type": "stream",
       "stream": "stdout",
       "text": [
        " VILLANOVA,PA\n",
        "new place: GORDONSVILLE,VA\n",
        "new place: FALKVILLE,AL\n",
        "new place: MASON CITY,IL\n",
        "new place: GARDEN CITY,NY\n",
        "gotcha\n",
        "gotcha\n",
        "gotcha"
       ]
      },
      {
       "output_type": "stream",
       "stream": "stdout",
       "text": [
        "\n",
        "gotcha\n",
        "gotcha\n",
        "gotcha\n",
        "gotcha\n",
        "gotcha\n",
        "gotcha\n",
        "gotcha\n",
        "new place: N POTOMAC,MD\n",
        "new place:"
       ]
      },
      {
       "output_type": "stream",
       "stream": "stdout",
       "text": [
        " WEST FRIENDSHIP,MD\n",
        "gotcha\n",
        "gotcha\n",
        "new place: HOLGATE,OH\n",
        "new place: FRANKLIN,WI\n",
        "new place: CLARENCE CENTER,NY\n",
        "new place: HIGHLAND,MD\n",
        "new place: MISSION VIEJO,CA\n",
        "gotcha\n",
        "gotcha\n",
        "gotcha"
       ]
      },
      {
       "output_type": "stream",
       "stream": "stdout",
       "text": [
        "\n",
        "gotcha\n",
        "gotcha\n",
        "gotcha\n",
        "gotcha\n",
        "gotcha\n",
        "new place: COCKEYSVILLE,MD\n",
        "new place: NORTH CALDWELL,NJ\n",
        "gotcha"
       ]
      },
      {
       "output_type": "stream",
       "stream": "stdout",
       "text": [
        "\n",
        "gotcha\n",
        "new place: SOUTH EUCLID,OH\n",
        "new place: ANTIOCH,IL\n",
        "new place: HANSCOM AFB,MA\n",
        "new place: PLAINSBORO,NJ\n",
        "new place: ABINGTON,PA\n",
        "gotcha\n",
        "gotcha\n",
        "new place: TROY,MI\n",
        "gotcha\n",
        "gotcha\n",
        "new place:"
       ]
      },
      {
       "output_type": "stream",
       "stream": "stdout",
       "text": [
        " IRVING,TX\n",
        "new place: SPRING BRANCH,TX\n",
        "new place: STERLING,MA\n",
        "new place: PLYMOUTH,WI\n",
        "new place: FALMOUTH,ME\n",
        "new place: FISKDALE,MA\n",
        "new place: ALPHARETTA,GA\n",
        "new place: QUANICO,VA\n",
        "new place: SOUTH GRAFTON,MA\n",
        "gotcha\n",
        "gotcha\n",
        "new place:"
       ]
      },
      {
       "output_type": "stream",
       "stream": "stdout",
       "text": [
        " HONOLULU,HI\n",
        "new place: CORVALLIS,OR\n",
        "new place: CHESTER,NY\n",
        "new place: DES MOINES,IA\n",
        "new place: DUNELLEN,NJ\n",
        "new place: PRINCETON,NC\n",
        "new place: HURLEY,NY\n",
        "new place: CHESTERFIELD,VA\n",
        "gotcha\n",
        "gotcha\n",
        "gotcha\n",
        "gotcha\n",
        "gotcha"
       ]
      },
      {
       "output_type": "stream",
       "stream": "stdout",
       "text": [
        "\n",
        "gotcha\n",
        "new place: ORANGEVILLE,PA\n",
        "new place: FLORIDA,NY\n",
        "new place: ROCKFORD,MI\n",
        "new place: MARINA DEL RAY,CA\n",
        "new place: BRISTOL,CT\n",
        "gotcha\n",
        "gotcha\n",
        "new place: WOODSTOCK,IL\n",
        "gotcha\n",
        "gotcha\n",
        "new place:"
       ]
      },
      {
       "output_type": "stream",
       "stream": "stdout",
       "text": [
        " LAKELAND,TN\n",
        "new place: RIDGEFIELD,WA\n",
        "gotcha\n",
        "gotcha\n",
        "new place: FORT WASHINGTON RD,MD\n",
        "gotcha\n",
        "gotcha\n",
        "new place: BERTHOUD,CO\n",
        "new place: WYOMISSING,PA\n",
        "gotcha"
       ]
      },
      {
       "output_type": "stream",
       "stream": "stdout",
       "text": [
        "\n",
        "gotcha\n",
        "new place: SAINT ALBANS,WV\n",
        "gotcha\n",
        "gotcha\n",
        "gotcha\n",
        "gotcha\n",
        "new place:"
       ]
      },
      {
       "output_type": "stream",
       "stream": "stdout",
       "text": [
        " UPPER MARLOBORO,MD\n",
        "new place: SPRING LAKE,NJ\n",
        "new place: NEW HYDE PARK,NY\n",
        "gotcha\n",
        "gotcha\n",
        "gotcha\n",
        "gotcha\n",
        "gotcha\n",
        "gotcha\n",
        "gotcha\n",
        "gotcha\n",
        "new place: PALM BAY,FL\n",
        "new place: KATY,TX\n",
        "new place:"
       ]
      },
      {
       "output_type": "stream",
       "stream": "stdout",
       "text": [
        " SANTEE,CA\n",
        "gotcha\n",
        "gotcha\n",
        "new place: SATELLITE BEACH,FL\n",
        "new place: EL DORADO HILLS,CA\n",
        "gotcha\n",
        "gotcha\n",
        "gotcha\n",
        "gotcha\n",
        "new place:"
       ]
      },
      {
       "output_type": "stream",
       "stream": "stdout",
       "text": [
        " FREDERICKSBURG,PA\n",
        "new place: MCALLEN,TX\n",
        "gotcha\n",
        "gotcha\n",
        "new place: MATTITUCK,NY\n",
        "new place: ELLIJAY,GA\n",
        "gotcha\n",
        "gotcha\n",
        "new place: ROCKLAND,MA\n",
        "gotcha\n",
        "gotcha\n",
        "new place: DEKALB,IL\n",
        "new place:"
       ]
      },
      {
       "output_type": "stream",
       "stream": "stdout",
       "text": [
        " BRIGHTON,MA\n",
        "new place: JACKSON,NJ\n",
        "new place: OAK RIDGE,NC\n",
        "gotcha\n",
        "gotcha\n",
        "new place: ERIEVILLLE,NY\n",
        "gotcha\n",
        "gotcha\n",
        "new place:"
       ]
      },
      {
       "output_type": "stream",
       "stream": "stdout",
       "text": [
        " APO,NY\n",
        "gotcha\n",
        "gotcha\n",
        "new place: BLOOMINGDALE,NJ\n",
        "new place: PORT HURON,MI\n",
        "gotcha\n",
        "gotcha\n",
        "new place: FLOWERY BRANCH,GA\n",
        "new place:"
       ]
      },
      {
       "output_type": "stream",
       "stream": "stdout",
       "text": [
        " PRINCE FREDERICK,MD\n",
        "new place: DPIO,AE\n",
        "gotcha\n",
        "gotcha\n",
        "new place: WEST HARTFORD,CT\n",
        "new place: BERLIN,NJ\n",
        "new place:"
       ]
      },
      {
       "output_type": "stream",
       "stream": "stdout",
       "text": [
        " CARMEL,NY\n",
        "gotcha\n",
        "gotcha\n",
        "new place: GEORGETOWN,KY\n",
        "new place: SOUTHINGTON,CT\n",
        "new place: TRUMBULL,CO\n",
        "gotcha\n",
        "gotcha\n",
        "gotcha\n",
        "gotcha\n",
        "new place: SUITLAND,MD\n",
        "new place:"
       ]
      },
      {
       "output_type": "stream",
       "stream": "stdout",
       "text": [
        " BALLSTON LAKE,NY\n",
        "new place: CROSS ROADS,TX\n",
        "gotcha\n",
        "gotcha\n",
        "new place: WEST LINN,OR\n",
        "gotcha\n",
        "gotcha\n",
        "new place: CHELTENHAM,MD\n",
        "gotcha\n",
        "gotcha\n",
        "new place: SCHUYLER FALLS,NY\n",
        "new place: BOXBOROUGH,MA\n",
        "gotcha"
       ]
      },
      {
       "output_type": "stream",
       "stream": "stdout",
       "text": [
        "\n",
        "gotcha\n",
        "new place: LINCOLN,CA\n",
        "new place: FREEHOLD,NJ\n",
        "gotcha\n",
        "gotcha\n",
        "new place: TENAFLY,NJ\n",
        "new place: JASPER,AL\n",
        "new place: GAMBRILLS,MD\n",
        "gotcha\n",
        "gotcha\n",
        "new place: MORGANTOWN,WV\n",
        "new place:"
       ]
      },
      {
       "output_type": "stream",
       "stream": "stdout",
       "text": [
        " GLEN GARDNER,NJ\n",
        "gotcha\n",
        "gotcha\n",
        "new place: HATTIESBURG,MS\n",
        "new place: TORRANCE,CA\n",
        "new place: HARBORCREEK,PA\n",
        "gotcha\n",
        "gotcha\n",
        "new place: NASHPORT,OH\n",
        "new place: WARFORDSBURG,PA\n",
        "gotcha\n",
        "gotcha\n",
        "new place:"
       ]
      },
      {
       "output_type": "stream",
       "stream": "stdout",
       "text": [
        " BATESVILLE,IN\n",
        "new place: EDGEWOOD,KY\n",
        "gotcha\n",
        "gotcha\n",
        "new place:"
       ]
      },
      {
       "output_type": "stream",
       "stream": "stdout",
       "text": [
        " SELAH,WA\n",
        "new place: ELMHURST,IL\n",
        "new place: RIDGELY,MD\n",
        "new place: KILL DEVIL HILLS,NC\n",
        "gotcha"
       ]
      },
      {
       "output_type": "stream",
       "stream": "stdout",
       "text": [
        "\n",
        "gotcha\n",
        "new place: BAYSIDE,NY\n",
        "new place: SUDBURY,MA\n",
        "new place: RUSKIN,FL\n",
        "new place:"
       ]
      },
      {
       "output_type": "stream",
       "stream": "stdout",
       "text": [
        " MIDDLETOWN,NJ\n",
        "gotcha\n",
        "gotcha\n",
        "new place: DOVER,MA\n",
        "new place: LUTHERVILLE,MD\n",
        "new place: FORT MEADE,MD\n",
        "gotcha\n",
        "gotcha\n",
        "new place: PACE,FL\n",
        "new place: TICONDEROGA,NY\n",
        "gotcha"
       ]
      },
      {
       "output_type": "stream",
       "stream": "stdout",
       "text": [
        "\n",
        "gotcha\n",
        "gotcha\n",
        "gotcha\n",
        "gotcha\n",
        "gotcha\n",
        "new place: LIVERPOOL,NY\n",
        "gotcha"
       ]
      },
      {
       "output_type": "stream",
       "stream": "stdout",
       "text": [
        "\n",
        "gotcha\n",
        "new place: CHESTER,MA\n",
        "gotcha\n",
        "gotcha\n",
        "gotcha\n",
        "gotcha\n",
        "new place: WEEHAWKEN,NJ\n",
        "gotcha\n",
        "gotcha\n",
        "new place: HORNELL,NY\n",
        "new place: TAPPAN,NY\n",
        "new place: DUXBURY,VT\n",
        "gotcha"
       ]
      },
      {
       "output_type": "stream",
       "stream": "stdout",
       "text": [
        "\n",
        "gotcha\n",
        "gotcha\n",
        "gotcha\n",
        "new place: HARRISON,OH\n",
        "new place: NORTH LAUDERDALE,FL\n",
        "gotcha\n",
        "gotcha\n",
        "new place: BARNSTABLE,MA\n",
        "gotcha\n",
        "gotcha\n",
        "new place: BRYAN,TX\n",
        "new place: CLINTON,MD\n",
        "new place:"
       ]
      },
      {
       "output_type": "stream",
       "stream": "stdout",
       "text": [
        " OXON HILL,MD\n",
        "new place: SOUTH BEND,IN\n",
        "gotcha\n",
        "gotcha\n",
        "gotcha"
       ]
      },
      {
       "output_type": "stream",
       "stream": "stdout",
       "text": [
        "\n",
        "gotcha\n",
        "new place: ROGERSVILLE,MO\n",
        "gotcha\n",
        "gotcha\n",
        "gotcha\n",
        "gotcha\n",
        "gotcha\n",
        "gotcha\n",
        "gotcha\n",
        "gotcha\n",
        "new place: MAHTOMEDI,MN\n",
        "new place: VENICE,FL\n",
        "new place: UNION,NJ\n",
        "new place:"
       ]
      },
      {
       "output_type": "stream",
       "stream": "stdout",
       "text": [
        " DOUGLASSVILLE,PA\n",
        "new place: CRESTVIEW,FL\n",
        "new place: HARLEYSVILLE,PA\n",
        "new place: YOUNGSVILLE,LA\n",
        "new place:"
       ]
      },
      {
       "output_type": "stream",
       "stream": "stdout",
       "text": [
        " WAUWATOSA,WI\n",
        "new place: CARO,MI\n",
        "gotcha\n",
        "gotcha\n",
        "new place: CARSON,VT\n",
        "new place: PITTSTOWN,NJ\n",
        "gotcha"
       ]
      },
      {
       "output_type": "stream",
       "stream": "stdout",
       "text": [
        "\n",
        "gotcha\n",
        "new place: NOTTINGHAM,MD\n",
        "gotcha\n",
        "gotcha\n",
        "new place: AVON,IN\n",
        "new place: BERRYVILLE,VA\n",
        "new place:"
       ]
      },
      {
       "output_type": "stream",
       "stream": "stdout",
       "text": [
        " HAMPDEN,ME\n",
        "gotcha\n",
        "gotcha\n",
        "new place: MARKHAM,VA\n",
        "new place: FOREST HILL,MD\n",
        "new place: WHITE HALL,MD\n",
        "new place: SHERBORN,MA\n",
        "new place: PLANTSVILLE,CT\n",
        "gotcha\n",
        "gotcha\n",
        "new place: SPANAWAY,WA\n",
        "gotcha\n",
        "gotcha\n",
        "new place: "
       ]
      },
      {
       "output_type": "stream",
       "stream": "stdout",
       "text": [
        "FREELAND,MI\n",
        "gotcha\n",
        "gotcha\n",
        "gotcha\n",
        "gotcha\n",
        "new place: LAKEVILLE,MN\n",
        "gotcha\n",
        "gotcha\n",
        "gotcha\n",
        "gotcha\n",
        "gotcha"
       ]
      },
      {
       "output_type": "stream",
       "stream": "stdout",
       "text": [
        "\n",
        "gotcha\n",
        "gotcha\n",
        "gotcha\n",
        "new place: BEDFORD,NH\n",
        "new place: CORVALLIS,MT\n",
        "new place: ESSEX,MD\n",
        "new place: NEWTOWN,CT\n",
        "gotcha\n",
        "gotcha\n",
        "gotcha\n",
        "gotcha\n",
        "gotcha\n",
        "gotcha\n",
        "gotcha"
       ]
      },
      {
       "output_type": "stream",
       "stream": "stdout",
       "text": [
        "\n",
        "gotcha\n",
        "gotcha\n",
        "gotcha\n",
        "new place: CANTON,CT\n",
        "new place: CAMPBELL,CA\n",
        "gotcha\n",
        "gotcha\n",
        "gotcha\n",
        "gotcha\n",
        "new place:"
       ]
      },
      {
       "output_type": "stream",
       "stream": "stdout",
       "text": [
        " FRANKLIN,TN\n",
        "gotcha\n",
        "gotcha\n",
        "gotcha\n",
        "gotcha\n",
        "new place: MIAMI BEACH,FL\n",
        "gotcha\n",
        "gotcha\n",
        "new place:"
       ]
      },
      {
       "output_type": "stream",
       "stream": "stdout",
       "text": [
        " BLUFFTON,TX\n",
        "gotcha\n",
        "gotcha\n",
        "new place: ROCKLIN,CA\n",
        "new place: LOUDONVILLE,NY\n",
        "gotcha\n",
        "gotcha\n",
        "new place: COPPERAS COVE,TX\n",
        "new place: ARGYLE,TX\n",
        "new place: BELLINGHAM,WA\n",
        "gotcha"
       ]
      },
      {
       "output_type": "stream",
       "stream": "stdout",
       "text": [
        "\n",
        "gotcha\n",
        "new place: DOVERSTDOVER,NJ\n",
        "new place: FARMINGTON,CT\n",
        "new place: MANSFIELD,TX\n",
        "gotcha\n",
        "gotcha\n",
        "gotcha\n",
        "gotcha\n",
        "new place: PALO ALTO,CA\n",
        "gotcha"
       ]
      },
      {
       "output_type": "stream",
       "stream": "stdout",
       "text": [
        "\n",
        "gotcha\n",
        "gotcha\n",
        "gotcha\n",
        "gotcha\n",
        "gotcha\n",
        "gotcha\n",
        "gotcha\n",
        "gotcha\n",
        "gotcha\n",
        "gotcha\n",
        "gotcha\n",
        "new place: SULLIVANS ISLAND,SC\n",
        "new place: UXBRIDGE,MA\n",
        "new place:"
       ]
      },
      {
       "output_type": "stream",
       "stream": "stdout",
       "text": [
        " BRYN ATHYN,PA\n",
        "gotcha\n",
        "gotcha\n",
        "new place: JENKINTOWN,PA\n",
        "new place: BALA CYNWYD,PA\n",
        "gotcha\n",
        "gotcha\n",
        "new place: BERKLEY HEIGHTS,NJ\n",
        "gotcha\n",
        "gotcha\n",
        "new place: MEDINA,OH\n",
        "new place: DOVER,NJ\n",
        "new place: BROOKFIELD,CT\n",
        "new place: OSWEGO,IL\n",
        "new place:"
       ]
      },
      {
       "output_type": "stream",
       "stream": "stdout",
       "text": [
        " FORT MYERS,FL\n",
        "new place: OXFORD,GA\n",
        "gotcha\n",
        "gotcha\n",
        "gotcha\n",
        "gotcha\n",
        "gotcha\n",
        "gotcha\n",
        "new place: OAK RIDGE,NJ\n",
        "new place: MIDDLEBURG,VA\n",
        "gotcha"
       ]
      },
      {
       "output_type": "stream",
       "stream": "stdout",
       "text": [
        "\n",
        "gotcha\n",
        "gotcha\n",
        "gotcha\n",
        "new place: AVENUE,MD\n",
        "new place: NEWTON,NJ\n",
        "gotcha\n",
        "gotcha\n",
        "gotcha"
       ]
      },
      {
       "output_type": "stream",
       "stream": "stdout",
       "text": [
        "\n",
        "gotcha\n",
        "new place: IVYLAND,PA\n",
        "new place: HIGHLANDS RANCH,CO\n",
        "new place: INDIAN TRAIL,NC\n",
        "gotcha\n",
        "gotcha\n",
        "new place: FT THOMAS,KY\n",
        "new place: MISSION,KS\n",
        "gotcha\n",
        "gotcha\n",
        "gotcha\n",
        "gotcha\n",
        "new place: LENOIR CITY,TN\n",
        "new place: BARRINGTON,RI\n",
        "new place: FAIRPORT,NY\n",
        "new place: LANSDOWNE,VA\n",
        "new place:"
       ]
      },
      {
       "output_type": "stream",
       "stream": "stdout",
       "text": [
        " HAMBURG,NY\n",
        "new place: COLUMBIANA,OH\n",
        "new place: COOPERSTOWN,NY\n",
        "new place: EDGEWATER,MD\n",
        "gotcha\n",
        "gotcha\n",
        "new place: AUBURN,WA\n",
        "new place: PLYMOUTH,MI\n",
        "gotcha\n",
        "gotcha\n",
        "new place:"
       ]
      },
      {
       "output_type": "stream",
       "stream": "stdout",
       "text": [
        " STUART,FL\n",
        "new place: MUNDELEIN,IL\n",
        "gotcha\n",
        "gotcha\n",
        "gotcha\n",
        "gotcha\n",
        "new place: BUFFALO,NY\n",
        "gotcha\n",
        "gotcha\n",
        "new place: KENNER,LA\n",
        "gotcha\n",
        "gotcha\n",
        "gotcha"
       ]
      },
      {
       "output_type": "stream",
       "stream": "stdout",
       "text": [
        "\n",
        "gotcha\n",
        "gotcha\n",
        "gotcha\n",
        "new place: RINGGOLD,GA\n",
        "new place: HOLDEN,MA\n",
        "new place: HAVERTOWN,PA\n",
        "new place: CAZENOVIA,NY\n",
        "new place: BROCKTON,MA\n",
        "new place: MADISON,OH\n",
        "new place: SAGAMORE HILLS,OH\n",
        "new place:"
       ]
      },
      {
       "output_type": "stream",
       "stream": "stdout",
       "text": [
        " UNIONTOWN,PA\n",
        "gotcha\n",
        "gotcha\n",
        "gotcha\n",
        "gotcha\n",
        "gotcha\n",
        "gotcha\n",
        "gotcha\n",
        "gotcha\n",
        "gotcha\n",
        "gotcha\n",
        "gotcha\n",
        "gotcha\n",
        "gotcha"
       ]
      },
      {
       "output_type": "stream",
       "stream": "stdout",
       "text": [
        "\n",
        "gotcha\n",
        "gotcha\n",
        "gotcha\n",
        "gotcha\n",
        "gotcha\n",
        "new place: SPRING GROVE,PA\n",
        "gotcha\n",
        "gotcha\n",
        "new place: BENNINGTON,VT\n",
        "new place: CLINTON,CT\n",
        "new place: MENDOTA HEIGHTS,MN\n",
        "gotcha\n",
        "gotcha\n",
        "new place: LAYTONSVILLE,MD\n",
        "new place:"
       ]
      },
      {
       "output_type": "stream",
       "stream": "stdout",
       "text": [
        " SPOKANE VALLEY,WA\n",
        "new place: N. WILKESBORO,NC\n",
        "gotcha\n",
        "gotcha\n",
        "new place: FRANKLIN LAKES,NJ\n",
        "new place: FLORHAM PARK,NJ\n",
        "new place:"
       ]
      },
      {
       "output_type": "stream",
       "stream": "stdout",
       "text": [
        " NEWBERG,OR\n",
        "new place: MURRAY HILL,NJ\n",
        "gotcha\n",
        "gotcha\n",
        "new place: HUGHESVILLE,PA\n",
        "new place: HOWELL,MI\n",
        "new place: WOODVILLE,FL\n",
        "new place: HAVERFORD,PA\n",
        "new place: LAS VEGAS,NV\n",
        "gotcha\n",
        "gotcha\n",
        "new place: SEWELL,NJ\n",
        "new place:"
       ]
      },
      {
       "output_type": "stream",
       "stream": "stdout",
       "text": [
        " WADING RIVER,NY\n",
        "gotcha\n",
        "gotcha\n",
        "gotcha\n",
        "gotcha\n",
        "new place: BRANDYWINE,MD\n",
        "new place: TUALATIN,OR\n",
        "new place: ROYAL OAK,MI\n",
        "gotcha\n",
        "gotcha\n",
        "new place: STOCKTON,NJ\n",
        "new place: WHEATON,IL\n",
        "gotcha"
       ]
      },
      {
       "output_type": "stream",
       "stream": "stdout",
       "text": [
        "\n",
        "gotcha\n",
        "new place: COPLAY,PA\n",
        "gotcha\n",
        "gotcha\n",
        "gotcha\n",
        "gotcha\n",
        "new place:"
       ]
      },
      {
       "output_type": "stream",
       "stream": "stdout",
       "text": [
        " LAWRENCE,PA\n",
        "new place: EBENSBURG,PA\n",
        "gotcha\n",
        "gotcha\n",
        "new place: FRANKLIN PARK,NJ\n",
        "new place: BOALSBURG,PA\n",
        "gotcha"
       ]
      },
      {
       "output_type": "stream",
       "stream": "stdout",
       "text": [
        "\n",
        "gotcha\n",
        "new place: ROCK HILL,SC\n",
        "new place: BEVERLY,NJ\n",
        "new place: HACKETTSTOWN,NJ\n",
        "new place: FORT GORDON,GA\n",
        "new place:"
       ]
      },
      {
       "output_type": "stream",
       "stream": "stdout",
       "text": [
        " OXFORD,MS\n",
        "new place: NEWPORT,NC\n",
        "new place: DAUPHIN,PA\n",
        "new place: FOLLY BEACH,SC\n",
        "new place: WETHERSFIELD,CT\n",
        "gotcha\n",
        "gotcha\n",
        "new place: ST GEORGE,UT\n",
        "gotcha\n",
        "gotcha\n",
        "new place: PORT CLINTON,OH\n",
        "new place: COLLEGE PARK,GA\n",
        "gotcha"
       ]
      },
      {
       "output_type": "stream",
       "stream": "stdout",
       "text": [
        "\n",
        "gotcha\n",
        "new place: CLARK,NJ\n",
        "gotcha\n",
        "gotcha\n",
        "gotcha\n",
        "gotcha\n",
        "gotcha\n",
        "gotcha\n",
        "gotcha\n",
        "gotcha\n",
        "new place: CROMWELL,CT\n",
        "new place: FORT DRUM,NY\n",
        "new place:"
       ]
      },
      {
       "output_type": "stream",
       "stream": "stdout",
       "text": [
        " LEROY,NY\n",
        "gotcha\n",
        "gotcha\n",
        "gotcha\n",
        "gotcha\n",
        "new place: IRMO,SC\n",
        "gotcha\n",
        "gotcha\n",
        "new place: CARMEL VALLEY,CA\n",
        "new place: BROOKVILLE,OH\n",
        "gotcha\n",
        "gotcha\n",
        "gotcha\n",
        "gotcha\n",
        "new place: AVALON,PA\n",
        "gotcha\n",
        "gotcha\n",
        "new place: ALLSTON,MA\n",
        "gotcha"
       ]
      },
      {
       "output_type": "stream",
       "stream": "stdout",
       "text": [
        "\n",
        "gotcha\n",
        "new place: CHESHIRE,CT\n",
        "new place: WESTMONT,IL\n",
        "gotcha\n",
        "gotcha\n",
        "new place: MURPHY,TX\n",
        "new place: MADBURY,NH\n",
        "new place: ATLANTIC HIGHLANDS,NJ\n",
        "new place:"
       ]
      },
      {
       "output_type": "stream",
       "stream": "stdout",
       "text": [
        " MT. AIRY,MD\n",
        "new place: MEDFORD,OK\n",
        "gotcha\n",
        "gotcha\n",
        "gotcha\n",
        "gotcha\n",
        "new place: SOUTH WINDSOR,CT\n",
        "new place: MAHWAH,NJ\n",
        "gotcha"
       ]
      },
      {
       "output_type": "stream",
       "stream": "stdout",
       "text": [
        "\n",
        "gotcha\n",
        "gotcha\n",
        "gotcha\n",
        "new place: PURDYS,NY\n",
        "new place: BRYN MAWR,PA\n",
        "gotcha\n",
        "gotcha\n",
        "new place: POINT PLEASANT,WV\n",
        "gotcha\n",
        "gotcha\n",
        "new place: STEPHENS CITY,VA\n",
        "new place:"
       ]
      },
      {
       "output_type": "stream",
       "stream": "stdout",
       "text": [
        " JAMAICA ESTATES,NY\n",
        "new place: CLOVIS,NM\n",
        "gotcha\n",
        "gotcha\n",
        "new place: WHITEHOUSE,OH\n",
        "new place: BEDMINSTER,NJ\n",
        "gotcha\n",
        "gotcha\n",
        "gotcha"
       ]
      },
      {
       "output_type": "stream",
       "stream": "stdout",
       "text": [
        "\n",
        "gotcha\n",
        "new place: SUSSEX,NJ\n",
        "new place: CHICAGO,IN\n",
        "new place: NORTHUMBERLAND,PA\n",
        "gotcha\n",
        "gotcha\n",
        "gotcha"
       ]
      },
      {
       "output_type": "stream",
       "stream": "stdout",
       "text": [
        "\n",
        "gotcha\n",
        "gotcha\n",
        "gotcha\n",
        "gotcha\n",
        "gotcha\n",
        "new place: POCA,WV\n",
        "gotcha"
       ]
      },
      {
       "output_type": "stream",
       "stream": "stdout",
       "text": [
        "\n",
        "gotcha\n",
        "gotcha\n",
        "gotcha\n",
        "new place: REELSVILLE,IN\n",
        "new place: WAUKEGAN,IL\n",
        "new place: CAPITOL HEIGHTS,MD\n",
        "gotcha\n",
        "gotcha\n",
        "new place: MILLERSVILLE,PA\n",
        "new place:"
       ]
      },
      {
       "output_type": "stream",
       "stream": "stdout",
       "text": [
        " ROCKY HILL,CT\n",
        "gotcha\n",
        "gotcha\n",
        "gotcha"
       ]
      },
      {
       "output_type": "stream",
       "stream": "stdout",
       "text": [
        "\n",
        "gotcha\n",
        "gotcha\n",
        "gotcha\n",
        "new place: DEFIANCE,OH\n",
        "new place:"
       ]
      },
      {
       "output_type": "stream",
       "stream": "stdout",
       "text": [
        " RACINE,WI\n",
        "new place: ESTES PARK,CO\n",
        "new place: ROANOKE RAPIDS,NC\n",
        "new place: BINGHAMTON,NC\n",
        "new place: LOVELAND,OH\n",
        "new place: COMMERCE TOWNSHIP,MI\n",
        "gotcha"
       ]
      },
      {
       "output_type": "stream",
       "stream": "stdout",
       "text": [
        "\n",
        "gotcha\n",
        "gotcha\n",
        "gotcha\n",
        "new place: HAMILTON,NJ\n",
        "new place: EMMITSBURG,MD\n",
        "gotcha\n",
        "gotcha\n",
        "gotcha"
       ]
      },
      {
       "output_type": "stream",
       "stream": "stdout",
       "text": [
        "\n",
        "gotcha\n",
        "gotcha\n",
        "gotcha\n",
        "gotcha\n",
        "gotcha\n",
        "new place:"
       ]
      },
      {
       "output_type": "stream",
       "stream": "stdout",
       "text": [
        " STAMFORD,CT\n",
        "gotcha\n",
        "gotcha\n",
        "new place: CUPERTINO,CA\n",
        "new place: GARRETT PARK,MD\n",
        "new place: NEWPORT,AA\n",
        "new place: FRIENDSWOOD,TX\n",
        "new place: ARLINGTIN,VA\n",
        "gotcha"
       ]
      },
      {
       "output_type": "stream",
       "stream": "stdout",
       "text": [
        "\n",
        "gotcha\n",
        "new place: POWAY,CA\n",
        "gotcha\n",
        "gotcha\n",
        "gotcha\n",
        "gotcha\n",
        "gotcha\n",
        "gotcha\n",
        "new place: CRANFORD,NJ\n",
        "new place: SCRANTON,PA\n",
        "new place:"
       ]
      },
      {
       "output_type": "stream",
       "stream": "stdout",
       "text": [
        " OCEAN VIEW,DE\n",
        "new place: FRANKFORD,DE\n",
        "gotcha\n",
        "gotcha\n",
        "new place: LADSON,SC\n",
        "gotcha\n",
        "gotcha\n",
        "new place: REDBY,MN\n",
        "new place:"
       ]
      },
      {
       "output_type": "stream",
       "stream": "stdout",
       "text": [
        " FAIRFIELD,CA\n",
        "new place: PEYTON,CO\n",
        "gotcha\n",
        "gotcha\n",
        "gotcha\n",
        "gotcha\n",
        "gotcha\n",
        "gotcha\n",
        "gotcha\n",
        "gotcha\n",
        "new place: SHALIMAR,FL\n",
        "new place: PINK HILL,NC\n",
        "new place: E. AMHERST,NY\n",
        "new place:"
       ]
      },
      {
       "output_type": "stream",
       "stream": "stdout",
       "text": [
        " APT 210,MA\n",
        "new place: ELKINS PARK,PA\n",
        "gotcha\n",
        "gotcha\n",
        "new place: LOGAN,UT\n",
        "new place: NEW CASTLE,DE\n",
        "new place: WORCESTER,MA\n",
        "new place:"
       ]
      },
      {
       "output_type": "stream",
       "stream": "stdout",
       "text": [
        " HUNTINGTON WOODS,MI\n",
        "new place: MONMOUTH JUNCTION,NJ\n",
        "gotcha\n",
        "gotcha\n",
        "gotcha\n",
        "gotcha\n",
        "new place: CLINTON TOWNSHIP,MI\n",
        "new place: CONOVER,NC\n",
        "gotcha\n",
        "gotcha\n",
        "new place: MIDLAND,VA\n",
        "new place: WINTER PARK,FL\n",
        "gotcha\n",
        "gotcha\n",
        "gotcha"
       ]
      },
      {
       "output_type": "stream",
       "stream": "stdout",
       "text": [
        "\n",
        "gotcha\n",
        "new place: BANGOR,ME\n",
        "gotcha\n",
        "gotcha\n",
        "new place: PINE BUSH,NY\n",
        "gotcha"
       ]
      },
      {
       "output_type": "stream",
       "stream": "stdout",
       "text": [
        "\n",
        "gotcha\n",
        "new place: COLD SPRING HARBOR,NY\n",
        "gotcha\n",
        "gotcha\n",
        "new place: REHOBOTH,MA\n",
        "gotcha\n",
        "gotcha\n",
        "new place: RUMFORD,RI\n",
        "new place: REVERE,MA\n",
        "new place: DEARBORN HEIGHTS,MI\n",
        "new place: FAYETTEVILLE,HI\n",
        "new place:"
       ]
      },
      {
       "output_type": "stream",
       "stream": "stdout",
       "text": [
        " CARBONDALE CO,CO\n",
        "gotcha\n",
        "gotcha\n",
        "gotcha\n",
        "gotcha\n",
        "gotcha\n",
        "gotcha\n",
        "new place: PRESCOTT,AZ\n",
        "new place:"
       ]
      },
      {
       "output_type": "stream",
       "stream": "stdout",
       "text": [
        " MOULTRIE,GA\n",
        "gotcha\n",
        "gotcha\n",
        "gotcha\n",
        "gotcha\n",
        "gotcha\n",
        "gotcha\n",
        "new place: QUANTICO,UT\n",
        "new place:"
       ]
      },
      {
       "output_type": "stream",
       "stream": "stdout",
       "text": [
        " MERRIONETTE PARK,IL\n",
        "new place: SAVANNAH,GA\n",
        "new place: RIVERDALE,NJ\n",
        "new place: PARRISH,FL\n",
        "gotcha\n",
        "gotcha\n",
        "new place: MORAGA,CA\n",
        "new place: SHELTON,CT\n",
        "new place: WICHITA FALLS,TX\n",
        "new place: WEEPING WATER,NE\n",
        "new place: BOLINGBROOK,IL\n",
        "gotcha\n",
        "gotcha\n",
        "new place: DARLINGTON,PA\n",
        "gotcha\n",
        "gotcha\n",
        "new place: HIGHLAND SPRINGS,VA\n",
        "new place:"
       ]
      },
      {
       "output_type": "stream",
       "stream": "stdout",
       "text": [
        " CARROLLTON,OH\n",
        "new place: AMBLER,PA\n",
        "new place: CLARENCE,NY\n",
        "new place: BRAINTREE,MA\n",
        "gotcha\n",
        "gotcha\n",
        "new place:"
       ]
      },
      {
       "output_type": "stream",
       "stream": "stdout",
       "text": [
        " FORT DIX,NJ\n",
        "gotcha\n",
        "gotcha\n",
        "gotcha\n",
        "gotcha\n",
        "gotcha\n",
        "gotcha\n",
        "new place: NORTH ATTLEBORO,MA\n",
        "new place: MITCHELL,SD\n",
        "new place: EAST BEND,NC\n",
        "gotcha\n",
        "gotcha\n",
        "gotcha"
       ]
      },
      {
       "output_type": "stream",
       "stream": "stdout",
       "text": [
        "\n",
        "gotcha\n",
        "gotcha\n",
        "gotcha\n",
        "new place:"
       ]
      },
      {
       "output_type": "stream",
       "stream": "stdout",
       "text": [
        " ODESSA,FL\n",
        "gotcha\n",
        "gotcha\n",
        "new place: BERKELEY LAKE,GA\n",
        "gotcha\n",
        "gotcha\n",
        "new place:"
       ]
      },
      {
       "output_type": "stream",
       "stream": "stdout",
       "text": [
        " MANHATTAN,IL\n",
        "new place: ST CLAIR,MI\n",
        "new place: BRIARWOOD,NY\n",
        "new place: BLUFF CITY,TN\n",
        "new place: EUSTIS,FL\n",
        "new place: MOUNT DORA,FL\n",
        "new place: PRINGFIELD,VA\n",
        "new place:"
       ]
      },
      {
       "output_type": "stream",
       "stream": "stdout",
       "text": [
        " WEST DES MOINES,IA\n",
        "gotcha\n",
        "gotcha\n",
        "gotcha\n",
        "gotcha\n",
        "gotcha\n",
        "gotcha\n",
        "new place: WEBSTER,MA\n",
        "new place: MCB QUANTICO,VA\n",
        "new place: BABYLON,NY\n",
        "new place: MEDFORD,NY\n",
        "new place:"
       ]
      },
      {
       "output_type": "stream",
       "stream": "stdout",
       "text": [
        " ELBURN,IL\n",
        "gotcha\n",
        "gotcha\n",
        "new place: OXFORD,PA\n",
        "new place: MEDINA,TX\n",
        "new place: NORWOOD,MA\n",
        "new place: SCHAUMBURG,IL\n",
        "gotcha\n",
        "gotcha\n",
        "new place:"
       ]
      },
      {
       "output_type": "stream",
       "stream": "stdout",
       "text": [
        " OAK LAWN,IL\n",
        "gotcha\n",
        "gotcha\n",
        "new place: THOUSAND OAKS,CA\n",
        "new place: MYSTIC,CT\n",
        "new place: BRIGHTON,MI\n",
        "new place: MERRITT ISLAND,FL\n",
        "new place: DARTMOUTH,MA\n",
        "gotcha\n",
        "gotcha\n",
        "new place: GILLETTE,NJ\n",
        "gotcha\n",
        "gotcha\n",
        "gotcha"
       ]
      },
      {
       "output_type": "stream",
       "stream": "stdout",
       "text": [
        "\n",
        "gotcha\n",
        "gotcha\n",
        "gotcha\n",
        "gotcha\n",
        "gotcha\n",
        "gotcha\n",
        "gotcha\n",
        "new place: SCOTTSDALE,AZ\n",
        "gotcha\n",
        "gotcha\n",
        "gotcha\n",
        "gotcha\n",
        "new place: HAVRE DE GRACE,MD\n",
        "gotcha"
       ]
      },
      {
       "output_type": "stream",
       "stream": "stdout",
       "text": [
        "\n",
        "gotcha\n",
        "gotcha\n",
        "gotcha\n",
        "gotcha\n",
        "gotcha\n",
        "new place: CONCORD,CA\n",
        "new place: MIDDLEBURY,IN\n",
        "new place: FISHERVILLE,KY\n",
        "new place: BALLWIN,MO\n",
        "new place:"
       ]
      },
      {
       "output_type": "stream",
       "stream": "stdout",
       "text": [
        " WILLOWICK,OH\n",
        "gotcha\n",
        "gotcha\n",
        "gotcha\n",
        "gotcha\n",
        "gotcha\n",
        "gotcha\n",
        "gotcha\n",
        "gotcha\n",
        "new place: BROOKLYN,CT\n",
        "gotcha\n",
        "gotcha\n",
        "gotcha\n",
        "gotcha\n",
        "new place:"
       ]
      },
      {
       "output_type": "stream",
       "stream": "stdout",
       "text": [
        " TEXARKANA,TX\n",
        "gotcha\n",
        "gotcha\n",
        "new place: BELTSVILLE,MD\n",
        "new place: BRANDON,VT\n",
        "new place: LITTLETON,MA\n",
        "gotcha\n",
        "gotcha\n",
        "gotcha\n",
        "gotcha\n",
        "new place:"
       ]
      },
      {
       "output_type": "stream",
       "stream": "stdout",
       "text": [
        " CATLETT,VA\n",
        "new place: FINKSBURG,MD\n",
        "new place: BALDWIN,NY\n",
        "new place: GRAND JUNCTION,CO\n",
        "gotcha\n",
        "gotcha\n",
        "new place: NORTH PALM BEACH,FL\n",
        "gotcha\n",
        "gotcha\n",
        "new place: MURRIETA,CA\n",
        "new place:"
       ]
      },
      {
       "output_type": "stream",
       "stream": "stdout",
       "text": [
        " SAINT MARYS,GA\n",
        "new place: ALBANY,GA\n",
        "gotcha\n",
        "gotcha\n",
        "gotcha\n",
        "gotcha\n",
        "gotcha\n",
        "gotcha\n",
        "gotcha\n",
        "gotcha\n",
        "gotcha\n",
        "gotcha\n",
        "gotcha\n",
        "gotcha\n",
        "gotcha\n",
        "gotcha\n",
        "new place: BRONXVILLE,NY\n",
        "gotcha"
       ]
      },
      {
       "output_type": "stream",
       "stream": "stdout",
       "text": [
        "\n",
        "gotcha\n",
        "gotcha\n",
        "gotcha\n",
        "new place: ANDREWS AFB,MD\n",
        "gotcha\n",
        "gotcha\n",
        "gotcha\n",
        "gotcha\n",
        "gotcha\n",
        "gotcha\n",
        "new place: NEWBURG,PA\n",
        "new place: LUSBY,MD\n",
        "gotcha\n",
        "gotcha\n",
        "new place:"
       ]
      },
      {
       "output_type": "stream",
       "stream": "stdout",
       "text": [
        " COCONUT CREEK,FL\n",
        "new place: CLOVIS,CA\n",
        "new place: SOUTHLAKE,TX\n",
        "gotcha\n",
        "gotcha\n",
        "gotcha\n",
        "gotcha\n",
        "gotcha\n",
        "gotcha\n",
        "gotcha\n",
        "gotcha\n",
        "gotcha\n",
        "gotcha\n",
        "gotcha\n",
        "gotcha\n",
        "new place: LACROSSE,WI\n",
        "gotcha\n",
        "gotcha\n",
        "new place: BISHOP,GA\n",
        "new place: GAFFNEY,SC\n",
        "new place:"
       ]
      },
      {
       "output_type": "stream",
       "stream": "stdout",
       "text": [
        " SURPRISE,AZ\n",
        "new place: BUXTON,ME\n",
        "new place: DUXBURY,MA\n",
        "gotcha\n",
        "gotcha\n",
        "new place: FORKED RIVER,NJ\n",
        "new place: KELLER,TX\n",
        "new place:"
       ]
      },
      {
       "output_type": "stream",
       "stream": "stdout",
       "text": [
        " OXNARD,CA\n",
        "new place: ALEDO,TX\n",
        "new place: ENDWELL,NY\n",
        "new place: ST. CLOUD,MN\n",
        "new place: FOX POINT,WI\n",
        "new place: BEAVERTON,OR\n",
        "new place: SKOKIE,IL\n",
        "gotcha"
       ]
      },
      {
       "output_type": "stream",
       "stream": "stdout",
       "text": [
        "\n",
        "gotcha\n",
        "gotcha\n",
        "gotcha\n",
        "new place: RADFORD,VA\n",
        "gotcha\n",
        "gotcha\n",
        "gotcha\n",
        "gotcha\n",
        "new place: MANASQUAN,NJ\n",
        "gotcha\n",
        "gotcha\n",
        "gotcha\n",
        "gotcha\n",
        "gotcha\n",
        "gotcha\n",
        "new place: HAGERSTOWM,MD\n",
        "gotcha"
       ]
      },
      {
       "output_type": "stream",
       "stream": "stdout",
       "text": [
        "\n",
        "gotcha\n",
        "new place: NAVARRE,FL\n",
        "new place: NEWPORT,KY\n",
        "new place: PALM SPRINGS,CA\n",
        "new place: MAITLAND,FL\n",
        "new place: BOWDIONHAM,ME\n",
        "gotcha\n",
        "gotcha\n",
        "new place: RAHWAY,NJ\n",
        "new place: MASSAPEQUA,NY\n",
        "gotcha"
       ]
      },
      {
       "output_type": "stream",
       "stream": "stdout",
       "text": [
        "\n",
        "gotcha\n",
        "gotcha\n",
        "gotcha\n",
        "new place: SODDY DAISY,TN\n",
        "gotcha\n",
        "gotcha\n",
        "new place: EUGENE,OR\n",
        "gotcha\n",
        "gotcha\n",
        "new place: RANDOLPH,NJ\n",
        "new place:"
       ]
      },
      {
       "output_type": "stream",
       "stream": "stdout",
       "text": [
        " BASEHOR,KS\n",
        "new place: COSTA MESA,CA\n",
        "gotcha\n",
        "gotcha\n",
        "gotcha\n",
        "gotcha\n",
        "gotcha\n",
        "gotcha\n",
        "new place:"
       ]
      },
      {
       "output_type": "stream",
       "stream": "stdout",
       "text": [
        " SHERMANS DALE,PA\n",
        "gotcha\n",
        "gotcha\n",
        "new place: CEDAR RAPIDS,IA\n",
        "new place: SMRYNA,GA\n",
        "new place:"
       ]
      },
      {
       "output_type": "stream",
       "stream": "stdout",
       "text": [
        " COMMERCE TWP,MI\n",
        "gotcha\n",
        "gotcha\n",
        "gotcha\n",
        "gotcha\n",
        "new place: ELIDA,OH\n",
        "new place: WESTAMPTON,NJ\n",
        "gotcha\n",
        "gotcha\n",
        "new place: CREEDMOOR,NC\n",
        "gotcha"
       ]
      },
      {
       "output_type": "stream",
       "stream": "stdout",
       "text": [
        "\n",
        "gotcha\n",
        "gotcha\n",
        "gotcha\n",
        "new place: SAN DEIGO,CA\n",
        "gotcha\n",
        "gotcha\n",
        "new place: PHILADELPHIA,TN\n",
        "new place: SAN CARLOS,CA\n",
        "new place: CHELTENHAM,PA\n",
        "gotcha\n",
        "gotcha\n",
        "gotcha"
       ]
      },
      {
       "output_type": "stream",
       "stream": "stdout",
       "text": [
        "\n",
        "gotcha\n",
        "new place: YONKERS,NY\n",
        "new place: CONCORD,MA\n",
        "gotcha\n",
        "gotcha\n",
        "new place: DUMN LORING,VA\n",
        "gotcha\n",
        "gotcha\n",
        "gotcha\n",
        "gotcha\n",
        "gotcha\n",
        "gotcha\n",
        "new place: HOPKINTON,MA\n",
        "gotcha\n",
        "gotcha\n",
        "new place:"
       ]
      },
      {
       "output_type": "stream",
       "stream": "stdout",
       "text": [
        " NEW EGYPT,NJ\n",
        "gotcha\n",
        "gotcha\n",
        "gotcha\n",
        "gotcha\n",
        "new place: THE VILLAGE,OK\n",
        "new place: WAKONDA,SD\n",
        "new place: EAST ROCHESTER,NY\n",
        "gotcha\n",
        "gotcha\n",
        "new place: POUGHQUAG,NY\n",
        "new place: COLLEGE STATION,TX\n",
        "new place: NEW CASTLE,PA\n",
        "new place: HAMMONDSPORT,NY\n",
        "new place:"
       ]
      },
      {
       "output_type": "stream",
       "stream": "stdout",
       "text": [
        " BERLINS,VT\n",
        "new place: REGO PARK,NY\n",
        "gotcha\n",
        "gotcha\n",
        "gotcha\n",
        "gotcha\n",
        "new place: BROWNSVILLE,PA\n",
        "new place:"
       ]
      },
      {
       "output_type": "stream",
       "stream": "stdout",
       "text": [
        " BELTON,TX\n",
        "new place: MERION,PA\n",
        "gotcha\n",
        "gotcha\n",
        "gotcha"
       ]
      },
      {
       "output_type": "stream",
       "stream": "stdout",
       "text": [
        "\n",
        "gotcha\n",
        "new place: COOSADA,AL\n",
        "new place: LAFAYETTE,NY\n",
        "new place: GALAX,VA\n",
        "gotcha\n",
        "gotcha\n",
        "gotcha\n",
        "gotcha\n",
        "gotcha\n",
        "gotcha\n",
        "new place: VAIL,AZ\n",
        "gotcha\n",
        "gotcha\n",
        "gotcha\n",
        "gotcha\n",
        "new place: GRANBY,CT\n",
        "gotcha"
       ]
      },
      {
       "output_type": "stream",
       "stream": "stdout",
       "text": [
        "\n",
        "gotcha\n",
        "new place: BRIDGEWATER,MA\n",
        "new place: BATTLE CREEK,MI\n",
        "gotcha\n",
        "gotcha\n",
        "gotcha\n",
        "gotcha\n",
        "new place: OAKDALE,CT\n",
        "new place:"
       ]
      },
      {
       "output_type": "stream",
       "stream": "stdout",
       "text": [
        " CAMBRIA HEIGHTS,NY\n",
        "new place: SOUTH FALLSBURG,NY\n",
        "new place: SPRING VALLEY,CA\n",
        "new place: ST CHARLES,MO\n",
        "gotcha\n",
        "gotcha\n",
        "gotcha\n",
        "gotcha\n",
        "new place:"
       ]
      },
      {
       "output_type": "stream",
       "stream": "stdout",
       "text": [
        " CLARKSBRUG,MD\n",
        "new place: WATERFORD,CT\n",
        "gotcha\n",
        "gotcha\n",
        "gotcha\n",
        "gotcha\n",
        "new place: AUBURN,NH\n",
        "new place: CLIFTON PARK,NM\n",
        "new place: WEST POINT,VA\n",
        "gotcha\n",
        "gotcha\n",
        "gotcha\n",
        "gotcha\n",
        "gotcha"
       ]
      },
      {
       "output_type": "stream",
       "stream": "stdout",
       "text": [
        "\n",
        "gotcha\n",
        "gotcha\n",
        "gotcha\n",
        "gotcha\n",
        "gotcha\n",
        "new place: GOTHA,FL\n",
        "gotcha\n",
        "gotcha\n",
        "gotcha\n",
        "gotcha\n",
        "gotcha\n",
        "gotcha\n",
        "new place: DENTON,MD\n",
        "gotcha\n",
        "gotcha\n",
        "gotcha\n",
        "gotcha\n",
        "new place: AMHERST,OH\n",
        "new place: STRONGSVILLE,OH\n",
        "new place: PRAIRIE DU SAC,WI\n",
        "gotcha"
       ]
      },
      {
       "output_type": "stream",
       "stream": "stdout",
       "text": [
        "\n",
        "gotcha\n",
        "new place: HUNTINGTON,WV\n",
        "new place: PRICHARD,WV\n",
        "new place: HAWKINSVILLE,GA\n",
        "new place: RICHMOND HTS,OH\n",
        "new place: LITTLE RIVER,SC\n",
        "new place:"
       ]
      },
      {
       "output_type": "stream",
       "stream": "stdout",
       "text": [
        " COVINGTON,WA\n",
        "new place: ACWORTH,GA\n",
        "gotcha\n",
        "gotcha\n",
        "new place:"
       ]
      },
      {
       "output_type": "stream",
       "stream": "stdout",
       "text": [
        " SOUTH BURLINGTON,VT\n",
        "new place: FALLING WATERS,WV\n",
        "new place: STEWART MANOR,NY\n",
        "gotcha\n",
        "gotcha\n",
        "gotcha\n",
        "gotcha\n",
        "gotcha\n",
        "gotcha\n",
        "gotcha\n",
        "gotcha\n",
        "new place: DEER PARK,TX\n",
        "new place: SMYRNA,DE\n",
        "gotcha"
       ]
      },
      {
       "output_type": "stream",
       "stream": "stdout",
       "text": [
        "\n",
        "gotcha\n",
        "gotcha\n",
        "gotcha\n",
        "gotcha\n",
        "gotcha\n",
        "new place: HARRISBURG,NC\n",
        "new place: AUSTELL,GA\n",
        "new place: BALDWIN,MD\n",
        "gotcha\n",
        "gotcha\n",
        "gotcha\n",
        "gotcha\n",
        "gotcha\n",
        "gotcha\n",
        "new place: APT 12,NC"
       ]
      },
      {
       "output_type": "stream",
       "stream": "stdout",
       "text": [
        "\n",
        "gotcha\n",
        "gotcha\n",
        "gotcha\n",
        "gotcha\n",
        "new place: FT. MYERS,FL\n",
        "new place: PGH,PA\n",
        "gotcha\n",
        "gotcha\n",
        "new place: HOLLY RIDGE,NC\n",
        "gotcha\n",
        "gotcha\n",
        "gotcha"
       ]
      },
      {
       "output_type": "stream",
       "stream": "stdout",
       "text": [
        "\n",
        "gotcha\n",
        "gotcha\n",
        "gotcha\n",
        "gotcha\n",
        "gotcha\n",
        "gotcha\n",
        "gotcha\n",
        "gotcha\n",
        "gotcha\n",
        "new place: EDEN PRAIRIE,MN\n",
        "gotcha\n",
        "gotcha\n",
        "new place: RYE,NJ\n",
        "new place: NEW BADEN,IL\n",
        "new place: BREWSTER,MA\n",
        "gotcha"
       ]
      },
      {
       "output_type": "stream",
       "stream": "stdout",
       "text": [
        "\n",
        "gotcha\n",
        "gotcha\n",
        "gotcha\n",
        "new place: GLENELG,MD\n",
        "new place: MONT ALTO,PA\n",
        "new place: GOSHEN,NY\n",
        "gotcha\n",
        "gotcha\n",
        "gotcha\n",
        "gotcha\n",
        "new place: MILTON,FL\n",
        "new place: FORT FAIRFIELD,ME\n",
        "new place:"
       ]
      },
      {
       "output_type": "stream",
       "stream": "stdout",
       "text": [
        " BELLEVILLE,IL\n",
        "gotcha\n",
        "gotcha\n",
        "gotcha\n",
        "gotcha\n",
        "gotcha\n",
        "gotcha\n",
        "new place: GRAPEVINE,TX\n",
        "gotcha\n",
        "gotcha\n",
        "new place: BEALE AFB,CA\n",
        "gotcha\n",
        "gotcha\n",
        "new place:"
       ]
      },
      {
       "output_type": "stream",
       "stream": "stdout",
       "text": [
        " RICHARDSON,TX\n",
        "new place: ARVADA,CO\n",
        "gotcha\n",
        "gotcha\n",
        "new place: RIVERSIDE,RI\n",
        "gotcha\n",
        "gotcha\n",
        "gotcha\n",
        "gotcha\n",
        "new place: HOPE MILLS,NC\n",
        "gotcha\n",
        "gotcha\n",
        "gotcha\n",
        "gotcha\n",
        "new place:"
       ]
      },
      {
       "output_type": "stream",
       "stream": "stdout",
       "text": [
        " HAINESPORT,NJ\n",
        "new place: PARKESBURG,PA\n",
        "new place: CORSICA,PA\n",
        "gotcha\n",
        "gotcha\n",
        "new place: BLOOMFIELD,MI\n",
        "new place: NEW PALESTINE,IN\n",
        "new place: LINDENHURST,NY\n",
        "new place:"
       ]
      },
      {
       "output_type": "stream",
       "stream": "stdout",
       "text": [
        " PRINCETON,WV\n",
        "new place: EAST HARTFORD,CT\n",
        "new place: MCHENRY,IL\n",
        "gotcha\n",
        "gotcha\n",
        "gotcha\n",
        "gotcha\n",
        "gotcha\n",
        "gotcha\n",
        "new place:"
       ]
      },
      {
       "output_type": "stream",
       "stream": "stdout",
       "text": [
        " BEACHWOOD,NJ\n",
        "new place: MARQUETTE,MI\n",
        "new place: VALENCIA,CA\n",
        "gotcha\n",
        "gotcha\n",
        "new place: GILBERT,AZ\n",
        "new place: SUN PRAIRIE,WI\n",
        "gotcha\n",
        "gotcha\n",
        "gotcha\n",
        "gotcha\n",
        "new place:"
       ]
      },
      {
       "output_type": "stream",
       "stream": "stdout",
       "text": [
        " WADE,NC\n",
        "new place: BURLINGTON,VT\n",
        "gotcha\n",
        "gotcha\n",
        "gotcha\n",
        "gotcha\n",
        "gotcha\n",
        "gotcha\n",
        "new place: EGG HARBOR TWP,NJ\n",
        "gotcha\n",
        "gotcha\n",
        "new place: PUYALLUP,WA\n",
        "new place: NATIONAL HARBOR,MD\n",
        "new place:"
       ]
      },
      {
       "output_type": "stream",
       "stream": "stdout",
       "text": [
        " HARRISON,NY\n",
        "gotcha\n",
        "gotcha\n",
        "new place: NOVATO,CA\n",
        "new place: AMHERST,NH\n",
        "gotcha\n",
        "gotcha\n",
        "gotcha\n",
        "gotcha\n",
        "new place: EAST QUOGUE,NY\n",
        "new place: PLANTATION,FL\n",
        "new place: NEW CANAAN,CT\n",
        "new place: SUNRISE,FL\n",
        "new place:"
       ]
      },
      {
       "output_type": "stream",
       "stream": "stdout",
       "text": [
        " RIO RANCHO,NM\n",
        "gotcha\n",
        "gotcha\n",
        "new place: COLD SPRING,KY\n",
        "new place: BELLMORE,NY\n",
        "new place: MOUNTAIN VIEW,CA\n",
        "new place: HACKENSACK,NJ\n",
        "new place: NEWBURRGH,IN\n",
        "new place:"
       ]
      },
      {
       "output_type": "stream",
       "stream": "stdout",
       "text": [
        " BUCHTEL,OH\n",
        "new place: HAMMOND,IN\n",
        "new place: LAKEWOOD,CO\n",
        "gotcha\n",
        "gotcha\n",
        "gotcha\n",
        "gotcha\n",
        "new place: GLENMOORE,PA\n",
        "gotcha\n",
        "gotcha\n",
        "gotcha\n",
        "gotcha\n",
        "gotcha"
       ]
      },
      {
       "output_type": "stream",
       "stream": "stdout",
       "text": [
        "\n",
        "gotcha\n",
        "new place: FARMERS BRANCH,TX\n",
        "new place: BOYDS,MD\n",
        "gotcha\n",
        "gotcha\n",
        "gotcha\n",
        "gotcha\n",
        "gotcha\n",
        "gotcha\n",
        "gotcha\n",
        "gotcha\n",
        "new place: MCKEESPORT,PA\n",
        "new place: STEPHENSON,VA\n",
        "gotcha"
       ]
      },
      {
       "output_type": "stream",
       "stream": "stdout",
       "text": [
        "\n",
        "gotcha\n",
        "gotcha\n",
        "gotcha\n",
        "gotcha\n",
        "gotcha\n",
        "new place: PATASKALA,OH\n",
        "new place: BLUE SPRINGS,MS\n",
        "new place: SABILLASVILLE,MD\n",
        "new place: BIG SKY,MT\n",
        "gotcha\n",
        "gotcha\n",
        "new place: LONDONDERRY,NH\n",
        "new place:"
       ]
      },
      {
       "output_type": "stream",
       "stream": "stdout",
       "text": [
        " JOLIEET,IL\n",
        "gotcha\n",
        "gotcha\n",
        "new place: RICHMOND HILL,GA\n",
        "gotcha\n",
        "gotcha\n",
        "new place: MOUNT SAVAGE,MD\n",
        "gotcha\n",
        "gotcha\n",
        "gotcha"
       ]
      },
      {
       "output_type": "stream",
       "stream": "stdout",
       "text": [
        "\n",
        "gotcha\n",
        "gotcha\n",
        "gotcha\n",
        "gotcha\n",
        "gotcha\n",
        "gotcha\n",
        "gotcha\n",
        "gotcha\n",
        "gotcha\n",
        "new place: NORTH LIBERTY,IA\n",
        "gotcha\n",
        "gotcha\n",
        "new place: GLENWOOD,MD\n",
        "new place:"
       ]
      },
      {
       "output_type": "stream",
       "stream": "stdout",
       "text": [
        " BURLINGTON,NC\n",
        "new place: FEDERAL WAY,WA\n",
        "gotcha\n",
        "gotcha\n",
        "gotcha\n",
        "gotcha\n",
        "gotcha\n",
        "gotcha\n",
        "new place: JOHNSTON,IA\n",
        "new place: MOORESTOWN,NJ\n",
        "gotcha\n",
        "gotcha\n",
        "new place:"
       ]
      },
      {
       "output_type": "stream",
       "stream": "stdout",
       "text": [
        " HOMERVILLE,OH\n",
        "new place: CONWAY,SC\n",
        "new place:"
       ]
      },
      {
       "output_type": "stream",
       "stream": "stdout",
       "text": [
        " SHORT HILLS,NJ\n",
        "new place: MILLBURN,NJ\n",
        "new place: MEDWAY,MA\n",
        "gotcha\n",
        "gotcha\n",
        "gotcha\n",
        "gotcha\n",
        "gotcha\n",
        "gotcha\n",
        "gotcha\n",
        "gotcha\n",
        "gotcha\n",
        "gotcha\n",
        "new place: RICHFIELD,MN\n",
        "gotcha\n",
        "gotcha\n",
        "new place:"
       ]
      },
      {
       "output_type": "stream",
       "stream": "stdout",
       "text": [
        " BRIDGEWATER,NJ\n",
        "new place: ROYERSFORD,PA\n",
        "new place: MILL VALLEY,CA\n",
        "new place: LIVONIA,MI\n",
        "gotcha\n",
        "gotcha\n",
        "new place: SHAW AFB,SC\n",
        "new place:"
       ]
      },
      {
       "output_type": "stream",
       "stream": "stdout",
       "text": [
        " SHERWOOD,OR\n",
        "new place: OLYMPIA,WA\n",
        "new place: SPARTA,WI\n",
        "gotcha\n",
        "gotcha\n",
        "gotcha\n",
        "gotcha\n",
        "new place: NORTH BARRINGTON,IL\n",
        "new place: SPOKANE,WA\n",
        "gotcha\n",
        "gotcha\n",
        "new place: ANDOVER,NH\n",
        "new place:"
       ]
      },
      {
       "output_type": "stream",
       "stream": "stdout",
       "text": [
        " WALNUTPORT,PA\n",
        "new place: SARATOGA SPRINGS,NY\n",
        "new place: APPOMATTOX,VA\n",
        "new place: THORNTON,CO\n",
        "gotcha\n",
        "gotcha\n",
        "new place: TAYLOR,WI\n",
        "new place: SHARON SPRINGS,NY\n",
        "gotcha\n",
        "gotcha\n",
        "new place: BERLIN,CT\n",
        "gotcha\n",
        "gotcha\n",
        "gotcha\n",
        "gotcha\n",
        "new place:"
       ]
      },
      {
       "output_type": "stream",
       "stream": "stdout",
       "text": [
        " FARMINGTON,NY\n",
        "new place: LAKEWOOD,CA\n",
        "new place: BETHESDA,OH\n",
        "gotcha\n",
        "gotcha\n",
        "new place: MOUNT TABOR,NJ\n",
        "new place: ST. PETERSBURG,FL\n",
        "gotcha\n",
        "gotcha\n",
        "gotcha"
       ]
      },
      {
       "output_type": "stream",
       "stream": "stdout",
       "text": [
        "\n",
        "gotcha\n",
        "new place: COLUMBIA HEIGHTS,MN\n",
        "gotcha\n",
        "gotcha\n",
        "new place: SILVER SPRING,VA\n",
        "new place: BROADLANDS,VA\n",
        "gotcha\n",
        "gotcha\n",
        "gotcha\n",
        "gotcha\n",
        "gotcha"
       ]
      },
      {
       "output_type": "stream",
       "stream": "stdout",
       "text": [
        "\n",
        "gotcha\n",
        "new place: NEW YORK,DE\n",
        "gotcha\n",
        "gotcha\n",
        "gotcha\n",
        "gotcha\n",
        "gotcha\n",
        "gotcha\n",
        "gotcha\n",
        "gotcha\n",
        "gotcha"
       ]
      },
      {
       "output_type": "stream",
       "stream": "stdout",
       "text": [
        "\n",
        "gotcha\n",
        "new place: CONESUS,NY\n",
        "new place: IRVINGTON,VA\n",
        "new place: NONATO,CA\n",
        "gotcha\n",
        "gotcha\n",
        "gotcha\n",
        "gotcha\n",
        "gotcha\n",
        "gotcha\n",
        "new place: WAKEFIELD,MI\n",
        "new place: BILTMORE LAKE,NC\n",
        "new place: CLEARWATER BEACH,FL\n",
        "new place: LA MESA,CA\n",
        "new place:"
       ]
      },
      {
       "output_type": "stream",
       "stream": "stdout",
       "text": [
        " CHELSEA,AL\n",
        "new place: CENTEREACH,NY\n",
        "new place: BELCAMP,MD\n",
        "new place: NORTH BERGEN,NJ\n",
        "gotcha\n",
        "gotcha\n",
        "new place: EATON,OH\n",
        "gotcha\n",
        "gotcha\n",
        "new place: MARS,PA\n",
        "gotcha\n",
        "gotcha\n",
        "gotcha\n",
        "gotcha\n",
        "new place: LOTHIAN,MD\n",
        "new place: GUILFORD,CT\n",
        "new place:"
       ]
      },
      {
       "output_type": "stream",
       "stream": "stdout",
       "text": [
        " WAYNESVILLE,MO\n",
        "new place: MIDDLETOWN,CT\n",
        "gotcha\n",
        "gotcha\n",
        "new place: PARRIS ISLAND,SC\n",
        "new place:"
       ]
      },
      {
       "output_type": "stream",
       "stream": "stdout",
       "text": [
        " TINTON FALLS,NJ\n",
        "new place: ERIE,CO\n",
        "gotcha\n",
        "gotcha\n",
        "new place: READING,MA\n",
        "gotcha\n",
        "gotcha\n",
        "gotcha"
       ]
      },
      {
       "output_type": "stream",
       "stream": "stdout",
       "text": [
        "\n",
        "gotcha\n",
        "new place: HAMBURG,NJ\n",
        "gotcha\n",
        "gotcha\n",
        "new place:"
       ]
      },
      {
       "output_type": "stream",
       "stream": "stdout",
       "text": [
        " MANVILLE,RI\n",
        "gotcha\n",
        "gotcha\n",
        "new place: HUNTINGTON STATION,NY\n",
        "gotcha\n",
        "gotcha\n",
        "gotcha\n",
        "gotcha\n",
        "new place: HERMOSA BEACH,CA\n",
        "new place: LYME,NH\n",
        "new place:"
       ]
      },
      {
       "output_type": "stream",
       "stream": "stdout",
       "text": [
        " BARNEGAT,NJ\n",
        "new place: MECHANICVILLE,NY\n",
        "gotcha\n",
        "gotcha\n",
        "new place: VACAVILLE,CA\n",
        "gotcha\n",
        "gotcha\n",
        "new place:"
       ]
      },
      {
       "output_type": "stream",
       "stream": "stdout",
       "text": [
        " AMHERST,NY\n",
        "gotcha\n",
        "gotcha\n",
        "gotcha\n",
        "gotcha\n",
        "new place: SELMA,CA\n",
        "new place: HAMPTON,CT\n",
        "gotcha\n",
        "gotcha\n",
        "new place: WOODBINE,MD\n",
        "new place: PALMYRA,VA\n",
        "new place:"
       ]
      },
      {
       "output_type": "stream",
       "stream": "stdout",
       "text": [
        " WALLINGFORD,PA\n",
        "gotcha\n",
        "gotcha\n",
        "gotcha\n",
        "gotcha\n",
        "new place: RANCHO CUCAMONGA,CA\n",
        "gotcha\n",
        "gotcha\n",
        "new place: SUMTER,SC\n",
        "new place: FORT WALTON BEACH,FL\n",
        "new place:"
       ]
      },
      {
       "output_type": "stream",
       "stream": "stdout",
       "text": [
        " CENTER MORICHES,NY\n",
        "gotcha\n",
        "gotcha\n",
        "new place: WESTFIRLD,NJ\n",
        "new place:"
       ]
      },
      {
       "output_type": "stream",
       "stream": "stdout",
       "text": [
        " MYERSVILLE,MD\n",
        "gotcha\n",
        "gotcha\n",
        "gotcha\n",
        "gotcha\n",
        "new place: ROCKY MOUNT,VA\n",
        "new place: DURHAM,NH\n",
        "new place: EVANSVILLE,IN\n",
        "new place: MATTAPOISETT,MA\n",
        "gotcha\n",
        "gotcha\n",
        "new place:"
       ]
      },
      {
       "output_type": "stream",
       "stream": "stdout",
       "text": [
        " AUDUBON,NJ\n",
        "new place: AURORA,CO\n",
        "gotcha\n",
        "gotcha\n",
        "gotcha\n",
        "gotcha\n",
        "gotcha\n",
        "gotcha\n",
        "new place: RENSSELAER,NY\n",
        "new place: CHADDS FORD,PA\n",
        "gotcha\n",
        "gotcha\n",
        "gotcha\n",
        "gotcha\n",
        "new place: WESTIN,FL\n",
        "gotcha"
       ]
      },
      {
       "output_type": "stream",
       "stream": "stdout",
       "text": [
        "\n",
        "gotcha\n",
        "new place: HUDSON,NH\n",
        "new place: PIPERSVILLE,PA\n",
        "gotcha\n",
        "gotcha\n",
        "new place: HANOVER,MA\n",
        "gotcha\n",
        "gotcha\n",
        "new place: CROWNSVILLE,MD\n",
        "gotcha\n",
        "gotcha\n",
        "new place: ITHACA,NY\n",
        "new place: LAFARGEVILLE,NY\n",
        "gotcha\n",
        "gotcha\n",
        "gotcha"
       ]
      },
      {
       "output_type": "stream",
       "stream": "stdout",
       "text": [
        "\n",
        "gotcha\n",
        "new place: BRECKENRIDGE,CO\n",
        "new place: WAYLAND,MA\n",
        "new place: HOT SPRINGS VILLAG,AR\n",
        "gotcha\n",
        "gotcha\n",
        "gotcha\n",
        "gotcha\n",
        "new place: DEARBORN,MI\n",
        "gotcha\n",
        "gotcha\n",
        "gotcha\n",
        "gotcha\n",
        "gotcha"
       ]
      },
      {
       "output_type": "stream",
       "stream": "stdout",
       "text": [
        "\n",
        "gotcha\n",
        "new place: BRECKSVILLE,OH\n",
        "new place: LUTZ,FL\n",
        "gotcha\n",
        "gotcha\n",
        "new place: KATHMANDU,DC\n",
        "gotcha\n",
        "gotcha\n",
        "gotcha\n",
        "gotcha\n",
        "new place: CHESTER,VA\n",
        "new place: BUMPASS,VA\n",
        "gotcha"
       ]
      },
      {
       "output_type": "stream",
       "stream": "stdout",
       "text": [
        "\n",
        "gotcha\n",
        "new place: WEATOGUE,CT\n",
        "new place: ENID,OK\n",
        "new place: ARCADE,NY\n",
        "new place: LANDING,NJ\n",
        "gotcha"
       ]
      },
      {
       "output_type": "stream",
       "stream": "stdout",
       "text": [
        "\n",
        "gotcha\n",
        "gotcha\n",
        "gotcha\n",
        "new place: CORAL SPRINGS,FL\n",
        "gotcha\n",
        "gotcha\n",
        "new place: LAFAYETTE,LA\n",
        "new place: MARYSVILLE,WA\n",
        "gotcha\n",
        "gotcha\n",
        "new place: RYE BROOK,NY\n",
        "new place:"
       ]
      },
      {
       "output_type": "stream",
       "stream": "stdout",
       "text": [
        " HOMER GLEN,IL\n",
        "new place: MARBLE CLIFF,OH\n",
        "new place: BELMONT,CA\n",
        "new place: SPRINGFIELD,OH\n",
        "gotcha\n",
        "gotcha\n",
        "gotcha\n",
        "gotcha\n",
        "new place:"
       ]
      },
      {
       "output_type": "stream",
       "stream": "stdout",
       "text": [
        " LA PLATA,MD\n",
        "new place: MATHER,CA\n",
        "new place: WARWICK,RI\n",
        "gotcha\n",
        "gotcha\n",
        "gotcha\n",
        "gotcha\n",
        "new place: PARMA,OH\n",
        "gotcha\n",
        "gotcha\n",
        "gotcha\n",
        "gotcha\n",
        "gotcha"
       ]
      },
      {
       "output_type": "stream",
       "stream": "stdout",
       "text": [
        "\n",
        "gotcha\n",
        "gotcha\n",
        "gotcha\n",
        "gotcha\n",
        "gotcha\n",
        "new place: SOUTH WALES,NY\n",
        "gotcha\n",
        "gotcha\n",
        "new place: WATKSINVILLE,GA\n",
        "new place: CENTERVILLE,GA\n",
        "new place: BEULAVILLE,NC\n",
        "gotcha\n",
        "gotcha\n",
        "gotcha\n",
        "gotcha\n",
        "gotcha\n",
        "gotcha\n",
        "gotcha\n",
        "gotcha\n",
        "new place:"
       ]
      },
      {
       "output_type": "stream",
       "stream": "stdout",
       "text": [
        " TUSTIN RANCH,CA\n",
        "new place: HIGHLAND FALLS,NY\n",
        "gotcha\n",
        "gotcha\n",
        "new place: BELLE CHASSE,LA\n",
        "new place: ANDERSON,SC\n",
        "new place: ANAHEIM,CA\n",
        "gotcha\n",
        "gotcha\n",
        "gotcha"
       ]
      },
      {
       "output_type": "stream",
       "stream": "stdout",
       "text": [
        "\n",
        "gotcha\n",
        "gotcha\n",
        "gotcha\n",
        "gotcha\n",
        "gotcha\n",
        "new place:"
       ]
      },
      {
       "output_type": "stream",
       "stream": "stdout",
       "text": [
        " NEW BRITAIN,PA\n",
        "new place:"
       ]
      },
      {
       "output_type": "stream",
       "stream": "stdout",
       "text": [
        " MUNCIE,IN\n",
        "new place: CEDAR PARK,TX\n",
        "gotcha\n",
        "gotcha\n",
        "new place: MOUNT LAUREL,NJ\n",
        "new place: HORSHAM,PA\n",
        "new place: CARDIFF,CA\n",
        "new place: WARRINGTON,PA\n",
        "new place: KETTERING,OH\n",
        "new place: DEWITT,NY\n",
        "gotcha"
       ]
      },
      {
       "output_type": "stream",
       "stream": "stdout",
       "text": [
        "\n",
        "gotcha\n",
        "new place: LAINGSBURG,MI\n",
        "new place: CHESTNUT HILL COVE,MD\n",
        "new place: SOUTH PORTLAND,ME\n",
        "gotcha\n",
        "gotcha\n",
        "new place: CARROLLTON,TX\n",
        "new place: SHREVEPORT,LA\n",
        "gotcha\n",
        "gotcha\n",
        "new place:"
       ]
      },
      {
       "output_type": "stream",
       "stream": "stdout",
       "text": [
        " ANACORTES,WA\n",
        "gotcha\n",
        "gotcha\n",
        "new place: GENESEO,IL\n",
        "new place: HILLSBOROUGH,NJ\n",
        "gotcha\n",
        "gotcha\n",
        "new place: LOGANVILLE,GA\n",
        "new place:"
       ]
      },
      {
       "output_type": "stream",
       "stream": "stdout",
       "text": [
        " WEST CAPE MAY,NJ\n",
        "gotcha\n",
        "gotcha\n",
        "new place: BRICK,NJ\n",
        "gotcha\n",
        "gotcha\n",
        "gotcha\n",
        "gotcha\n",
        "new place: CLEARWATER,FL\n",
        "new place: DANVILLE,CA\n",
        "gotcha"
       ]
      },
      {
       "output_type": "stream",
       "stream": "stdout",
       "text": [
        "\n",
        "gotcha\n",
        "gotcha\n",
        "gotcha\n",
        "gotcha\n",
        "gotcha\n",
        "gotcha\n",
        "gotcha\n",
        "new place: RICHFIELD,OH\n",
        "gotcha\n",
        "gotcha\n",
        "gotcha\n",
        "gotcha\n",
        "gotcha"
       ]
      },
      {
       "output_type": "stream",
       "stream": "stdout",
       "text": [
        "\n",
        "gotcha\n",
        "gotcha\n",
        "gotcha\n",
        "gotcha\n",
        "gotcha\n",
        "gotcha\n",
        "gotcha\n",
        "new place: AUBURN,NY\n",
        "new place: GARLAND,TX\n",
        "gotcha\n",
        "gotcha\n",
        "gotcha"
       ]
      },
      {
       "output_type": "stream",
       "stream": "stdout",
       "text": [
        "\n",
        "gotcha\n",
        "new place: HARWICH,MA\n",
        "gotcha\n",
        "gotcha\n",
        "new place: SOUTH EASTON,MA\n",
        "new place: RIDGEWOOD,NJ\n",
        "new place: ONEIDA,WI\n",
        "gotcha"
       ]
      },
      {
       "output_type": "stream",
       "stream": "stdout",
       "text": [
        "\n",
        "gotcha\n",
        "new place: GLEN COVE,NY\n",
        "new place: HOLLAND,OH\n",
        "new place: BALLSTON SPA,NY\n",
        "new place: POQUOSON,VA\n",
        "gotcha\n",
        "gotcha\n",
        "new place:"
       ]
      },
      {
       "output_type": "stream",
       "stream": "stdout",
       "text": [
        " HENDERSON,NV\n",
        "new place: NOKESVILLE,VA\n",
        "new place: POMPEY,NY\n",
        "new place: STAATSBURG,NY\n",
        "new place: DRAPER,UT\n",
        "new place: MOUNT PLEASANT,MI\n",
        "gotcha"
       ]
      },
      {
       "output_type": "stream",
       "stream": "stdout",
       "text": [
        "\n",
        "gotcha\n",
        "new place: BLAIRSTOWN,NJ\n",
        "new place: NAGS HEAD,NC\n",
        "gotcha"
       ]
      },
      {
       "output_type": "stream",
       "stream": "stdout",
       "text": [
        "\n",
        "gotcha\n",
        "gotcha\n",
        "gotcha\n",
        "gotcha\n",
        "gotcha\n",
        "gotcha\n",
        "gotcha\n",
        "new place: STRATFORD,CT\n",
        "gotcha\n",
        "gotcha\n",
        "gotcha\n",
        "gotcha\n",
        "new place:"
       ]
      },
      {
       "output_type": "stream",
       "stream": "stdout",
       "text": [
        " PALMDALE,CA\n",
        "gotcha\n",
        "gotcha\n",
        "gotcha\n",
        "gotcha\n",
        "new place: MONROVIA,MD\n",
        "new place: LYNBROOK,NY\n",
        "gotcha\n",
        "gotcha\n",
        "new place: EAST ISLIP,NY\n",
        "new place:"
       ]
      },
      {
       "output_type": "stream",
       "stream": "stdout",
       "text": [
        " AMHERST,MA\n",
        "gotcha\n",
        "gotcha\n",
        "new place: DPO,NY\n",
        "gotcha\n",
        "gotcha\n",
        "new place: NORTON,MA\n",
        "gotcha\n",
        "gotcha\n",
        "new place: BOONTON TOWNSHIP,NJ\n",
        "new place: WEST HARRISON,NY\n",
        "gotcha\n",
        "gotcha\n",
        "new place:"
       ]
      },
      {
       "output_type": "stream",
       "stream": "stdout",
       "text": [
        " ORANGE PARK,FL\n",
        "new place: VESTAVIA HILLS,AL\n",
        "new place: ELK POINT,SD\n",
        "gotcha\n",
        "gotcha\n",
        "gotcha\n",
        "gotcha\n",
        "gotcha\n",
        "gotcha\n",
        "gotcha\n",
        "gotcha\n",
        "new place: WRIGHTSTOWN,WI\n",
        "new place:"
       ]
      },
      {
       "output_type": "stream",
       "stream": "stdout",
       "text": [
        " DENVER,NC\n",
        "new place: TAYLORSVILLE,UT\n",
        "new place: RANDOLPH,MA\n",
        "gotcha\n",
        "gotcha\n",
        "new place: MIAMI LAKES,FL\n",
        "gotcha\n",
        "gotcha\n",
        "gotcha\n",
        "gotcha\n",
        "new place: ATLANTIC BEACH,NC\n",
        "gotcha\n",
        "gotcha\n",
        "new place: FLEMING ISLAND,FL\n",
        "gotcha"
       ]
      },
      {
       "output_type": "stream",
       "stream": "stdout",
       "text": [
        "\n",
        "gotcha\n",
        "gotcha\n",
        "gotcha\n",
        "gotcha\n",
        "gotcha\n",
        "new place: AUBURNDALE,FL\n",
        "gotcha\n",
        "gotcha\n",
        "gotcha\n",
        "gotcha\n",
        "gotcha\n",
        "gotcha\n",
        "new place: ABINGTON,MA\n",
        "new place: WEBSTER GROVES,MO\n",
        "gotcha\n",
        "gotcha\n",
        "gotcha\n",
        "gotcha\n",
        "gotcha"
       ]
      },
      {
       "output_type": "stream",
       "stream": "stdout",
       "text": [
        "\n",
        "gotcha\n",
        "gotcha\n",
        "gotcha\n",
        "new place: FAYETTEVILLE,WV\n",
        "new place: HOLLAND,NY\n",
        "gotcha\n",
        "gotcha\n",
        "gotcha"
       ]
      },
      {
       "output_type": "stream",
       "stream": "stdout",
       "text": [
        "\n",
        "gotcha\n",
        "gotcha\n",
        "gotcha\n",
        "new place: WINTER HAVEN,FL\n",
        "new place: PASADENA,CA\n",
        "gotcha\n",
        "gotcha\n",
        "gotcha\n",
        "gotcha\n",
        "new place: SOUTH LAKE TAHOE,CA\n",
        "new place: PIQUA,OH\n",
        "gotcha\n",
        "gotcha\n",
        "gotcha\n",
        "gotcha\n",
        "new place:"
       ]
      },
      {
       "output_type": "stream",
       "stream": "stdout",
       "text": [
        " BIG LAKE,MN\n",
        "new place: LOUISVILLE,OH\n",
        "new place: DENTON,TX\n",
        "new place: BENICIA,CA\n",
        "gotcha\n",
        "gotcha\n",
        "new place: APT 532,MD\n",
        "gotcha\n",
        "gotcha\n",
        "new place: KEEDYSVILLE,MD\n",
        "gotcha"
       ]
      },
      {
       "output_type": "stream",
       "stream": "stdout",
       "text": [
        "\n",
        "gotcha\n",
        "new place: CHOWCHILLA,CA\n",
        "gotcha\n",
        "gotcha\n",
        "new place: GRANTSVILLE,WV\n",
        "new place: PORT HUENEME,CA\n",
        "new place: NEWBURGH,ME\n",
        "new place: SYRACUSE,NY\n",
        "gotcha\n",
        "gotcha\n",
        "new place: WINTHROP,MA\n",
        "new place:"
       ]
      },
      {
       "output_type": "stream",
       "stream": "stdout",
       "text": [
        " MCKINNEY,TX\n",
        "new place: WINTRHOP,MA\n",
        "new place: SARASOTA,FL\n",
        "new place: LILBURN,GA\n",
        "gotcha\n",
        "gotcha\n",
        "gotcha\n",
        "gotcha\n",
        "new place: DULLES,VA\n",
        "new place: JOHNS CREEK,GA\n",
        "gotcha\n",
        "gotcha\n",
        "gotcha"
       ]
      },
      {
       "output_type": "stream",
       "stream": "stdout",
       "text": [
        "\n",
        "gotcha\n",
        "gotcha\n",
        "gotcha\n",
        "gotcha\n",
        "gotcha\n",
        "new place: NILES,IL\n",
        "new place: JOHNS ISLAND,SC\n",
        "gotcha\n",
        "gotcha\n",
        "new place: MILLINGTON,TN\n",
        "new place:"
       ]
      },
      {
       "output_type": "stream",
       "stream": "stdout",
       "text": [
        " NORTH READING,MA\n",
        "gotcha\n",
        "gotcha\n",
        "new place: CLINTON,UT\n",
        "gotcha\n",
        "gotcha\n",
        "new place: GLEN RIDGE,NJ\n",
        "gotcha\n",
        "gotcha\n",
        "gotcha"
       ]
      },
      {
       "output_type": "stream",
       "stream": "stdout",
       "text": [
        "\n",
        "gotcha\n",
        "gotcha\n",
        "gotcha\n",
        "new place: BLOOMSBURY,NJ\n",
        "new place: CHINO,CA\n",
        "gotcha\n",
        "gotcha\n",
        "gotcha\n",
        "gotcha\n",
        "gotcha\n",
        "gotcha\n",
        "gotcha\n",
        "gotcha\n",
        "new place:"
       ]
      },
      {
       "output_type": "stream",
       "stream": "stdout",
       "text": [
        " MARSTONS MILLS,MA\n",
        "gotcha\n",
        "gotcha\n",
        "gotcha\n",
        "gotcha\n",
        "new place: GREENLAND,NH\n",
        "new place:"
       ]
      },
      {
       "output_type": "stream",
       "stream": "stdout",
       "text": [
        " WELLINGTON,FL\n",
        "gotcha\n",
        "gotcha\n",
        "gotcha\n",
        "gotcha\n",
        "gotcha\n",
        "gotcha\n",
        "new place: EAST SANDWICH,MA\n",
        "new place: MERCERVILLE,NJ\n",
        "new place: AURORA,IL\n",
        "gotcha\n",
        "gotcha\n",
        "gotcha\n",
        "gotcha\n",
        "new place:"
       ]
      },
      {
       "output_type": "stream",
       "stream": "stdout",
       "text": [
        " FALLBROOK,CA\n",
        "gotcha\n",
        "gotcha\n",
        "gotcha\n",
        "gotcha\n",
        "new place: OLMSTED FALLS,OH\n",
        "gotcha\n",
        "gotcha\n",
        "gotcha\n",
        "gotcha\n",
        "gotcha\n",
        "gotcha\n",
        "new place:"
       ]
      },
      {
       "output_type": "stream",
       "stream": "stdout",
       "text": [
        " CARDIFF BY THE SEA,CA\n",
        "gotcha\n",
        "gotcha\n",
        "new place: ALBURTIS,PA\n",
        "gotcha"
       ]
      },
      {
       "output_type": "stream",
       "stream": "stdout",
       "text": [
        "\n",
        "gotcha\n",
        "gotcha\n",
        "gotcha\n",
        "new place: ALPINE,CA\n",
        "new place: GRETNA,NE\n",
        "new place:"
       ]
      },
      {
       "output_type": "stream",
       "stream": "stdout",
       "text": [
        " DIXON,IL\n",
        "new place: LONG BEACH,NY\n",
        "gotcha\n",
        "gotcha\n",
        "gotcha\n",
        "gotcha\n",
        "gotcha\n",
        "gotcha\n",
        "new place: VAIL,CO\n",
        "gotcha\n",
        "gotcha\n",
        "new place: MARS HILL,NC\n",
        "new place: HARTSVILLE,SC\n",
        "gotcha\n",
        "gotcha\n",
        "gotcha"
       ]
      },
      {
       "output_type": "stream",
       "stream": "stdout",
       "text": [
        "\n",
        "gotcha\n",
        "gotcha\n",
        "gotcha\n",
        "new place: WALLINGFORD,CT\n",
        "gotcha\n",
        "gotcha\n",
        "new place: DALLAS,GA\n",
        "gotcha\n",
        "gotcha\n",
        "gotcha\n",
        "gotcha\n",
        "gotcha"
       ]
      },
      {
       "output_type": "stream",
       "stream": "stdout",
       "text": [
        "\n",
        "gotcha\n",
        "gotcha\n",
        "gotcha\n",
        "new place: GAINSEVILLE,VA\n",
        "gotcha\n",
        "gotcha\n",
        "gotcha"
       ]
      },
      {
       "output_type": "stream",
       "stream": "stdout",
       "text": [
        "\n",
        "gotcha\n",
        "new place: FRANKLINTON,NC\n",
        "gotcha\n",
        "gotcha\n",
        "gotcha\n",
        "gotcha\n",
        "new place: BELLA VISTA,AR\n",
        "new place: ORLANDO,DE\n",
        "new place:"
       ]
      },
      {
       "output_type": "stream",
       "stream": "stdout",
       "text": [
        " JOHNSTON,RI\n",
        "gotcha\n",
        "gotcha\n",
        "new place: VA BEACH,VA\n",
        "gotcha\n",
        "gotcha\n",
        "new place: CHEEKTOWAGA,NY\n",
        "new place: TROY,AL\n",
        "new place: BAY CITY,MI\n",
        "new place: LA PORTE CITY,IA\n",
        "new place: SWISHER,IA\n",
        "new place:"
       ]
      },
      {
       "output_type": "stream",
       "stream": "stdout",
       "text": [
        " ROGERS,AR\n",
        "new place: PORT MURRAY,NJ\n",
        "gotcha\n",
        "gotcha\n",
        "new place: FORT WAYNE,IN\n",
        "new place:"
       ]
      },
      {
       "output_type": "stream",
       "stream": "stdout",
       "text": [
        " PINEY POINT,MD\n",
        "new place: CHESTER,NJ\n",
        "gotcha\n",
        "gotcha\n",
        "gotcha\n",
        "gotcha\n",
        "gotcha\n",
        "gotcha\n",
        "gotcha\n",
        "gotcha\n",
        "new place: OCEAN ISLE BEACH,NC\n",
        "gotcha\n",
        "gotcha\n",
        "gotcha"
       ]
      },
      {
       "output_type": "stream",
       "stream": "stdout",
       "text": [
        "\n",
        "gotcha\n",
        "gotcha\n",
        "gotcha\n",
        "gotcha\n",
        "gotcha\n",
        "new place: MESA,AZ\n",
        "gotcha\n",
        "gotcha\n",
        "gotcha\n",
        "gotcha\n",
        "new place: LAKEWOOD RANCH,FL\n",
        "gotcha\n",
        "gotcha\n",
        "gotcha\n",
        "gotcha\n",
        "new place: PENINSULA,OH\n",
        "gotcha\n",
        "gotcha\n",
        "gotcha\n",
        "gotcha\n",
        "gotcha\n",
        "gotcha\n",
        "gotcha"
       ]
      },
      {
       "output_type": "stream",
       "stream": "stdout",
       "text": [
        "\n",
        "gotcha\n",
        "gotcha\n",
        "gotcha\n",
        "new place: MOOSUP,CT\n",
        "gotcha\n",
        "gotcha\n",
        "gotcha\n",
        "gotcha\n",
        "gotcha\n",
        "gotcha\n",
        "gotcha\n",
        "gotcha\n",
        "gotcha\n",
        "gotcha\n",
        "new place: WALFORD,IA\n",
        "gotcha"
       ]
      },
      {
       "output_type": "stream",
       "stream": "stdout",
       "text": [
        "\n",
        "gotcha\n",
        "gotcha\n",
        "gotcha\n",
        "new place: TARAWA TERRACE,NC\n",
        "new place: JEFFERSONVILLE,IN\n",
        "gotcha\n",
        "gotcha\n",
        "new place: CHARELSTON,SC\n",
        "new place: WASHINTON,DC\n",
        "gotcha\n",
        "gotcha\n",
        "new place: VALLEY STREAM,NY\n",
        "gotcha"
       ]
      },
      {
       "output_type": "stream",
       "stream": "stdout",
       "text": [
        "\n",
        "gotcha\n",
        "gotcha\n",
        "gotcha\n",
        "new place: NEWBURG,MO\n",
        "gotcha\n",
        "gotcha\n",
        "gotcha\n",
        "gotcha\n",
        "gotcha\n",
        "gotcha\n",
        "new place: PORT ROYAL,SC\n",
        "new place:"
       ]
      },
      {
       "output_type": "stream",
       "stream": "stdout",
       "text": [
        " CLARENDON HILLS,IL\n",
        "new place: SEBASTIAN,FL\n",
        "new place: CORONADO,CA\n",
        "gotcha\n",
        "gotcha\n",
        "gotcha\n",
        "gotcha\n",
        "gotcha"
       ]
      },
      {
       "output_type": "stream",
       "stream": "stdout",
       "text": [
        "\n",
        "gotcha\n",
        "new place: KENNEIWCK,WA\n",
        "gotcha\n",
        "gotcha\n",
        "gotcha\n",
        "gotcha\n",
        "gotcha\n",
        "gotcha\n",
        "gotcha"
       ]
      },
      {
       "output_type": "stream",
       "stream": "stdout",
       "text": [
        "\n",
        "gotcha\n",
        "gotcha\n",
        "gotcha\n",
        "gotcha\n",
        "gotcha\n",
        "gotcha\n",
        "gotcha\n",
        "gotcha\n",
        "gotcha\n",
        "gotcha\n",
        "gotcha\n",
        "gotcha"
       ]
      },
      {
       "output_type": "stream",
       "stream": "stdout",
       "text": [
        "\n",
        "gotcha\n",
        "new place: ARLINGTON,TN\n",
        "new place: GLENCOE,IL\n",
        "new place: QUAKERTOWN,PA\n",
        "gotcha\n",
        "gotcha\n",
        "gotcha\n",
        "gotcha\n",
        "new place: MONTVILLE,ME\n",
        "new place:"
       ]
      },
      {
       "output_type": "stream",
       "stream": "stdout",
       "text": [
        " SETAUKET,NY\n",
        "gotcha\n",
        "gotcha\n",
        "new place: CEDAR GROVE,NJ\n",
        "gotcha\n",
        "gotcha\n",
        "new place: RICHLANDS,NC\n",
        "new place: TRAVERSE CITY,MI\n",
        "gotcha\n",
        "gotcha\n",
        "gotcha\n",
        "gotcha\n",
        "gotcha\n",
        "gotcha\n",
        "new place:"
       ]
      },
      {
       "output_type": "stream",
       "stream": "stdout",
       "text": [
        " CUMBERLAND,VA\n",
        "new place: PORTLAND,CT\n",
        "gotcha\n",
        "gotcha\n",
        "gotcha"
       ]
      },
      {
       "output_type": "stream",
       "stream": "stdout",
       "text": [
        "\n",
        "gotcha\n",
        "gotcha\n",
        "gotcha\n",
        "gotcha\n",
        "gotcha\n",
        "gotcha\n",
        "gotcha\n",
        "new place: EDGEWOOD,MD\n",
        "gotcha\n",
        "gotcha\n",
        "gotcha\n",
        "gotcha\n",
        "new place: OXFORD,OH\n",
        "gotcha\n",
        "gotcha\n",
        "new place: SHAKOPEE,MN\n",
        "new place: LE SUEUR,MN\n",
        "new place:"
       ]
      },
      {
       "output_type": "stream",
       "stream": "stdout",
       "text": [
        " PITMAN,NJ\n",
        "gotcha\n",
        "gotcha\n",
        "new place: MACEDON,NY\n",
        "new place: ENOLA,PA\n",
        "gotcha\n",
        "gotcha\n",
        "gotcha\n",
        "gotcha\n",
        "gotcha\n",
        "gotcha\n",
        "gotcha\n",
        "gotcha\n",
        "new place: MENLO PARK,CA\n",
        "gotcha\n",
        "gotcha\n",
        "new place: CLAYTON,NC\n",
        "new place:"
       ]
      },
      {
       "output_type": "stream",
       "stream": "stdout",
       "text": [
        " JAMESTOWN,NY\n",
        "gotcha\n",
        "gotcha\n",
        "gotcha\n",
        "gotcha\n",
        "gotcha\n",
        "gotcha\n",
        "gotcha\n",
        "gotcha\n",
        "gotcha\n",
        "gotcha\n",
        "gotcha\n",
        "gotcha\n",
        "new place: WATCHUNG,NJ\n",
        "new place: CHERRY HILL,NJ\n",
        "gotcha\n",
        "gotcha\n",
        "gotcha\n",
        "gotcha\n",
        "gotcha"
       ]
      },
      {
       "output_type": "stream",
       "stream": "stdout",
       "text": [
        "\n",
        "gotcha\n",
        "gotcha\n",
        "gotcha\n",
        "new place: DEL RIO,TX\n",
        "gotcha\n",
        "gotcha\n",
        "gotcha\n",
        "gotcha\n",
        "new place: MANHATTAN BEACH,CA\n",
        "new place: MANLIUS,NY\n",
        "gotcha\n",
        "gotcha\n",
        "new place: GLENVIEW,IL\n",
        "gotcha"
       ]
      },
      {
       "output_type": "stream",
       "stream": "stdout",
       "text": [
        "\n",
        "gotcha\n",
        "new place: NEPTUNE CITY,NJ\n",
        "gotcha\n",
        "gotcha\n",
        "gotcha\n",
        "gotcha\n",
        "new place: WELLS,ME\n",
        "gotcha\n",
        "gotcha\n",
        "gotcha\n",
        "gotcha\n",
        "new place: KINGSTREE,SC\n",
        "new place: PORTOLA HILLS,CA\n",
        "new place: FREDERICK MD,MD\n",
        "gotcha\n",
        "gotcha\n",
        "new place: OCEAN SPRINGS,MS\n",
        "new place: BEAVER FALLS,PA\n",
        "gotcha\n",
        "gotcha\n",
        "gotcha"
       ]
      },
      {
       "output_type": "stream",
       "stream": "stdout",
       "text": [
        "\n",
        "gotcha\n",
        "gotcha\n",
        "gotcha\n",
        "gotcha\n",
        "gotcha\n",
        "new place: RURAL HALL,NC\n",
        "gotcha\n",
        "gotcha\n",
        "new place: LOUDON,TN\n",
        "gotcha\n",
        "gotcha\n",
        "new place:"
       ]
      },
      {
       "output_type": "stream",
       "stream": "stdout",
       "text": [
        " HOMER,NY\n",
        "new place: WARREN,RI\n",
        "gotcha\n",
        "gotcha\n",
        "new place: ONTARIO,CA\n",
        "gotcha\n",
        "gotcha\n",
        "new place: ASTORIA,NY\n",
        "new place: GROSSE POINTE FARM,MI\n",
        "new place: HEWITT,TX\n",
        "gotcha\n",
        "gotcha\n",
        "gotcha\n",
        "gotcha\n",
        "new place: STEPHENVILLE,TX\n",
        "new place:"
       ]
      },
      {
       "output_type": "stream",
       "stream": "stdout",
       "text": [
        " PISGAH FOREST,NC\n",
        "new place: AUBURN,ME\n",
        "new place: SCIOTA,PA\n",
        "gotcha\n",
        "gotcha\n",
        "new place: GALLOWAY,NJ\n",
        "new place: CONROE,TX\n",
        "gotcha\n",
        "gotcha\n",
        "new place: AVON LAKE,OH\n",
        "gotcha\n",
        "gotcha\n",
        "new place:"
       ]
      },
      {
       "output_type": "stream",
       "stream": "stdout",
       "text": [
        " FRAMINGHAM,MA\n",
        "gotcha\n",
        "gotcha\n",
        "new place: MILFORD,CT\n",
        "gotcha\n",
        "gotcha\n",
        "new place: CARLISLE,MA\n",
        "new place: WILTON,NH\n",
        "gotcha\n",
        "gotcha\n",
        "gotcha\n",
        "gotcha\n",
        "new place: FOREST,VA\n",
        "new place:"
       ]
      },
      {
       "output_type": "stream",
       "stream": "stdout",
       "text": [
        " DANFORTH,IL\n",
        "new place: BRIDGE CITY,TX\n",
        "gotcha\n",
        "gotcha\n",
        "new place: POWELL,OH\n",
        "gotcha\n",
        "gotcha\n",
        "gotcha"
       ]
      },
      {
       "output_type": "stream",
       "stream": "stdout",
       "text": [
        "\n",
        "gotcha\n",
        "new place: LINCOLN PARK,NJ\n",
        "gotcha\n",
        "gotcha\n",
        "gotcha\n",
        "gotcha\n",
        "gotcha\n",
        "gotcha\n",
        "new place: KALAMAZOO,MI\n",
        "gotcha\n",
        "gotcha\n",
        "new place: FLINT,MI\n",
        "new place: SOMERS POINT,NJ\n",
        "new place: WINDSOR,PA\n",
        "new place:"
       ]
      },
      {
       "output_type": "stream",
       "stream": "stdout",
       "text": [
        " LANSING,KS\n",
        "gotcha\n",
        "gotcha\n",
        "new place: EASTABOGA,AL\n",
        "gotcha\n",
        "gotcha\n",
        "new place: ASPINWALL,PA\n",
        "gotcha\n",
        "gotcha\n",
        "gotcha\n",
        "gotcha\n",
        "new place: BANGOR,PA\n",
        "new place:"
       ]
      },
      {
       "output_type": "stream",
       "stream": "stdout",
       "text": [
        " MOUNT VERNON,NY\n",
        "gotcha\n",
        "gotcha\n",
        "gotcha\n",
        "gotcha\n",
        "new place: POUGHKEEPSIE,NY\n",
        "new place: BELMONT,NC\n",
        "new place: CRAMERTON,NC\n",
        "gotcha"
       ]
      },
      {
       "output_type": "stream",
       "stream": "stdout",
       "text": [
        "\n",
        "gotcha\n",
        "gotcha\n",
        "gotcha\n",
        "gotcha\n",
        "gotcha\n",
        "new place: MANHEIM,PA\n",
        "new place: JUPITER,FL\n",
        "gotcha\n",
        "gotcha\n",
        "gotcha\n",
        "gotcha\n",
        "gotcha\n",
        "gotcha\n",
        "new place: SIOUX CITY,IA\n",
        "gotcha\n",
        "gotcha\n",
        "gotcha"
       ]
      },
      {
       "output_type": "stream",
       "stream": "stdout",
       "text": [
        "\n",
        "gotcha\n",
        "gotcha\n",
        "gotcha\n",
        "gotcha\n",
        "gotcha\n",
        "gotcha\n",
        "gotcha\n",
        "new place: SLINGERLANDS,NY\n",
        "gotcha\n",
        "gotcha\n",
        "gotcha\n",
        "gotcha\n",
        "gotcha"
       ]
      },
      {
       "output_type": "stream",
       "stream": "stdout",
       "text": [
        "\n",
        "gotcha\n",
        "gotcha"
       ]
      },
      {
       "output_type": "stream",
       "stream": "stdout",
       "text": [
        "\n",
        "gotcha\n",
        "new place: KENWOOD,CA\n",
        "gotcha"
       ]
      },
      {
       "output_type": "stream",
       "stream": "stdout",
       "text": [
        "\n",
        "gotcha\n",
        "new place: PIKESVILLE,MD\n",
        "new place: MAINEVILLE,OH\n",
        "new place: MIDDLETOWN,VA\n",
        "gotcha"
       ]
      },
      {
       "output_type": "stream",
       "stream": "stdout",
       "text": [
        "\n",
        "gotcha\n",
        "new place: CLAYTON,SC\n",
        "gotcha\n",
        "gotcha\n",
        "gotcha\n",
        "gotcha\n",
        "new place: EL SEGUNDO,CA\n",
        "gotcha\n",
        "gotcha\n",
        "gotcha\n",
        "gotcha\n",
        "gotcha"
       ]
      },
      {
       "output_type": "stream",
       "stream": "stdout",
       "text": [
        "\n",
        "gotcha\n",
        "gotcha\n",
        "gotcha\n",
        "gotcha\n",
        "gotcha\n",
        "new place: LAKE MARY,FL\n",
        "gotcha\n",
        "gotcha\n",
        "gotcha\n",
        "gotcha\n",
        "new place: NEW BERLIN,WI\n",
        "new place: NORRISTOWN,PA\n",
        "new place: MINDEN,NV\n",
        "gotcha\n",
        "gotcha\n",
        "gotcha"
       ]
      },
      {
       "output_type": "stream",
       "stream": "stdout",
       "text": [
        "\n",
        "gotcha\n",
        "gotcha\n",
        "gotcha\n",
        "gotcha\n",
        "gotcha\n",
        "gotcha\n",
        "gotcha\n",
        "gotcha\n",
        "gotcha\n",
        "gotcha\n",
        "gotcha\n",
        "gotcha"
       ]
      },
      {
       "output_type": "stream",
       "stream": "stdout",
       "text": [
        "\n",
        "gotcha\n",
        "new place: EUREKA,CA\n",
        "gotcha\n",
        "gotcha\n",
        "new place: LANDENBERG,PA\n",
        "new place: CARTERSVILLE,GA\n",
        "gotcha\n",
        "gotcha\n",
        "gotcha\n",
        "gotcha\n",
        "gotcha\n",
        "gotcha\n",
        "new place: WESTFORD,MA\n",
        "gotcha\n",
        "gotcha"
       ]
      },
      {
       "output_type": "stream",
       "stream": "stdout",
       "text": [
        "\n",
        "new place: GALENA,OH\n",
        "gotcha\n",
        "gotcha\n",
        "new place: MAPLE GROVE,MN\n",
        "gotcha\n",
        "gotcha\n",
        "gotcha\n",
        "gotcha\n",
        "new place: PARK CITY,UT\n",
        "gotcha\n",
        "gotcha\n",
        "gotcha\n",
        "gotcha\n",
        "gotcha"
       ]
      },
      {
       "output_type": "stream",
       "stream": "stdout",
       "text": [
        "\n",
        "gotcha\n",
        "new place: ELMA,NY\n",
        "gotcha\n",
        "gotcha\n",
        "gotcha\n",
        "gotcha\n",
        "gotcha\n",
        "gotcha\n",
        "new place: DOVER,TN\n",
        "gotcha\n",
        "gotcha\n",
        "gotcha\n",
        "gotcha\n",
        "gotcha"
       ]
      },
      {
       "output_type": "stream",
       "stream": "stdout",
       "text": [
        "\n",
        "gotcha\n",
        "new place: LAURELDALE,PA\n",
        "new place: SHAWNEE,KS\n",
        "gotcha\n",
        "gotcha\n",
        "gotcha\n",
        "gotcha\n",
        "gotcha\n",
        "gotcha\n",
        "gotcha\n",
        "gotcha\n",
        "new place:"
       ]
      },
      {
       "output_type": "stream",
       "stream": "stdout",
       "text": [
        " VERONA,WI\n",
        "gotcha\n",
        "gotcha\n",
        "gotcha\n",
        "gotcha\n",
        "gotcha\n",
        "gotcha\n",
        "new place: NORWICH,VT\n",
        "gotcha\n",
        "gotcha\n",
        "gotcha\n",
        "gotcha\n",
        "new place:"
       ]
      },
      {
       "output_type": "stream",
       "stream": "stdout",
       "text": [
        " CELEBRATION,FL\n",
        "gotcha\n",
        "gotcha\n",
        "new place: MONROEVILLE,PA\n",
        "gotcha\n",
        "gotcha\n",
        "new place: GFAFB,ND\n",
        "gotcha\n",
        "gotcha\n",
        "gotcha\n",
        "gotcha\n",
        "new place: DANVERS,MA\n",
        "gotcha\n",
        "gotcha\n",
        "gotcha\n",
        "gotcha\n",
        "new place: NAHANT,MA\n",
        "gotcha"
       ]
      },
      {
       "output_type": "stream",
       "stream": "stdout",
       "text": [
        "\n",
        "gotcha\n",
        "new place: CLAY,NY\n",
        "gotcha\n",
        "gotcha\n",
        "new place: NEW HARTFORD,NY\n",
        "new place: DETROIT,MI\n",
        "new place: LEESBURG,NC\n",
        "new place: RAPIDAN,VA\n",
        "gotcha\n",
        "gotcha\n",
        "gotcha\n",
        "gotcha\n",
        "new place:"
       ]
      },
      {
       "output_type": "stream",
       "stream": "stdout",
       "text": [
        " CHERRY POINT,NC\n",
        "new place: LARWILL,IN\n",
        "gotcha\n",
        "gotcha\n",
        "gotcha\n",
        "gotcha\n",
        "gotcha\n",
        "gotcha\n",
        "gotcha\n",
        "gotcha\n",
        "gotcha\n",
        "gotcha\n",
        "new place: KEESLER AFB,MS\n",
        "new place:"
       ]
      },
      {
       "output_type": "stream",
       "stream": "stdout",
       "text": [
        " TILTON,NH\n",
        "gotcha\n",
        "gotcha\n",
        "new place: LEAWOOD,KS\n",
        "gotcha\n",
        "gotcha\n",
        "new place: HILLARD,OH\n",
        "gotcha\n",
        "gotcha\n",
        "new place: PANGBURN,AR\n",
        "new place: DULUTH,MN\n",
        "new place: CUMBERLAND FORESID,ME\n",
        "new place:"
       ]
      },
      {
       "output_type": "stream",
       "stream": "stdout",
       "text": [
        " KEARNEY,NE\n",
        "gotcha\n",
        "gotcha\n",
        "new place: GAINESVILLE,GA\n",
        "gotcha\n",
        "gotcha\n",
        "gotcha\n",
        "gotcha\n",
        "new place: WINDEREMERE,FL\n",
        "gotcha\n",
        "gotcha\n",
        "gotcha"
       ]
      },
      {
       "output_type": "stream",
       "stream": "stdout",
       "text": [
        "\n",
        "gotcha\n",
        "gotcha\n",
        "gotcha\n",
        "new place: SAINT JAMES,NY\n",
        "new place: RICHLAND HILLS,TX\n",
        "gotcha\n",
        "gotcha\n",
        "gotcha\n",
        "gotcha\n",
        "new place: MENAND,NY\n",
        "new place: ATLANTIC BEACH,FL\n",
        "gotcha\n",
        "gotcha\n",
        "new place: BUCKLEY,MI\n",
        "new place:"
       ]
      },
      {
       "output_type": "stream",
       "stream": "stdout",
       "text": [
        " MARSHALLTOWN,IA\n",
        "new place: ENFIELD,NH\n",
        "gotcha\n",
        "gotcha\n",
        "gotcha\n",
        "gotcha\n",
        "new place: OCOEE,FL\n",
        "new place: NORTH ADAMS,MA\n",
        "gotcha\n",
        "gotcha\n",
        "gotcha\n",
        "gotcha\n",
        "gotcha\n",
        "gotcha\n",
        "new place: MISSION HILLS,KS\n",
        "gotcha"
       ]
      },
      {
       "output_type": "stream",
       "stream": "stdout",
       "text": [
        "\n",
        "gotcha\n",
        "gotcha\n",
        "gotcha\n",
        "gotcha\n",
        "gotcha\n",
        "new place: BRISTOL,VA\n",
        "gotcha\n",
        "gotcha\n",
        "gotcha"
       ]
      },
      {
       "output_type": "stream",
       "stream": "stdout",
       "text": [
        "\n",
        "gotcha\n",
        "gotcha\n",
        "gotcha\n",
        "new place: WATHA,NC\n",
        "gotcha\n",
        "gotcha\n",
        "gotcha\n",
        "gotcha\n",
        "new place: ADELPHI,MD\n",
        "new place: BROWNSVILLE,TX\n",
        "new place: METHUEN,MA\n",
        "new place:"
       ]
      },
      {
       "output_type": "stream",
       "stream": "stdout",
       "text": [
        " BLUE SPRINGS,MO\n",
        "new place: BERKLEY,MA\n",
        "gotcha\n",
        "gotcha\n",
        "new place: LEWISVILLE,NC\n",
        "new place: EDGEWATER,NJ\n",
        "new place: STURBRIDGE,MA\n",
        "new place: LAKE WORTH,FL\n",
        "new place: MILLBURY,MA\n",
        "gotcha\n",
        "gotcha\n",
        "gotcha\n",
        "gotcha\n",
        "gotcha\n",
        "gotcha\n",
        "gotcha"
       ]
      },
      {
       "output_type": "stream",
       "stream": "stdout",
       "text": [
        "\n",
        "gotcha\n",
        "new place: HAWTHORNE,NJ\n",
        "new place: LYNN HAVEN,FL\n",
        "gotcha\n",
        "gotcha\n",
        "new place: ORFORD,NH\n",
        "gotcha\n",
        "gotcha\n",
        "gotcha\n",
        "gotcha\n",
        "new place: STONE MOUNTAIN,GA\n",
        "gotcha\n",
        "gotcha\n",
        "gotcha\n",
        "gotcha\n",
        "gotcha"
       ]
      },
      {
       "output_type": "stream",
       "stream": "stdout",
       "text": [
        "\n",
        "gotcha\n",
        "gotcha\n",
        "gotcha\n",
        "new place: CHESTERTON,IN\n",
        "gotcha\n",
        "gotcha\n",
        "gotcha\n",
        "gotcha\n",
        "new place: WANTAGH,NY\n",
        "gotcha\n",
        "gotcha\n",
        "gotcha\n",
        "gotcha\n",
        "new place: HENRIETTA,NY\n",
        "gotcha"
       ]
      },
      {
       "output_type": "stream",
       "stream": "stdout",
       "text": [
        "\n",
        "gotcha\n",
        "new place: ANNAPLOS,MD\n",
        "new place: CHINO HILLS,CA\n",
        "gotcha\n",
        "gotcha\n",
        "gotcha\n",
        "gotcha\n",
        "new place:"
       ]
      },
      {
       "output_type": "stream",
       "stream": "stdout",
       "text": [
        " KENMORE,WA\n",
        "new place: ABERDEEN,NJ\n",
        "new place: TAYLORS,SC\n",
        "gotcha\n",
        "gotcha\n",
        "gotcha\n",
        "gotcha\n",
        "new place: NORTH EAST,MD\n",
        "gotcha"
       ]
      },
      {
       "output_type": "stream",
       "stream": "stdout",
       "text": [
        "\n",
        "gotcha\n",
        "new place: LEAGUE CITY,TX\n",
        "gotcha\n",
        "gotcha\n",
        "gotcha\n",
        "gotcha\n",
        "new place: WALDOBORO,ME\n",
        "new place: HOLLISTON,MA\n",
        "gotcha\n",
        "gotcha\n",
        "gotcha\n",
        "gotcha\n",
        "new place: CORE,WV\n",
        "gotcha\n",
        "gotcha\n",
        "gotcha"
       ]
      },
      {
       "output_type": "stream",
       "stream": "stdout",
       "text": [
        "\n",
        "gotcha\n",
        "new place: TUBA CITY,AZ\n",
        "gotcha\n",
        "gotcha\n",
        "gotcha\n",
        "gotcha\n",
        "new place: STONEHAM,MA\n",
        "new place: WHITMAN,MA\n",
        "new place:"
       ]
      },
      {
       "ename": "KeyboardInterrupt",
       "evalue": "",
       "output_type": "pyerr",
       "traceback": [
        "\u001b[0;31m---------------------------------------------------------------------------\u001b[0m\n\u001b[0;31mKeyboardInterrupt\u001b[0m                         Traceback (most recent call last)",
        "\u001b[0;32m<ipython-input-1-f95140139a78>\u001b[0m in \u001b[0;36m<module>\u001b[0;34m()\u001b[0m\n\u001b[1;32m     27\u001b[0m     \u001b[0;32mfor\u001b[0m \u001b[0mP\u001b[0m \u001b[0;32min\u001b[0m \u001b[0mPlaces_counts\u001b[0m\u001b[0;34m:\u001b[0m\u001b[0;34m\u001b[0m\u001b[0m\n\u001b[1;32m     28\u001b[0m \u001b[0;34m\u001b[0m\u001b[0m\n\u001b[0;32m---> 29\u001b[0;31m         \u001b[0;32mif\u001b[0m \u001b[0mr\u001b[0m\u001b[0;34m[\u001b[0m\u001b[0;34m'Location'\u001b[0m\u001b[0;34m]\u001b[0m\u001b[0;34m==\u001b[0m\u001b[0mP\u001b[0m\u001b[0;34m:\u001b[0m  \u001b[0;31m#runner is from that place\u001b[0m\u001b[0;34m\u001b[0m\u001b[0m\n\u001b[0m\u001b[1;32m     30\u001b[0m                 \u001b[0;32mif\u001b[0m \u001b[0mP\u001b[0m \u001b[0;32min\u001b[0m \u001b[0mPlaces_dic\u001b[0m\u001b[0;34m:\u001b[0m\u001b[0;34m\u001b[0m\u001b[0m\n\u001b[1;32m     31\u001b[0m                   \u001b[0;31m#not the first time, add info to this location\u001b[0m\u001b[0;34m\u001b[0m\u001b[0;34m\u001b[0m\u001b[0m\n",
        "\u001b[0;31mKeyboardInterrupt\u001b[0m: "
       ]
      },
      {
       "output_type": "stream",
       "stream": "stdout",
       "text": [
        " MOSCOW MILLS,MO\n",
        "gotcha\n",
        "gotcha\n",
        "gotcha\n",
        "gotcha\n",
        "new place: EAGLEVILLE,PA\n",
        "new place: OAKLAND PARK,FL\n",
        "gotcha\n",
        "gotcha\n",
        "gotcha\n",
        "gotcha\n"
       ]
      }
     ],
     "prompt_number": 1
    },
    {
     "cell_type": "code",
     "collapsed": false,
     "input": [
      "NCR={\"Time_H_m\":Time_H_m,\"HTime_m\":HTime_m,\"Ages_H_m\":Ages_H_m,\n",
      "    \"Time_H_f\":Time_H_f,\"HTime_f\":HTime_f,\"Ages_H_f\":Ages_H_f,\n",
      "    \"Ages_m\":Ages_m,\"Time_m\":Time_m,\n",
      "    \"Ages_f\":Ages_f,\"Time_f\":Time_f}\n",
      "\n",
      "#SAVE to file\n",
      "import pickle \n",
      "pickle.dump( NCR, open( \"NCR-set.pck\", \"wb\" ) )\n",
      "#pickle.load( open( \"save.p\", \"rb\" ) )"
     ],
     "language": "python",
     "metadata": {},
     "outputs": []
    }
   ],
   "metadata": {}
  }
 ]
}